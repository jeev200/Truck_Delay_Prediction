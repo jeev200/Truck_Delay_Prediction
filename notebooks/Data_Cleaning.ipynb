{
 "cells": [
  {
   "cell_type": "code",
   "execution_count": 1496,
   "id": "3c66e13b",
   "metadata": {},
   "outputs": [],
   "source": [
    "import sys\n",
    "\n",
    "# Navigate up two directories to the project root, then to src/components\n",
    "module_path = '../../src/components'\n",
    "if module_path not in sys.path:\n",
    "    sys.path.append(module_path)\n",
    "\n",
    "# Now import the PostgreSQLIngestion class\n",
    "from data_ingestion import PostgreSQLIngestion\n"
   ]
  },
  {
   "cell_type": "code",
   "execution_count": 1497,
   "id": "c661158b",
   "metadata": {},
   "outputs": [],
   "source": [
    "# Configuration for database connection\n",
    "db_config = {\n",
    "    'host': 'localhost',\n",
    "    'port': 5432,\n",
    "    'dbname': 'truckdb',\n",
    "    'user': 'postgres',\n",
    "    'password': 'mysecretpassword'\n",
    "}\n",
    "\n",
    "# Create an instance of the ingestion class\n",
    "ingestion = PostgreSQLIngestion(db_config)\n"
   ]
  },
  {
   "cell_type": "code",
   "execution_count": 1504,
   "id": "20c16dac",
   "metadata": {},
   "outputs": [
    {
     "name": "stdout",
     "output_type": "stream",
     "text": [
      "Database connection successful.\n",
      "Error fetching data from table drivers: 'Engine' object has no attribute 'cursor'\n",
      "Failed to fetch data. DataFrame is None.\n"
     ]
    },
    {
     "name": "stderr",
     "output_type": "stream",
     "text": [
      "/Users/jeevanapathipati/Documents/TruckDelay/notebooks/../src/components/data_ingestion.py:29: UserWarning: pandas only supports SQLAlchemy connectable (engine/connection) or database string URI or sqlite3 DBAPI2 connection. Other DBAPI2 objects are not tested. Please consider using SQLAlchemy.\n",
      "  return pd.read_sql_query(query, self.engine)\n"
     ]
    }
   ],
   "source": [
    "\n",
    "ingestion.connect()\n",
    "\n",
    "drivers_df = ingestion.fetch_data('drivers')\n",
    "if drivers_df is None:\n",
    "    print(\"Failed to fetch data. DataFrame is None.\")\n",
    "else:\n",
    "    print(drivers_df.head())"
   ]
  },
  {
   "cell_type": "code",
   "execution_count": null,
   "id": "f0610d2d",
   "metadata": {},
   "outputs": [],
   "source": [
    "\n",
    "drivers_df.dropna(inplace=True)\n",
    "drivers_df['experience'] = drivers_df['experience'].astype(int)"
   ]
  },
  {
   "cell_type": "code",
   "execution_count": 1502,
   "id": "cfe3c401",
   "metadata": {},
   "outputs": [],
   "source": [
    "import pandas as pd\n",
    "import numpy as np\n",
    "import matplotlib.pyplot as plt\n",
    "import seaborn as sns\n",
    "sns.set(style=\"whitegrid\")\n",
    "from sklearn.impute import KNNImputer\n"
   ]
  },
  {
   "cell_type": "code",
   "execution_count": 1503,
   "id": "b606dced",
   "metadata": {},
   "outputs": [
    {
     "name": "stdout",
     "output_type": "stream",
     "text": [
      "Error fetching data from table drivers: 'NoneType' object has no attribute 'cursor'\n"
     ]
    },
    {
     "ename": "AttributeError",
     "evalue": "'NoneType' object has no attribute 'head'",
     "output_type": "error",
     "traceback": [
      "\u001b[0;31m---------------------------------------------------------------------------\u001b[0m",
      "\u001b[0;31mAttributeError\u001b[0m                            Traceback (most recent call last)",
      "\u001b[1;32m/Users/jeevanapathipati/Documents/TruckDelay/notebooks/Data_Cleaning.ipynb Cell 5\u001b[0m line \u001b[0;36m3\n\u001b[1;32m      <a href='vscode-notebook-cell:/Users/jeevanapathipati/Documents/TruckDelay/notebooks/Data_Cleaning.ipynb#Y356sZmlsZQ%3D%3D?line=0'>1</a>\u001b[0m \u001b[39m# Use the instance to fetch data directly\u001b[39;00m\n\u001b[1;32m      <a href='vscode-notebook-cell:/Users/jeevanapathipati/Documents/TruckDelay/notebooks/Data_Cleaning.ipynb#Y356sZmlsZQ%3D%3D?line=1'>2</a>\u001b[0m drivers_df \u001b[39m=\u001b[39m ingestion\u001b[39m.\u001b[39mfetch_data(\u001b[39m'\u001b[39m\u001b[39mdrivers\u001b[39m\u001b[39m'\u001b[39m)\n\u001b[0;32m----> <a href='vscode-notebook-cell:/Users/jeevanapathipati/Documents/TruckDelay/notebooks/Data_Cleaning.ipynb#Y356sZmlsZQ%3D%3D?line=2'>3</a>\u001b[0m drivers_df\u001b[39m.\u001b[39;49mhead()\n",
      "\u001b[0;31mAttributeError\u001b[0m: 'NoneType' object has no attribute 'head'"
     ]
    }
   ],
   "source": [
    "# Use the instance to fetch data directly\n",
    "drivers_df = ingestion.fetch_data('drivers')\n",
    "drivers_df.head()"
   ]
  },
  {
   "cell_type": "markdown",
   "id": "78cf624a",
   "metadata": {},
   "source": [
    "# Data Cleaning Notebook\n",
    "This notebook contains automated data cleaning procedures for multiple datasets related to a transportation project. The processes include removing unwanted columns, handling missing values, detecting and removing outliers, and visualizing data distributions."
   ]
  },
  {
   "cell_type": "code",
   "execution_count": 1433,
   "id": "3a0ad037",
   "metadata": {},
   "outputs": [],
   "source": [
    "\n",
    "# Function to drop unwanted columns\n",
    "def drop_columns(df, columns):\n",
    "    if isinstance(columns, str):\n",
    "        columns = [columns]  # Convert a single column name into a list\n",
    "    return df.drop(columns=columns)\n",
    "\n",
    "\n",
    "def remove_duplicates(df):\n",
    "    # Remove duplicates while keeping the first occurrence\n",
    "    return df.drop_duplicates(keep='first')\n",
    "\n",
    "\n",
    "# Function to handle missing values\n",
    "def filling_missing_values(dataframe, n_neighbors=5):\n",
    "    # Create imputer instances\n",
    "    knn_imputer = KNNImputer(n_neighbors=n_neighbors)\n",
    "    \n",
    "    # Separate numeric and non-numeric columns\n",
    "    numeric_cols = dataframe.select_dtypes(include=['number']).columns\n",
    "    non_numeric_cols = dataframe.select_dtypes(include=['object']).columns\n",
    "    \n",
    "    # Process numeric columns\n",
    "    for col in numeric_cols:\n",
    "        if dataframe[col].isnull().sum() > 0:\n",
    "            # Apply KNN imputer to numeric columns with missing values\n",
    "            dataframe[col] = knn_imputer.fit_transform(dataframe[[col]])\n",
    "    \n",
    "    # Process non-numeric columns\n",
    "    for col in non_numeric_cols:\n",
    "        if dataframe[col].isnull().sum() > 0:\n",
    "            # Apply mode imputation\n",
    "            mode_value = dataframe[col].mode()[0]  # Get the most frequent value\n",
    "            dataframe[col]=dataframe[col].fillna(mode_value)\n",
    "    \n",
    "    \n",
    "    return dataframe\n",
    "# def handle_missing_values(df, columns, method='mean'):\n",
    "#     if isinstance(columns, str):\n",
    "#         columns = [columns]  # Convert a single column name into a list\n",
    "#     for column in columns:\n",
    "#         if method == 'drop':\n",
    "#             df = df.dropna(subset=[column])\n",
    "#         elif method == 'mean':\n",
    "#             if df[column].dtype in ['float64', 'int64']:\n",
    "#                 df[column] = df[column].fillna(df[column].mean())\n",
    "#         elif method == 'median':\n",
    "#             if df[column].dtype in ['float64', 'int64']:\n",
    "#                 df[column] = df[column].fillna(df[column].median())\n",
    "#         elif method == 'mode':\n",
    "#             df[column] = df[column].fillna(df[column].mode()[0])\n",
    "#     return df\n",
    "\n",
    "\n",
    "# # Function to detect and handle outliers using IQR\n",
    "def remove_outliers(df):\n",
    "    numerical_cols = df.select_dtypes(include=[np.number]).columns\n",
    "    \n",
    "    # Calculate IQR for each numerical column\n",
    "    Q1 = df[numerical_cols].quantile(0.25)\n",
    "    Q3 = df[numerical_cols].quantile(0.75)\n",
    "    IQR = Q3 - Q1\n",
    "\n",
    "    # Define bounds for the non-outlier data\n",
    "    lower_bound = Q1 - 1.5 * IQR\n",
    "    upper_bound = Q3 + 1.5 * IQR\n",
    "\n",
    "    # Filter the dataframe to remove outliers based on the bounds\n",
    "    # Apply bounds to each column individually\n",
    "    filter_conditions = (df[numerical_cols] >= lower_bound) & (df[numerical_cols] <= upper_bound)\n",
    "    filtered_df = df[filter_conditions.all(axis=1)]  # Keep rows where all conditions are true\n",
    "    \n",
    "    return filtered_df\n",
    "\n",
    "\n",
    "def display_unique_values(df, columns=None):\n",
    "    if columns is None:  # If no specific columns are provided, use all columns\n",
    "        columns = df.columns\n",
    "\n",
    "    for column in columns:\n",
    "        if column in df.columns:  # Check if the specified column exists in the DataFrame\n",
    "            unique_vals = df[column].unique()\n",
    "            unique_count = len(unique_vals)\n",
    "            print(f\"Unique values in '{column}' ({unique_count} total):\")\n",
    "            print(unique_vals) # Display all unique values, sorted for better readability\n",
    "        else:\n",
    "            print(f\"Column '{column}' does not exist in the DataFrame.\")\n",
    "\n",
    "\n",
    "import pandas as pd\n",
    "\n",
    "def combine_date_hour(df, date_col, hour_col, new_col_name='datetime', default_sec='00'):\n",
    "   \n",
    "    # Convert hour column to string and ensure it is zero-padded to four digits\n",
    "    df[hour_col] = df[hour_col].astype(str).str.zfill(4)\n",
    "\n",
    "    # Combine the date and hour columns into a datetime column\n",
    "    df[new_col_name] = pd.to_datetime(df[date_col].astype(str) + ' ' +\n",
    "                                      df[hour_col].str.slice(0, 2) + ':' +\n",
    "                                      df[hour_col].str.slice(2, 4) + ':' +\n",
    "                                      default_sec)\n",
    "\n",
    "    return df\n",
    "\n",
    "def convert_estimated_arrival(dataframe, column_name):\n",
    "    # Convert the specified column to datetime\n",
    "    dataframe[column_name] = pd.to_datetime(dataframe[column_name])\n",
    "    \n",
    "    # Remove milliseconds from the datetime\n",
    "    dataframe[column_name] = dataframe[column_name].dt.floor('s')\n",
    "    \n",
    "    return dataframe\n",
    "\n",
    "        \n",
    "\n",
    "def add_index_and_eventtime_columns(df):\n",
    "    # Create an index column with integer data type\n",
    "    df['index'] = range(len(df))\n",
    "    \n",
    "    # Create an eventtime column with the current date\n",
    "    # Ensure the column is of datetime type\n",
    "    df['eventtime'] = pd.to_datetime(pd.Timestamp.now().date())\n",
    "    \n",
    "    return df\n",
    "\n",
    "\n",
    "\n"
   ]
  },
  {
   "cell_type": "code",
   "execution_count": 1434,
   "id": "bca225ed",
   "metadata": {},
   "outputs": [],
   "source": [
    "# Function to visualize data\n",
    "def visualize_data(df, columns):\n",
    "    if isinstance(columns, str):\n",
    "        columns = [columns]  # Convert a single column name into a list\n",
    "    num_cols = len(columns)\n",
    "    if num_cols == 1:\n",
    "        plt.figure(figsize=(6, 4))  # Set figure size for a single plot\n",
    "        sns.boxplot(x=df[columns[0]])\n",
    "        plt.title(f'Distribution of {columns[0]}')\n",
    "        plt.show()\n",
    "    else:\n",
    "        fig, axes = plt.subplots(1, num_cols, figsize=(6 * num_cols, 4))  # Adjust the size based on the number of columns\n",
    "        for i, column in enumerate(columns):\n",
    "            sns.boxplot(x=df[column], ax=axes[i])\n",
    "            axes[i].set_title(f'Distribution of {column}')\n",
    "        plt.tight_layout()\n",
    "        plt.show()"
   ]
  },
  {
   "cell_type": "markdown",
   "id": "a829ec37",
   "metadata": {},
   "source": [
    "City Weather Data Cleaning"
   ]
  },
  {
   "cell_type": "code",
   "execution_count": 1208,
   "id": "491dcb58",
   "metadata": {},
   "outputs": [],
   "source": [
    "city_weather = pd.read_csv('/Users/jeevanapathipati/Documents/TruckDelay/data/raw/city_weather.csv')"
   ]
  },
  {
   "cell_type": "code",
   "execution_count": 1209,
   "id": "ed8df22d",
   "metadata": {},
   "outputs": [
    {
     "data": {
      "text/html": [
       "<div>\n",
       "<style scoped>\n",
       "    .dataframe tbody tr th:only-of-type {\n",
       "        vertical-align: middle;\n",
       "    }\n",
       "\n",
       "    .dataframe tbody tr th {\n",
       "        vertical-align: top;\n",
       "    }\n",
       "\n",
       "    .dataframe thead th {\n",
       "        text-align: right;\n",
       "    }\n",
       "</style>\n",
       "<table border=\"1\" class=\"dataframe\">\n",
       "  <thead>\n",
       "    <tr style=\"text-align: right;\">\n",
       "      <th></th>\n",
       "      <th>city_id</th>\n",
       "      <th>date</th>\n",
       "      <th>hour</th>\n",
       "      <th>temp</th>\n",
       "      <th>wind_speed</th>\n",
       "      <th>description</th>\n",
       "      <th>precip</th>\n",
       "      <th>humidity</th>\n",
       "      <th>visibility</th>\n",
       "      <th>pressure</th>\n",
       "      <th>chanceofrain</th>\n",
       "      <th>chanceoffog</th>\n",
       "      <th>chanceofsnow</th>\n",
       "      <th>chanceofthunder</th>\n",
       "    </tr>\n",
       "  </thead>\n",
       "  <tbody>\n",
       "    <tr>\n",
       "      <th>0</th>\n",
       "      <td>C-927ceb5e</td>\n",
       "      <td>2019-01-01</td>\n",
       "      <td>0</td>\n",
       "      <td>30</td>\n",
       "      <td>11</td>\n",
       "      <td>Light snow</td>\n",
       "      <td>0.0</td>\n",
       "      <td>86</td>\n",
       "      <td>6</td>\n",
       "      <td>1019</td>\n",
       "      <td>0</td>\n",
       "      <td>0</td>\n",
       "      <td>0</td>\n",
       "      <td>0</td>\n",
       "    </tr>\n",
       "    <tr>\n",
       "      <th>1</th>\n",
       "      <td>C-927ceb5e</td>\n",
       "      <td>2019-01-01</td>\n",
       "      <td>100</td>\n",
       "      <td>28</td>\n",
       "      <td>12</td>\n",
       "      <td>Light snow</td>\n",
       "      <td>0.0</td>\n",
       "      <td>86</td>\n",
       "      <td>5</td>\n",
       "      <td>1021</td>\n",
       "      <td>0</td>\n",
       "      <td>0</td>\n",
       "      <td>0</td>\n",
       "      <td>0</td>\n",
       "    </tr>\n",
       "    <tr>\n",
       "      <th>2</th>\n",
       "      <td>C-927ceb5e</td>\n",
       "      <td>2019-01-01</td>\n",
       "      <td>200</td>\n",
       "      <td>28</td>\n",
       "      <td>13</td>\n",
       "      <td>Moderate snow</td>\n",
       "      <td>0.0</td>\n",
       "      <td>85</td>\n",
       "      <td>4</td>\n",
       "      <td>1022</td>\n",
       "      <td>0</td>\n",
       "      <td>0</td>\n",
       "      <td>0</td>\n",
       "      <td>0</td>\n",
       "    </tr>\n",
       "    <tr>\n",
       "      <th>3</th>\n",
       "      <td>C-927ceb5e</td>\n",
       "      <td>2019-01-01</td>\n",
       "      <td>300</td>\n",
       "      <td>28</td>\n",
       "      <td>14</td>\n",
       "      <td>Moderate snow</td>\n",
       "      <td>0.0</td>\n",
       "      <td>84</td>\n",
       "      <td>3</td>\n",
       "      <td>1024</td>\n",
       "      <td>0</td>\n",
       "      <td>0</td>\n",
       "      <td>0</td>\n",
       "      <td>0</td>\n",
       "    </tr>\n",
       "    <tr>\n",
       "      <th>4</th>\n",
       "      <td>C-927ceb5e</td>\n",
       "      <td>2019-01-01</td>\n",
       "      <td>400</td>\n",
       "      <td>28</td>\n",
       "      <td>13</td>\n",
       "      <td>Moderate snow</td>\n",
       "      <td>0.0</td>\n",
       "      <td>84</td>\n",
       "      <td>3</td>\n",
       "      <td>1025</td>\n",
       "      <td>0</td>\n",
       "      <td>0</td>\n",
       "      <td>0</td>\n",
       "      <td>0</td>\n",
       "    </tr>\n",
       "    <tr>\n",
       "      <th>5</th>\n",
       "      <td>C-927ceb5e</td>\n",
       "      <td>2019-01-01</td>\n",
       "      <td>500</td>\n",
       "      <td>27</td>\n",
       "      <td>12</td>\n",
       "      <td>Moderate snow</td>\n",
       "      <td>0.0</td>\n",
       "      <td>84</td>\n",
       "      <td>3</td>\n",
       "      <td>1026</td>\n",
       "      <td>0</td>\n",
       "      <td>0</td>\n",
       "      <td>0</td>\n",
       "      <td>0</td>\n",
       "    </tr>\n",
       "  </tbody>\n",
       "</table>\n",
       "</div>"
      ],
      "text/plain": [
       "      city_id        date  hour  temp  wind_speed    description  precip  \\\n",
       "0  C-927ceb5e  2019-01-01     0    30          11     Light snow     0.0   \n",
       "1  C-927ceb5e  2019-01-01   100    28          12     Light snow     0.0   \n",
       "2  C-927ceb5e  2019-01-01   200    28          13  Moderate snow     0.0   \n",
       "3  C-927ceb5e  2019-01-01   300    28          14  Moderate snow     0.0   \n",
       "4  C-927ceb5e  2019-01-01   400    28          13  Moderate snow     0.0   \n",
       "5  C-927ceb5e  2019-01-01   500    27          12  Moderate snow     0.0   \n",
       "\n",
       "   humidity  visibility  pressure  chanceofrain  chanceoffog  chanceofsnow  \\\n",
       "0        86           6      1019             0            0             0   \n",
       "1        86           5      1021             0            0             0   \n",
       "2        85           4      1022             0            0             0   \n",
       "3        84           3      1024             0            0             0   \n",
       "4        84           3      1025             0            0             0   \n",
       "5        84           3      1026             0            0             0   \n",
       "\n",
       "   chanceofthunder  \n",
       "0                0  \n",
       "1                0  \n",
       "2                0  \n",
       "3                0  \n",
       "4                0  \n",
       "5                0  "
      ]
     },
     "execution_count": 1209,
     "metadata": {},
     "output_type": "execute_result"
    }
   ],
   "source": [
    "city_weather.head(6)"
   ]
  },
  {
   "cell_type": "code",
   "execution_count": 1210,
   "id": "7db2cb7f",
   "metadata": {},
   "outputs": [
    {
     "data": {
      "text/plain": [
       "(55176, 14)"
      ]
     },
     "execution_count": 1210,
     "metadata": {},
     "output_type": "execute_result"
    }
   ],
   "source": [
    "city_weather.shape"
   ]
  },
  {
   "cell_type": "code",
   "execution_count": 1211,
   "id": "ed1a6cab",
   "metadata": {},
   "outputs": [
    {
     "name": "stdout",
     "output_type": "stream",
     "text": [
      "<class 'pandas.core.frame.DataFrame'>\n",
      "RangeIndex: 55176 entries, 0 to 55175\n",
      "Data columns (total 14 columns):\n",
      " #   Column           Non-Null Count  Dtype  \n",
      "---  ------           --------------  -----  \n",
      " 0   city_id          55176 non-null  object \n",
      " 1   date             55176 non-null  object \n",
      " 2   hour             55176 non-null  int64  \n",
      " 3   temp             55176 non-null  int64  \n",
      " 4   wind_speed       55176 non-null  int64  \n",
      " 5   description      55176 non-null  object \n",
      " 6   precip           55176 non-null  float64\n",
      " 7   humidity         55176 non-null  int64  \n",
      " 8   visibility       55176 non-null  int64  \n",
      " 9   pressure         55176 non-null  int64  \n",
      " 10  chanceofrain     55176 non-null  int64  \n",
      " 11  chanceoffog      55176 non-null  int64  \n",
      " 12  chanceofsnow     55176 non-null  int64  \n",
      " 13  chanceofthunder  55176 non-null  int64  \n",
      "dtypes: float64(1), int64(10), object(3)\n",
      "memory usage: 5.9+ MB\n"
     ]
    }
   ],
   "source": [
    "city_weather.info()"
   ]
  },
  {
   "cell_type": "code",
   "execution_count": 1212,
   "id": "1445b0a2",
   "metadata": {},
   "outputs": [
    {
     "data": {
      "text/plain": [
       "Index(['city_id', 'date', 'hour', 'temp', 'wind_speed', 'description',\n",
       "       'precip', 'humidity', 'visibility', 'pressure', 'chanceofrain',\n",
       "       'chanceoffog', 'chanceofsnow', 'chanceofthunder'],\n",
       "      dtype='object')"
      ]
     },
     "execution_count": 1212,
     "metadata": {},
     "output_type": "execute_result"
    }
   ],
   "source": [
    "city_weather.columns"
   ]
  },
  {
   "cell_type": "code",
   "execution_count": 1213,
   "id": "8eb4a9a5",
   "metadata": {},
   "outputs": [
    {
     "data": {
      "text/plain": [
       "city_id            0\n",
       "date               0\n",
       "hour               0\n",
       "temp               0\n",
       "wind_speed         0\n",
       "description        0\n",
       "precip             0\n",
       "humidity           0\n",
       "visibility         0\n",
       "pressure           0\n",
       "chanceofrain       0\n",
       "chanceoffog        0\n",
       "chanceofsnow       0\n",
       "chanceofthunder    0\n",
       "dtype: int64"
      ]
     },
     "execution_count": 1213,
     "metadata": {},
     "output_type": "execute_result"
    }
   ],
   "source": [
    "city_weather.isnull().sum()"
   ]
  },
  {
   "cell_type": "code",
   "execution_count": 1214,
   "id": "ef3713a5",
   "metadata": {},
   "outputs": [],
   "source": [
    "city_weather = combine_date_hour(city_weather, 'date', 'hour')"
   ]
  },
  {
   "cell_type": "markdown",
   "id": "329e669d",
   "metadata": {},
   "source": [
    "Drop the unnecessary columns"
   ]
  },
  {
   "cell_type": "code",
   "execution_count": 1215,
   "id": "8179ce9c",
   "metadata": {},
   "outputs": [],
   "source": [
    "city_weather = drop_columns(city_weather, ['chanceofrain',\n",
    "       'chanceoffog', 'chanceofsnow', 'chanceofthunder'])"
   ]
  },
  {
   "cell_type": "code",
   "execution_count": 1216,
   "id": "ec4a068b",
   "metadata": {},
   "outputs": [],
   "source": [
    "city_weather = remove_duplicates(city_weather)"
   ]
  },
  {
   "cell_type": "code",
   "execution_count": 1217,
   "id": "f9a47c4a",
   "metadata": {},
   "outputs": [
    {
     "data": {
      "text/html": [
       "<div>\n",
       "<style scoped>\n",
       "    .dataframe tbody tr th:only-of-type {\n",
       "        vertical-align: middle;\n",
       "    }\n",
       "\n",
       "    .dataframe tbody tr th {\n",
       "        vertical-align: top;\n",
       "    }\n",
       "\n",
       "    .dataframe thead th {\n",
       "        text-align: right;\n",
       "    }\n",
       "</style>\n",
       "<table border=\"1\" class=\"dataframe\">\n",
       "  <thead>\n",
       "    <tr style=\"text-align: right;\">\n",
       "      <th></th>\n",
       "      <th>city_id</th>\n",
       "      <th>date</th>\n",
       "      <th>hour</th>\n",
       "      <th>temp</th>\n",
       "      <th>wind_speed</th>\n",
       "      <th>description</th>\n",
       "      <th>precip</th>\n",
       "      <th>humidity</th>\n",
       "      <th>visibility</th>\n",
       "      <th>pressure</th>\n",
       "      <th>datetime</th>\n",
       "    </tr>\n",
       "  </thead>\n",
       "  <tbody>\n",
       "    <tr>\n",
       "      <th>0</th>\n",
       "      <td>C-927ceb5e</td>\n",
       "      <td>2019-01-01</td>\n",
       "      <td>0000</td>\n",
       "      <td>30</td>\n",
       "      <td>11</td>\n",
       "      <td>Light snow</td>\n",
       "      <td>0.0</td>\n",
       "      <td>86</td>\n",
       "      <td>6</td>\n",
       "      <td>1019</td>\n",
       "      <td>2019-01-01 00:00:00</td>\n",
       "    </tr>\n",
       "    <tr>\n",
       "      <th>1</th>\n",
       "      <td>C-927ceb5e</td>\n",
       "      <td>2019-01-01</td>\n",
       "      <td>0100</td>\n",
       "      <td>28</td>\n",
       "      <td>12</td>\n",
       "      <td>Light snow</td>\n",
       "      <td>0.0</td>\n",
       "      <td>86</td>\n",
       "      <td>5</td>\n",
       "      <td>1021</td>\n",
       "      <td>2019-01-01 01:00:00</td>\n",
       "    </tr>\n",
       "    <tr>\n",
       "      <th>2</th>\n",
       "      <td>C-927ceb5e</td>\n",
       "      <td>2019-01-01</td>\n",
       "      <td>0200</td>\n",
       "      <td>28</td>\n",
       "      <td>13</td>\n",
       "      <td>Moderate snow</td>\n",
       "      <td>0.0</td>\n",
       "      <td>85</td>\n",
       "      <td>4</td>\n",
       "      <td>1022</td>\n",
       "      <td>2019-01-01 02:00:00</td>\n",
       "    </tr>\n",
       "    <tr>\n",
       "      <th>3</th>\n",
       "      <td>C-927ceb5e</td>\n",
       "      <td>2019-01-01</td>\n",
       "      <td>0300</td>\n",
       "      <td>28</td>\n",
       "      <td>14</td>\n",
       "      <td>Moderate snow</td>\n",
       "      <td>0.0</td>\n",
       "      <td>84</td>\n",
       "      <td>3</td>\n",
       "      <td>1024</td>\n",
       "      <td>2019-01-01 03:00:00</td>\n",
       "    </tr>\n",
       "    <tr>\n",
       "      <th>4</th>\n",
       "      <td>C-927ceb5e</td>\n",
       "      <td>2019-01-01</td>\n",
       "      <td>0400</td>\n",
       "      <td>28</td>\n",
       "      <td>13</td>\n",
       "      <td>Moderate snow</td>\n",
       "      <td>0.0</td>\n",
       "      <td>84</td>\n",
       "      <td>3</td>\n",
       "      <td>1025</td>\n",
       "      <td>2019-01-01 04:00:00</td>\n",
       "    </tr>\n",
       "  </tbody>\n",
       "</table>\n",
       "</div>"
      ],
      "text/plain": [
       "      city_id        date  hour  temp  wind_speed    description  precip  \\\n",
       "0  C-927ceb5e  2019-01-01  0000    30          11     Light snow     0.0   \n",
       "1  C-927ceb5e  2019-01-01  0100    28          12     Light snow     0.0   \n",
       "2  C-927ceb5e  2019-01-01  0200    28          13  Moderate snow     0.0   \n",
       "3  C-927ceb5e  2019-01-01  0300    28          14  Moderate snow     0.0   \n",
       "4  C-927ceb5e  2019-01-01  0400    28          13  Moderate snow     0.0   \n",
       "\n",
       "   humidity  visibility  pressure            datetime  \n",
       "0        86           6      1019 2019-01-01 00:00:00  \n",
       "1        86           5      1021 2019-01-01 01:00:00  \n",
       "2        85           4      1022 2019-01-01 02:00:00  \n",
       "3        84           3      1024 2019-01-01 03:00:00  \n",
       "4        84           3      1025 2019-01-01 04:00:00  "
      ]
     },
     "execution_count": 1217,
     "metadata": {},
     "output_type": "execute_result"
    }
   ],
   "source": [
    "city_weather.head(5)"
   ]
  },
  {
   "cell_type": "code",
   "execution_count": 1218,
   "id": "72e4f4cc",
   "metadata": {},
   "outputs": [
    {
     "data": {
      "text/plain": [
       "Index(['city_id', 'date', 'hour', 'temp', 'wind_speed', 'description',\n",
       "       'precip', 'humidity', 'visibility', 'pressure', 'datetime'],\n",
       "      dtype='object')"
      ]
     },
     "execution_count": 1218,
     "metadata": {},
     "output_type": "execute_result"
    }
   ],
   "source": [
    "city_weather.columns"
   ]
  },
  {
   "cell_type": "code",
   "execution_count": 1219,
   "id": "87362bb6",
   "metadata": {},
   "outputs": [],
   "source": [
    "#city_weather = handle_missing_values(city_weather, method='fill')"
   ]
  },
  {
   "cell_type": "code",
   "execution_count": 1220,
   "id": "ed2fe738",
   "metadata": {},
   "outputs": [
    {
     "name": "stdout",
     "output_type": "stream",
     "text": [
      "Unique values in 'city_id' (49 total):\n",
      "['C-927ceb5e' 'C-56e39a5e' 'C-73ae5412' 'C-4fe0fa24' 'C-451776b7'\n",
      " 'C-d80a1e7d' 'C-c92599e2' 'C-731988ba' 'C-639c5e36' 'C-a9f2c329'\n",
      " 'C-c7cacd1d' 'C-ef47bdcd' 'C-84f378bb' 'C-c4565ee8' 'C-6ea51d66'\n",
      " 'C-ff8c0c3c' 'C-e5bfb4e5' 'C-3dbd8b2e' 'C-7212cebe' 'C-b6e04c88'\n",
      " 'C-01660979' 'C-f8f01604' 'C-280b55fb' 'C-f5ed4c15' 'C-6df8beaf'\n",
      " 'C-2bd47dc5' 'C-b25a09de' 'C-419cd14c' 'C-9bbf5d8a' 'C-40a81eb1'\n",
      " 'C-2c9e75ef' 'C-03bb3e48' 'C-19236709' 'C-fc66f0ab' 'C-b5ff31cd'\n",
      " 'C-5d86b887' 'C-2aaf0e1a' 'C-34ae77b0' 'C-d9e9d934' 'C-b5282c3b'\n",
      " 'C-d3bb431c' 'C-825b2625' 'C-90e30162' 'C-2e349ccd' 'C-56b68559'\n",
      " 'C-328bd8d3' 'C-841ebdcb' 'C-e6dcda92' 'C-594514f8']\n",
      "Unique values in 'date' (46 total):\n",
      "['2019-01-01' '2019-01-02' '2019-01-03' '2019-01-04' '2019-01-05'\n",
      " '2019-01-06' '2019-01-07' '2019-01-08' '2019-01-09' '2019-01-10'\n",
      " '2019-01-11' '2019-01-12' '2019-01-13' '2019-01-14' '2019-01-15'\n",
      " '2019-01-16' '2019-01-17' '2019-01-18' '2019-01-19' '2019-01-20'\n",
      " '2019-01-21' '2019-01-22' '2019-01-23' '2019-01-24' '2019-01-25'\n",
      " '2019-01-26' '2019-01-27' '2019-01-28' '2019-01-29' '2019-01-30'\n",
      " '2019-01-31' '2019-02-01' '2019-02-02' '2019-02-03' '2019-02-04'\n",
      " '2019-02-05' '2019-02-06' '2019-02-07' '2019-02-08' '2019-02-09'\n",
      " '2019-02-10' '2019-02-11' '2019-02-12' '2019-02-13' '2019-02-14'\n",
      " '2019-02-15']\n",
      "Unique values in 'hour' (24 total):\n",
      "['0000' '0100' '0200' '0300' '0400' '0500' '0600' '0700' '0800' '0900'\n",
      " '1000' '1100' '1200' '1300' '1400' '1500' '1600' '1700' '1800' '1900'\n",
      " '2000' '2100' '2200' '2300']\n",
      "Unique values in 'temp' (78 total):\n",
      "[ 30  28  27  25  23  21  19  16  32  36  37  39  41  34  43  45  46  48\n",
      "  50  52  18  14  12  10   9   7   5   3   1   0  -2  -4  -6  -8  -9 -11\n",
      " -13 -15 -17 -18 -20 -22 -24 -26 -27  75  73  70  66  63  79  82  81  77\n",
      "  72  84  88  86  68  64  59  61  90  91  54  55  57 -29 -31  93  95  97\n",
      "  99 -35 -33 100 102 104]\n",
      "Unique values in 'wind_speed' (34 total):\n",
      "[11 12 13 14  9  7  6  4  3  2  5  1  8  0 10 16 17 15 18 19 20 21 22 23\n",
      " 25 27 26 24 28 30 31 33 32 29]\n",
      "Unique values in 'description' (47 total):\n",
      "['Light snow' 'Moderate snow' 'Overcast' 'Cloudy' 'Partly cloudy' 'Sunny'\n",
      " 'Clear' 'Light drizzle' 'Moderate rain' 'Heavy rain'\n",
      " 'Moderate rain at times' 'Heavy snow' 'Mist' 'Ice pellets'\n",
      " 'Patchy snow possible' 'Moderate or heavy snow showers' 'Blizzard'\n",
      " 'Blowing snow' 'Patchy moderate snow' 'Patchy light snow'\n",
      " 'Light freezing rain' 'Light rain shower' 'Patchy light drizzle'\n",
      " 'Moderate or heavy freezing rain' 'Heavy freezing drizzle' 'Fog'\n",
      " 'Patchy rain possible' 'Patchy light rain' 'Light rain'\n",
      " 'Heavy rain at times' 'Moderate or heavy rain with thunder'\n",
      " 'Patchy heavy snow' 'Patchy sleet possible' 'Light sleet'\n",
      " 'Thundery outbreaks possible' 'Light snow showers'\n",
      " 'Moderate or heavy sleet' 'Moderate or heavy rain shower'\n",
      " 'Torrential rain shower' 'Freezing fog' 'Light showers of ice pellets'\n",
      " 'Moderate or heavy snow with thunder' 'Freezing drizzle'\n",
      " 'Patchy light rain with thunder' 'Patchy freezing drizzle possible'\n",
      " 'Light sleet showers' 'Moderate or heavy showers of ice pellets']\n",
      "Unique values in 'precip' (8 total):\n",
      "[0.  0.1 0.2 0.3 0.4 0.5 0.6 0.8]\n",
      "Unique values in 'humidity' (98 total):\n",
      "[ 86  85  84  83  82  81  80  79  78  76  73  72  74  75  77  70  66  61\n",
      "  60  58  57  56  55  59  62  63  65  67  68  54  50  51  52  71  69  87\n",
      "  88  89  90  91  92  93  94  47  45  42  40  43  46  49  48  44  41  39\n",
      "  37  38  36  35  53  64  95  96  97  98 100  99  25  28  30  32  33  31\n",
      "  23  20  17  18  22  27  29  24  21  34  26  19  16  15  14  12  11  10\n",
      "  13   9   8   7   6   5   4   3]\n",
      "Unique values in 'visibility' (7 total):\n",
      "[6 5 4 3 1 2 0]\n",
      "Unique values in 'pressure' (62 total):\n",
      "[1019 1021 1022 1024 1025 1026 1027 1028 1029 1030 1023 1020 1018 1017\n",
      " 1016 1015 1014 1013 1012 1011 1010 1009 1008 1007 1006 1005 1004 1003\n",
      " 1002 1001 1031 1032 1033 1034 1035 1036 1000 1037 1038 1039 1040 1041\n",
      " 1042 1043 1044 1045 1046 1047  998  997  996  995  994  999  993 1048\n",
      "  992  991  990  989  988 1049]\n",
      "Unique values in 'datetime' (1104 total):\n",
      "<DatetimeArray>\n",
      "['2019-01-01 00:00:00', '2019-01-01 01:00:00', '2019-01-01 02:00:00',\n",
      " '2019-01-01 03:00:00', '2019-01-01 04:00:00', '2019-01-01 05:00:00',\n",
      " '2019-01-01 06:00:00', '2019-01-01 07:00:00', '2019-01-01 08:00:00',\n",
      " '2019-01-01 09:00:00',\n",
      " ...\n",
      " '2019-02-15 14:00:00', '2019-02-15 15:00:00', '2019-02-15 16:00:00',\n",
      " '2019-02-15 17:00:00', '2019-02-15 18:00:00', '2019-02-15 19:00:00',\n",
      " '2019-02-15 20:00:00', '2019-02-15 21:00:00', '2019-02-15 22:00:00',\n",
      " '2019-02-15 23:00:00']\n",
      "Length: 1104, dtype: datetime64[ns]\n"
     ]
    }
   ],
   "source": [
    "display_unique_values(city_weather)"
   ]
  },
  {
   "cell_type": "code",
   "execution_count": 1221,
   "id": "00735322",
   "metadata": {},
   "outputs": [
    {
     "data": {
      "image/png": "[encoded data removed]",
      "text/plain": [
       "<Figure size 600x400 with 1 Axes>"
      ]
     },
     "metadata": {},
     "output_type": "display_data"
    }
   ],
   "source": [
    "visualize_data(city_weather, 'temp')"
   ]
  },
  {
   "cell_type": "code",
   "execution_count": 1222,
   "id": "2a537fb7",
   "metadata": {},
   "outputs": [
    {
     "data": {
      "image/png": "[encoded data removed]",
      "text/plain": [
       "<Figure size 600x400 with 1 Axes>"
      ]
     },
     "metadata": {},
     "output_type": "display_data"
    }
   ],
   "source": [
    "visualize_data(city_weather, 'wind_speed')"
   ]
  },
  {
   "cell_type": "code",
   "execution_count": 1223,
   "id": "8734b9d2",
   "metadata": {},
   "outputs": [
    {
     "data": {
      "image/png": "[encoded data removed]",
      "text/plain": [
       "<Figure size 600x400 with 1 Axes>"
      ]
     },
     "metadata": {},
     "output_type": "display_data"
    }
   ],
   "source": [
    "visualize_data(city_weather, 'precip')"
   ]
  },
  {
   "cell_type": "code",
   "execution_count": 1224,
   "id": "b9a0ab72",
   "metadata": {},
   "outputs": [
    {
     "data": {
      "image/png": "[encoded data removed]",
      "text/plain": [
       "<Figure size 600x400 with 1 Axes>"
      ]
     },
     "metadata": {},
     "output_type": "display_data"
    }
   ],
   "source": [
    "visualize_data(city_weather, 'humidity')"
   ]
  },
  {
   "cell_type": "code",
   "execution_count": 1225,
   "id": "8321ce27",
   "metadata": {},
   "outputs": [
    {
     "data": {
      "image/png": "[encoded data removed]",
      "text/plain": [
       "<Figure size 600x400 with 1 Axes>"
      ]
     },
     "metadata": {},
     "output_type": "display_data"
    }
   ],
   "source": [
    "visualize_data(city_weather, 'visibility')"
   ]
  },
  {
   "cell_type": "code",
   "execution_count": 1226,
   "id": "e9284366",
   "metadata": {},
   "outputs": [
    {
     "data": {
      "image/png": "[encoded data removed]",
      "text/plain": [
       "<Figure size 600x400 with 1 Axes>"
      ]
     },
     "metadata": {},
     "output_type": "display_data"
    }
   ],
   "source": [
    "visualize_data(city_weather, 'pressure')"
   ]
  },
  {
   "cell_type": "code",
   "execution_count": 1227,
   "id": "e482eda1",
   "metadata": {},
   "outputs": [
    {
     "data": {
      "text/plain": [
       "(55176, 11)"
      ]
     },
     "execution_count": 1227,
     "metadata": {},
     "output_type": "execute_result"
    }
   ],
   "source": [
    "city_weather.shape"
   ]
  },
  {
   "cell_type": "code",
   "execution_count": 1228,
   "id": "36464947",
   "metadata": {},
   "outputs": [
    {
     "name": "stdout",
     "output_type": "stream",
     "text": [
      "precip\n",
      "0.0    53531\n",
      "0.1     1405\n",
      "0.2      170\n",
      "0.3       48\n",
      "0.4       10\n",
      "0.5        9\n",
      "0.6        2\n",
      "0.8        1\n",
      "Name: count, dtype: int64\n"
     ]
    }
   ],
   "source": [
    "# Display the count of each unique value in the 'precip' column\n",
    "precip_counts = city_weather['precip'].value_counts()\n",
    "print(precip_counts)"
   ]
  },
  {
   "cell_type": "code",
   "execution_count": 1229,
   "id": "9eb4f15e",
   "metadata": {},
   "outputs": [
    {
     "name": "stdout",
     "output_type": "stream",
     "text": [
      "visibility\n",
      "6    41518\n",
      "1     3770\n",
      "4     3658\n",
      "3     2349\n",
      "5     1545\n",
      "2     1458\n",
      "0      878\n",
      "Name: count, dtype: int64\n"
     ]
    }
   ],
   "source": [
    "precip_counts = city_weather['visibility'].value_counts()\n",
    "print(precip_counts)"
   ]
  },
  {
   "cell_type": "code",
   "execution_count": 1230,
   "id": "8c7decad",
   "metadata": {},
   "outputs": [],
   "source": [
    "city_weather = drop_columns(city_weather, ['precip','visibility'])"
   ]
  },
  {
   "cell_type": "code",
   "execution_count": 1231,
   "id": "7e91f8d0",
   "metadata": {},
   "outputs": [
    {
     "data": {
      "text/plain": [
       "Index(['city_id', 'date', 'hour', 'temp', 'wind_speed', 'description',\n",
       "       'humidity', 'pressure', 'datetime'],\n",
       "      dtype='object')"
      ]
     },
     "execution_count": 1231,
     "metadata": {},
     "output_type": "execute_result"
    }
   ],
   "source": [
    "city_weather.columns"
   ]
  },
  {
   "cell_type": "code",
   "execution_count": 1232,
   "id": "bb285c8a",
   "metadata": {},
   "outputs": [],
   "source": [
    "#city_weather = remove_outliers(city_weather,['temp','pressure','hour','wind_speed','humidity'])"
   ]
  },
  {
   "cell_type": "code",
   "execution_count": 1233,
   "id": "b54c9043",
   "metadata": {},
   "outputs": [
    {
     "data": {
      "text/html": [
       "<div>\n",
       "<style scoped>\n",
       "    .dataframe tbody tr th:only-of-type {\n",
       "        vertical-align: middle;\n",
       "    }\n",
       "\n",
       "    .dataframe tbody tr th {\n",
       "        vertical-align: top;\n",
       "    }\n",
       "\n",
       "    .dataframe thead th {\n",
       "        text-align: right;\n",
       "    }\n",
       "</style>\n",
       "<table border=\"1\" class=\"dataframe\">\n",
       "  <thead>\n",
       "    <tr style=\"text-align: right;\">\n",
       "      <th></th>\n",
       "      <th>city_id</th>\n",
       "      <th>date</th>\n",
       "      <th>hour</th>\n",
       "      <th>temp</th>\n",
       "      <th>wind_speed</th>\n",
       "      <th>description</th>\n",
       "      <th>humidity</th>\n",
       "      <th>pressure</th>\n",
       "      <th>datetime</th>\n",
       "    </tr>\n",
       "  </thead>\n",
       "  <tbody>\n",
       "    <tr>\n",
       "      <th>0</th>\n",
       "      <td>C-927ceb5e</td>\n",
       "      <td>2019-01-01</td>\n",
       "      <td>0000</td>\n",
       "      <td>30</td>\n",
       "      <td>11</td>\n",
       "      <td>Light snow</td>\n",
       "      <td>86</td>\n",
       "      <td>1019</td>\n",
       "      <td>2019-01-01</td>\n",
       "    </tr>\n",
       "  </tbody>\n",
       "</table>\n",
       "</div>"
      ],
      "text/plain": [
       "      city_id        date  hour  temp  wind_speed description  humidity  \\\n",
       "0  C-927ceb5e  2019-01-01  0000    30          11  Light snow        86   \n",
       "\n",
       "   pressure   datetime  \n",
       "0      1019 2019-01-01  "
      ]
     },
     "execution_count": 1233,
     "metadata": {},
     "output_type": "execute_result"
    }
   ],
   "source": [
    "city_weather.head(1)"
   ]
  },
  {
   "cell_type": "code",
   "execution_count": 1234,
   "id": "4b5abe83",
   "metadata": {},
   "outputs": [],
   "source": [
    "city_weather = remove_outliers(city_weather)"
   ]
  },
  {
   "cell_type": "code",
   "execution_count": 1235,
   "id": "6c3ffe43",
   "metadata": {},
   "outputs": [
    {
     "data": {
      "text/html": [
       "<div>\n",
       "<style scoped>\n",
       "    .dataframe tbody tr th:only-of-type {\n",
       "        vertical-align: middle;\n",
       "    }\n",
       "\n",
       "    .dataframe tbody tr th {\n",
       "        vertical-align: top;\n",
       "    }\n",
       "\n",
       "    .dataframe thead th {\n",
       "        text-align: right;\n",
       "    }\n",
       "</style>\n",
       "<table border=\"1\" class=\"dataframe\">\n",
       "  <thead>\n",
       "    <tr style=\"text-align: right;\">\n",
       "      <th></th>\n",
       "      <th>city_id</th>\n",
       "      <th>date</th>\n",
       "      <th>hour</th>\n",
       "      <th>temp</th>\n",
       "      <th>wind_speed</th>\n",
       "      <th>description</th>\n",
       "      <th>humidity</th>\n",
       "      <th>pressure</th>\n",
       "      <th>datetime</th>\n",
       "    </tr>\n",
       "  </thead>\n",
       "  <tbody>\n",
       "    <tr>\n",
       "      <th>0</th>\n",
       "      <td>C-927ceb5e</td>\n",
       "      <td>2019-01-01</td>\n",
       "      <td>0000</td>\n",
       "      <td>30</td>\n",
       "      <td>11</td>\n",
       "      <td>Light snow</td>\n",
       "      <td>86</td>\n",
       "      <td>1019</td>\n",
       "      <td>2019-01-01 00:00:00</td>\n",
       "    </tr>\n",
       "    <tr>\n",
       "      <th>1</th>\n",
       "      <td>C-927ceb5e</td>\n",
       "      <td>2019-01-01</td>\n",
       "      <td>0100</td>\n",
       "      <td>28</td>\n",
       "      <td>12</td>\n",
       "      <td>Light snow</td>\n",
       "      <td>86</td>\n",
       "      <td>1021</td>\n",
       "      <td>2019-01-01 01:00:00</td>\n",
       "    </tr>\n",
       "    <tr>\n",
       "      <th>2</th>\n",
       "      <td>C-927ceb5e</td>\n",
       "      <td>2019-01-01</td>\n",
       "      <td>0200</td>\n",
       "      <td>28</td>\n",
       "      <td>13</td>\n",
       "      <td>Moderate snow</td>\n",
       "      <td>85</td>\n",
       "      <td>1022</td>\n",
       "      <td>2019-01-01 02:00:00</td>\n",
       "    </tr>\n",
       "    <tr>\n",
       "      <th>3</th>\n",
       "      <td>C-927ceb5e</td>\n",
       "      <td>2019-01-01</td>\n",
       "      <td>0300</td>\n",
       "      <td>28</td>\n",
       "      <td>14</td>\n",
       "      <td>Moderate snow</td>\n",
       "      <td>84</td>\n",
       "      <td>1024</td>\n",
       "      <td>2019-01-01 03:00:00</td>\n",
       "    </tr>\n",
       "    <tr>\n",
       "      <th>4</th>\n",
       "      <td>C-927ceb5e</td>\n",
       "      <td>2019-01-01</td>\n",
       "      <td>0400</td>\n",
       "      <td>28</td>\n",
       "      <td>13</td>\n",
       "      <td>Moderate snow</td>\n",
       "      <td>84</td>\n",
       "      <td>1025</td>\n",
       "      <td>2019-01-01 04:00:00</td>\n",
       "    </tr>\n",
       "  </tbody>\n",
       "</table>\n",
       "</div>"
      ],
      "text/plain": [
       "      city_id        date  hour  temp  wind_speed    description  humidity  \\\n",
       "0  C-927ceb5e  2019-01-01  0000    30          11     Light snow        86   \n",
       "1  C-927ceb5e  2019-01-01  0100    28          12     Light snow        86   \n",
       "2  C-927ceb5e  2019-01-01  0200    28          13  Moderate snow        85   \n",
       "3  C-927ceb5e  2019-01-01  0300    28          14  Moderate snow        84   \n",
       "4  C-927ceb5e  2019-01-01  0400    28          13  Moderate snow        84   \n",
       "\n",
       "   pressure            datetime  \n",
       "0      1019 2019-01-01 00:00:00  \n",
       "1      1021 2019-01-01 01:00:00  \n",
       "2      1022 2019-01-01 02:00:00  \n",
       "3      1024 2019-01-01 03:00:00  \n",
       "4      1025 2019-01-01 04:00:00  "
      ]
     },
     "execution_count": 1235,
     "metadata": {},
     "output_type": "execute_result"
    }
   ],
   "source": [
    "city_weather.head(5)"
   ]
  },
  {
   "cell_type": "code",
   "execution_count": 1236,
   "id": "41736a83",
   "metadata": {},
   "outputs": [
    {
     "data": {
      "image/png": "[encoded data removed]",
      "text/plain": [
       "<Figure size 600x400 with 1 Axes>"
      ]
     },
     "metadata": {},
     "output_type": "display_data"
    }
   ],
   "source": [
    "visualize_data(city_weather, 'pressure')"
   ]
  },
  {
   "cell_type": "code",
   "execution_count": 1237,
   "id": "20e66029",
   "metadata": {},
   "outputs": [
    {
     "data": {
      "image/png": "[encoded data removed]",
      "text/plain": [
       "<Figure size 600x400 with 1 Axes>"
      ]
     },
     "metadata": {},
     "output_type": "display_data"
    }
   ],
   "source": [
    "visualize_data(city_weather, 'wind_speed')"
   ]
  },
  {
   "cell_type": "code",
   "execution_count": 1238,
   "id": "1b46c462",
   "metadata": {},
   "outputs": [],
   "source": [
    "city_weather= add_index_and_eventtime_columns(city_weather)"
   ]
  },
  {
   "cell_type": "code",
   "execution_count": 1239,
   "id": "cdf0801e",
   "metadata": {},
   "outputs": [
    {
     "data": {
      "text/plain": [
       "(52076, 11)"
      ]
     },
     "execution_count": 1239,
     "metadata": {},
     "output_type": "execute_result"
    }
   ],
   "source": [
    "city_weather.shape"
   ]
  },
  {
   "cell_type": "code",
   "execution_count": 1240,
   "id": "c1535425",
   "metadata": {},
   "outputs": [
    {
     "data": {
      "text/plain": [
       "Index(['city_id', 'date', 'hour', 'temp', 'wind_speed', 'description',\n",
       "       'humidity', 'pressure', 'datetime', 'index', 'eventtime'],\n",
       "      dtype='object')"
      ]
     },
     "execution_count": 1240,
     "metadata": {},
     "output_type": "execute_result"
    }
   ],
   "source": [
    "city_weather.columns"
   ]
  },
  {
   "cell_type": "code",
   "execution_count": 1241,
   "id": "58f0df72",
   "metadata": {},
   "outputs": [
    {
     "data": {
      "text/html": [
       "<div>\n",
       "<style scoped>\n",
       "    .dataframe tbody tr th:only-of-type {\n",
       "        vertical-align: middle;\n",
       "    }\n",
       "\n",
       "    .dataframe tbody tr th {\n",
       "        vertical-align: top;\n",
       "    }\n",
       "\n",
       "    .dataframe thead th {\n",
       "        text-align: right;\n",
       "    }\n",
       "</style>\n",
       "<table border=\"1\" class=\"dataframe\">\n",
       "  <thead>\n",
       "    <tr style=\"text-align: right;\">\n",
       "      <th></th>\n",
       "      <th>city_id</th>\n",
       "      <th>date</th>\n",
       "      <th>hour</th>\n",
       "      <th>temp</th>\n",
       "      <th>wind_speed</th>\n",
       "      <th>description</th>\n",
       "      <th>humidity</th>\n",
       "      <th>pressure</th>\n",
       "      <th>datetime</th>\n",
       "      <th>index</th>\n",
       "      <th>eventtime</th>\n",
       "    </tr>\n",
       "  </thead>\n",
       "  <tbody>\n",
       "    <tr>\n",
       "      <th>0</th>\n",
       "      <td>C-927ceb5e</td>\n",
       "      <td>2019-01-01</td>\n",
       "      <td>0000</td>\n",
       "      <td>30</td>\n",
       "      <td>11</td>\n",
       "      <td>Light snow</td>\n",
       "      <td>86</td>\n",
       "      <td>1019</td>\n",
       "      <td>2019-01-01 00:00:00</td>\n",
       "      <td>0</td>\n",
       "      <td>2024-09-19</td>\n",
       "    </tr>\n",
       "    <tr>\n",
       "      <th>1</th>\n",
       "      <td>C-927ceb5e</td>\n",
       "      <td>2019-01-01</td>\n",
       "      <td>0100</td>\n",
       "      <td>28</td>\n",
       "      <td>12</td>\n",
       "      <td>Light snow</td>\n",
       "      <td>86</td>\n",
       "      <td>1021</td>\n",
       "      <td>2019-01-01 01:00:00</td>\n",
       "      <td>1</td>\n",
       "      <td>2024-09-19</td>\n",
       "    </tr>\n",
       "    <tr>\n",
       "      <th>2</th>\n",
       "      <td>C-927ceb5e</td>\n",
       "      <td>2019-01-01</td>\n",
       "      <td>0200</td>\n",
       "      <td>28</td>\n",
       "      <td>13</td>\n",
       "      <td>Moderate snow</td>\n",
       "      <td>85</td>\n",
       "      <td>1022</td>\n",
       "      <td>2019-01-01 02:00:00</td>\n",
       "      <td>2</td>\n",
       "      <td>2024-09-19</td>\n",
       "    </tr>\n",
       "    <tr>\n",
       "      <th>3</th>\n",
       "      <td>C-927ceb5e</td>\n",
       "      <td>2019-01-01</td>\n",
       "      <td>0300</td>\n",
       "      <td>28</td>\n",
       "      <td>14</td>\n",
       "      <td>Moderate snow</td>\n",
       "      <td>84</td>\n",
       "      <td>1024</td>\n",
       "      <td>2019-01-01 03:00:00</td>\n",
       "      <td>3</td>\n",
       "      <td>2024-09-19</td>\n",
       "    </tr>\n",
       "    <tr>\n",
       "      <th>4</th>\n",
       "      <td>C-927ceb5e</td>\n",
       "      <td>2019-01-01</td>\n",
       "      <td>0400</td>\n",
       "      <td>28</td>\n",
       "      <td>13</td>\n",
       "      <td>Moderate snow</td>\n",
       "      <td>84</td>\n",
       "      <td>1025</td>\n",
       "      <td>2019-01-01 04:00:00</td>\n",
       "      <td>4</td>\n",
       "      <td>2024-09-19</td>\n",
       "    </tr>\n",
       "  </tbody>\n",
       "</table>\n",
       "</div>"
      ],
      "text/plain": [
       "      city_id        date  hour  temp  wind_speed    description  humidity  \\\n",
       "0  C-927ceb5e  2019-01-01  0000    30          11     Light snow        86   \n",
       "1  C-927ceb5e  2019-01-01  0100    28          12     Light snow        86   \n",
       "2  C-927ceb5e  2019-01-01  0200    28          13  Moderate snow        85   \n",
       "3  C-927ceb5e  2019-01-01  0300    28          14  Moderate snow        84   \n",
       "4  C-927ceb5e  2019-01-01  0400    28          13  Moderate snow        84   \n",
       "\n",
       "   pressure            datetime  index  eventtime  \n",
       "0      1019 2019-01-01 00:00:00      0 2024-09-19  \n",
       "1      1021 2019-01-01 01:00:00      1 2024-09-19  \n",
       "2      1022 2019-01-01 02:00:00      2 2024-09-19  \n",
       "3      1024 2019-01-01 03:00:00      3 2024-09-19  \n",
       "4      1025 2019-01-01 04:00:00      4 2024-09-19  "
      ]
     },
     "execution_count": 1241,
     "metadata": {},
     "output_type": "execute_result"
    }
   ],
   "source": [
    "city_weather.head(5)"
   ]
  },
  {
   "cell_type": "code",
   "execution_count": 1345,
   "id": "8698879a",
   "metadata": {},
   "outputs": [],
   "source": [
    "city_weather = drop_columns(city_weather, ['date','hour'])"
   ]
  },
  {
   "cell_type": "code",
   "execution_count": 1346,
   "id": "f021da20",
   "metadata": {},
   "outputs": [
    {
     "data": {
      "text/plain": [
       "city_id        0\n",
       "temp           0\n",
       "wind_speed     0\n",
       "description    0\n",
       "humidity       0\n",
       "pressure       0\n",
       "datetime       0\n",
       "index          0\n",
       "eventtime      0\n",
       "dtype: int64"
      ]
     },
     "execution_count": 1346,
     "metadata": {},
     "output_type": "execute_result"
    }
   ],
   "source": [
    "city_weather.isnull().sum()"
   ]
  },
  {
   "cell_type": "code",
   "execution_count": 1349,
   "id": "99225c4c",
   "metadata": {},
   "outputs": [
    {
     "data": {
      "text/html": [
       "<div>\n",
       "<style scoped>\n",
       "    .dataframe tbody tr th:only-of-type {\n",
       "        vertical-align: middle;\n",
       "    }\n",
       "\n",
       "    .dataframe tbody tr th {\n",
       "        vertical-align: top;\n",
       "    }\n",
       "\n",
       "    .dataframe thead th {\n",
       "        text-align: right;\n",
       "    }\n",
       "</style>\n",
       "<table border=\"1\" class=\"dataframe\">\n",
       "  <thead>\n",
       "    <tr style=\"text-align: right;\">\n",
       "      <th></th>\n",
       "      <th>city_id</th>\n",
       "      <th>temp</th>\n",
       "      <th>wind_speed</th>\n",
       "      <th>description</th>\n",
       "      <th>humidity</th>\n",
       "      <th>pressure</th>\n",
       "      <th>datetime</th>\n",
       "      <th>index</th>\n",
       "      <th>eventtime</th>\n",
       "    </tr>\n",
       "  </thead>\n",
       "  <tbody>\n",
       "    <tr>\n",
       "      <th>0</th>\n",
       "      <td>C-927ceb5e</td>\n",
       "      <td>30</td>\n",
       "      <td>11</td>\n",
       "      <td>Light snow</td>\n",
       "      <td>86</td>\n",
       "      <td>1019</td>\n",
       "      <td>2019-01-01</td>\n",
       "      <td>0</td>\n",
       "      <td>2024-09-19</td>\n",
       "    </tr>\n",
       "  </tbody>\n",
       "</table>\n",
       "</div>"
      ],
      "text/plain": [
       "      city_id  temp  wind_speed description  humidity  pressure   datetime  \\\n",
       "0  C-927ceb5e    30          11  Light snow        86      1019 2019-01-01   \n",
       "\n",
       "   index  eventtime  \n",
       "0      0 2024-09-19  "
      ]
     },
     "execution_count": 1349,
     "metadata": {},
     "output_type": "execute_result"
    }
   ],
   "source": [
    "city_weather.head(1)"
   ]
  },
  {
   "cell_type": "code",
   "execution_count": 1489,
   "id": "24bad615",
   "metadata": {},
   "outputs": [
    {
     "name": "stdout",
     "output_type": "stream",
     "text": [
      "<class 'pandas.core.frame.DataFrame'>\n",
      "Index: 52076 entries, 0 to 55175\n",
      "Data columns (total 9 columns):\n",
      " #   Column       Non-Null Count  Dtype         \n",
      "---  ------       --------------  -----         \n",
      " 0   city_id      52076 non-null  object        \n",
      " 1   temp         52076 non-null  int64         \n",
      " 2   wind_speed   52076 non-null  int64         \n",
      " 3   description  52076 non-null  object        \n",
      " 4   humidity     52076 non-null  int64         \n",
      " 5   pressure     52076 non-null  int64         \n",
      " 6   datetime     52076 non-null  datetime64[ns]\n",
      " 7   index        52076 non-null  int64         \n",
      " 8   eventtime    52076 non-null  datetime64[ns]\n",
      "dtypes: datetime64[ns](2), int64(5), object(2)\n",
      "memory usage: 4.0+ MB\n"
     ]
    }
   ],
   "source": [
    "city_weather.info()"
   ]
  },
  {
   "cell_type": "code",
   "execution_count": 1350,
   "id": "d3769ef0",
   "metadata": {},
   "outputs": [],
   "source": [
    "city_weather.to_csv('/Users/jeevanapathipati/Documents/TruckDelay/data/cleaned/city_weather_cleaned.csv', index=False)"
   ]
  },
  {
   "cell_type": "markdown",
   "id": "c4f273b9",
   "metadata": {},
   "source": [
    "Drivers table data cleaning"
   ]
  },
  {
   "cell_type": "code",
   "execution_count": 1351,
   "id": "0f511b32",
   "metadata": {},
   "outputs": [],
   "source": [
    "drivers_table = pd.read_csv('/Users/jeevanapathipati/Documents/TruckDelay/data/raw/drivers.csv')"
   ]
  },
  {
   "cell_type": "code",
   "execution_count": 1352,
   "id": "431614b4",
   "metadata": {},
   "outputs": [
    {
     "name": "stdout",
     "output_type": "stream",
     "text": [
      "<class 'pandas.core.frame.DataFrame'>\n",
      "RangeIndex: 1300 entries, 0 to 1299\n",
      "Data columns (total 9 columns):\n",
      " #   Column             Non-Null Count  Dtype  \n",
      "---  ------             --------------  -----  \n",
      " 0   driver_id          1300 non-null   object \n",
      " 1   name               1300 non-null   object \n",
      " 2   gender             1277 non-null   object \n",
      " 3   age                1300 non-null   int64  \n",
      " 4   experience         1300 non-null   int64  \n",
      " 5   driving_style      1248 non-null   object \n",
      " 6   ratings            1300 non-null   int64  \n",
      " 7   vehicle_no         1300 non-null   int64  \n",
      " 8   average_speed_mph  1300 non-null   float64\n",
      "dtypes: float64(1), int64(4), object(4)\n",
      "memory usage: 91.5+ KB\n"
     ]
    }
   ],
   "source": [
    "drivers_table.info()"
   ]
  },
  {
   "cell_type": "code",
   "execution_count": 1353,
   "id": "9c66a16c",
   "metadata": {},
   "outputs": [
    {
     "data": {
      "text/html": [
       "<div>\n",
       "<style scoped>\n",
       "    .dataframe tbody tr th:only-of-type {\n",
       "        vertical-align: middle;\n",
       "    }\n",
       "\n",
       "    .dataframe tbody tr th {\n",
       "        vertical-align: top;\n",
       "    }\n",
       "\n",
       "    .dataframe thead th {\n",
       "        text-align: right;\n",
       "    }\n",
       "</style>\n",
       "<table border=\"1\" class=\"dataframe\">\n",
       "  <thead>\n",
       "    <tr style=\"text-align: right;\">\n",
       "      <th></th>\n",
       "      <th>driver_id</th>\n",
       "      <th>name</th>\n",
       "      <th>gender</th>\n",
       "      <th>age</th>\n",
       "      <th>experience</th>\n",
       "      <th>driving_style</th>\n",
       "      <th>ratings</th>\n",
       "      <th>vehicle_no</th>\n",
       "      <th>average_speed_mph</th>\n",
       "    </tr>\n",
       "  </thead>\n",
       "  <tbody>\n",
       "    <tr>\n",
       "      <th>0</th>\n",
       "      <td>d9f30553-6</td>\n",
       "      <td>Daniel Marks</td>\n",
       "      <td>male</td>\n",
       "      <td>47</td>\n",
       "      <td>5</td>\n",
       "      <td>proactive</td>\n",
       "      <td>7</td>\n",
       "      <td>42302347</td>\n",
       "      <td>62.22</td>\n",
       "    </tr>\n",
       "    <tr>\n",
       "      <th>1</th>\n",
       "      <td>82de7bb8-2</td>\n",
       "      <td>Clifford Carr</td>\n",
       "      <td>male</td>\n",
       "      <td>47</td>\n",
       "      <td>14</td>\n",
       "      <td>proactive</td>\n",
       "      <td>4</td>\n",
       "      <td>27867488</td>\n",
       "      <td>60.89</td>\n",
       "    </tr>\n",
       "    <tr>\n",
       "      <th>2</th>\n",
       "      <td>7e789842-4</td>\n",
       "      <td>Terry Faulkner MD</td>\n",
       "      <td>male</td>\n",
       "      <td>41</td>\n",
       "      <td>9</td>\n",
       "      <td>conservative</td>\n",
       "      <td>2</td>\n",
       "      <td>13927774</td>\n",
       "      <td>53.67</td>\n",
       "    </tr>\n",
       "    <tr>\n",
       "      <th>3</th>\n",
       "      <td>b2555587-8</td>\n",
       "      <td>Brendan Jacobs</td>\n",
       "      <td>male</td>\n",
       "      <td>44</td>\n",
       "      <td>10</td>\n",
       "      <td>proactive</td>\n",
       "      <td>2</td>\n",
       "      <td>69577118</td>\n",
       "      <td>59.82</td>\n",
       "    </tr>\n",
       "    <tr>\n",
       "      <th>4</th>\n",
       "      <td>b2e58421-d</td>\n",
       "      <td>Vincent Davis</td>\n",
       "      <td>male</td>\n",
       "      <td>41</td>\n",
       "      <td>10</td>\n",
       "      <td>proactive</td>\n",
       "      <td>7</td>\n",
       "      <td>28650047</td>\n",
       "      <td>62.65</td>\n",
       "    </tr>\n",
       "  </tbody>\n",
       "</table>\n",
       "</div>"
      ],
      "text/plain": [
       "    driver_id               name gender  age  experience driving_style  \\\n",
       "0  d9f30553-6       Daniel Marks   male   47           5     proactive   \n",
       "1  82de7bb8-2      Clifford Carr   male   47          14     proactive   \n",
       "2  7e789842-4  Terry Faulkner MD   male   41           9  conservative   \n",
       "3  b2555587-8     Brendan Jacobs   male   44          10     proactive   \n",
       "4  b2e58421-d      Vincent Davis   male   41          10     proactive   \n",
       "\n",
       "   ratings  vehicle_no  average_speed_mph  \n",
       "0        7    42302347              62.22  \n",
       "1        4    27867488              60.89  \n",
       "2        2    13927774              53.67  \n",
       "3        2    69577118              59.82  \n",
       "4        7    28650047              62.65  "
      ]
     },
     "execution_count": 1353,
     "metadata": {},
     "output_type": "execute_result"
    }
   ],
   "source": [
    "drivers_table.head(5)"
   ]
  },
  {
   "cell_type": "code",
   "execution_count": 1247,
   "id": "e30cd326",
   "metadata": {},
   "outputs": [
    {
     "data": {
      "text/plain": [
       "(1300, 9)"
      ]
     },
     "execution_count": 1247,
     "metadata": {},
     "output_type": "execute_result"
    }
   ],
   "source": [
    "drivers_table.shape"
   ]
  },
  {
   "cell_type": "code",
   "execution_count": 1248,
   "id": "503414ab",
   "metadata": {},
   "outputs": [
    {
     "data": {
      "text/plain": [
       "driver_id             0\n",
       "name                  0\n",
       "gender               23\n",
       "age                   0\n",
       "experience            0\n",
       "driving_style        52\n",
       "ratings               0\n",
       "vehicle_no            0\n",
       "average_speed_mph     0\n",
       "dtype: int64"
      ]
     },
     "execution_count": 1248,
     "metadata": {},
     "output_type": "execute_result"
    }
   ],
   "source": [
    "drivers_table.isnull().sum()"
   ]
  },
  {
   "cell_type": "code",
   "execution_count": 1355,
   "id": "6f5d6919",
   "metadata": {},
   "outputs": [
    {
     "name": "stdout",
     "output_type": "stream",
     "text": [
      "Unique values in 'driver_id' (1300 total):\n",
      "['d9f30553-6' '82de7bb8-2' '7e789842-4' ... '7e6a0cf5-1' 'c4a966b0-b'\n",
      " 'e5d104b5-1']\n",
      "Unique values in 'name' (1274 total):\n",
      "['Daniel Marks' 'Clifford Carr' 'Terry Faulkner MD' ... 'Richard Ortiz'\n",
      " 'Peter Rodriguez' 'Michael Robinson']\n",
      "Unique values in 'gender' (3 total):\n",
      "['male' 'female' nan]\n",
      "Unique values in 'age' (36 total):\n",
      "[47 41 44 49 54 48 40 56 46 50 55 45 51 43 61 53 37 57 42 52 60 39 59 58\n",
      " 62 38 36 65 32 28 30 64 34 29 33 35]\n",
      "Unique values in 'experience' (41 total):\n",
      "[ 5 14  9 10 17  0  6 19 13 18 11 25 23  4  7 15 24 16  8 22 12 26  2 27\n",
      "  3 28 21 20 31 -7  1 29 -2 30 -3 -5 -1 -4 32 35 -8]\n",
      "Unique values in 'driving_style' (3 total):\n",
      "['proactive' 'conservative' nan]\n",
      "Unique values in 'ratings' (8 total):\n",
      "[7 4 2 9 3 8 6 5]\n",
      "Unique values in 'vehicle_no' (1300 total):\n",
      "[42302347 27867488 13927774 ... 21865328 33564827 34755903]\n",
      "Unique values in 'average_speed_mph' (978 total):\n",
      "[62.22 60.89 53.67 59.82 62.65 57.66 40.79 61.7  42.15 46.49 62.13 60.13\n",
      " 49.87 58.28 60.77 38.87 46.85 43.93 57.49 48.95 54.95 59.43 62.16 45.94\n",
      " 59.04 56.85 62.59 60.74 56.12 62.2  41.03 59.36 60.21 63.16 61.84 63.42\n",
      " 59.53 61.75 44.95 45.29 43.81 60.31 44.02 39.27 39.32 42.63 49.41 63.57\n",
      " 50.83 57.43 59.89 50.52 54.29 45.3  42.4  45.49 49.9  33.15 44.76 58.16\n",
      " 60.67 45.35 60.17 56.88 43.79 58.88 45.96 45.73 49.63 57.72 59.95 47.01\n",
      " 61.06 59.38 39.1  57.9  61.8  59.85 39.16 35.84 60.14 58.91 59.34 64.47\n",
      " 59.91 54.72 51.78 40.3  59.32 44.85 59.01 45.03 55.09 49.7  60.32 60.93\n",
      " 57.94 42.49 50.1  62.11 40.44 61.81 41.56 60.01 56.59 63.78 41.22 43.68\n",
      " 46.78 47.41 61.74 62.06 60.45 57.65 64.32 59.66 61.52 49.47 60.99 44.82\n",
      " 40.82 60.1  58.58 47.02 50.43 46.67 42.6  64.42 41.24 47.11 62.66 48.1\n",
      " 49.74 44.9  64.48 48.54 60.19 61.66 47.74 44.91 58.74 44.1  37.08 61.12\n",
      " 59.   60.2  59.68 35.2  61.16 61.65 63.63 51.4  65.56 50.59 57.85 43.73\n",
      " 59.52 59.77 60.27 40.52 39.94 47.68 56.41 39.03 59.09 42.24 61.01 42.61\n",
      " 43.74 54.35 56.94 39.88 58.05 58.15 44.53 56.15 64.15 41.33 63.05 62.35\n",
      " 58.97 38.15 45.85 49.27 51.7  63.37 66.51 58.62 56.64 56.53 63.95 41.43\n",
      " 38.39 46.12 54.78 61.97 59.56 39.7  60.58 55.7  48.03 46.2  59.33 58.38\n",
      " 61.46 42.02 63.11 59.03 47.22 60.85 39.99 44.7  58.14 44.61 36.3  59.57\n",
      " 44.74 29.15 60.48 44.65 62.25 49.91 43.06 39.81 47.14 46.17 49.89 35.58\n",
      " 43.4  60.66 42.94 57.47 43.66 47.86 58.11 42.96 45.43 58.65 61.94 56.34\n",
      " 43.5  59.39 42.67 43.92 63.59 58.69 43.75 58.94 43.85 49.34 43.15 63.15\n",
      " 44.58 65.42 64.   61.57 54.06 47.94 39.53 38.86 35.32 55.19 63.3  56.31\n",
      " 63.31 48.2  43.35 40.5  62.02 59.3  48.23 47.51 58.44 66.02 36.52 44.26\n",
      " 43.69 42.01 62.33 59.6  44.2  64.71 47.15 40.37 59.5  62.07 39.05 34.5\n",
      " 61.35 38.25 59.65 44.32 37.74 42.84 58.87 60.33 58.63 56.77 57.57 59.97\n",
      " 66.34 48.17 60.42 56.82 61.58 59.29 63.52 39.22 29.32 42.78 45.07 44.35\n",
      " 61.89 47.17 61.59 50.93 47.57 61.04 60.76 63.74 53.06 57.38 45.26 49.54\n",
      " 57.58 44.79 44.45 45.81 46.56 49.68 48.88 61.28 51.65 41.31 47.45 49.45\n",
      " 64.11 46.36 46.02 46.82 43.42 43.37 62.51 60.8  47.32 62.   65.17 53.4\n",
      " 60.54 58.57 59.18 55.29 42.39 46.57 59.11 48.22 44.97 60.29 46.58 61.24\n",
      " 61.32 57.74 58.54 57.07 44.46 41.8  45.88 47.36 59.23 43.94 61.36 43.55\n",
      " 45.86 43.24 44.41 35.29 60.35 59.49 37.54 42.25 47.62 60.09 62.38 62.45\n",
      " 60.34 39.39 60.84 59.86 61.2  57.6  58.21 35.07 56.84 48.11 57.87 58.7\n",
      " 61.02 64.97 58.27 58.02 60.79 60.53 37.65 38.35 57.15 48.44 59.46 60.9\n",
      " 58.26 65.04 63.54 47.85 61.13 44.14 62.09 58.98 59.21 59.4  39.85 50.48\n",
      " 57.92 64.99 57.41 61.54 39.18 63.14 44.43 42.68 61.95 46.84 48.42 43.88\n",
      " 58.42 56.33 60.88 38.29 58.99 49.1  55.21 53.48 60.75 37.11 44.23 57.31\n",
      " 49.3  47.98 58.67 40.96 64.63 62.62 33.31 61.4  48.14 60.46 35.86 64.6\n",
      " 48.75 60.25 59.27 56.78 63.   54.19 60.83 64.51 58.17 60.61 64.28 59.59\n",
      " 52.44 59.98 49.21 65.21 50.88 46.28 59.54 59.71 59.02 58.56 52.16 46.52\n",
      " 61.11 61.25 50.23 60.11 58.1  57.23 57.63 43.95 40.48 41.66 52.81 43.39\n",
      " 49.38 58.96 44.8  41.37 55.36 42.86 50.38 52.27 33.94 61.93 48.62 57.67\n",
      " 57.04 60.87 57.78 59.83 51.3  57.36 59.64 38.98 58.09 50.49 56.79 37.67\n",
      " 56.98 40.95 58.72 37.72 40.02 31.63 52.25 52.1  60.52 56.74 64.75 52.88\n",
      " 60.18 60.59 48.76 63.96 62.82 40.08 61.05 63.53 57.77 43.05 61.53 40.91\n",
      " 49.77 46.94 60.43 58.45 65.06 58.18 32.43 52.02 59.12 46.04 63.19 63.41\n",
      " 60.6  59.99 42.   48.47 62.57 38.81 65.28 48.78 58.78 63.07 56.51 47.79\n",
      " 62.98 57.82 51.87 64.82 45.14 41.65 57.52 39.63 41.62 62.89 60.37 65.34\n",
      " 48.85 40.63 43.41 40.59 61.   39.12 58.89 61.85 40.13 62.64 43.58 59.69\n",
      " 40.85 59.14 59.44 29.22 47.26 62.97 55.34 47.72 64.31 41.59 37.58 61.29\n",
      " 61.3  59.26 66.48 52.82 61.37 63.67 42.22 36.43 59.81 44.01 44.49 61.22\n",
      " 40.86 61.79 61.18 49.69 40.89 56.52 56.32 49.24 60.96 63.27 48.74 45.36\n",
      " 38.61 63.35 65.8  58.37 60.05 61.17 57.71 42.55 52.75 58.01 62.34 63.23\n",
      " 43.1  59.96 57.13 40.72 45.17 50.96 62.56 53.38 38.69 48.06 62.61 60.92\n",
      " 42.64 51.19 46.38 50.73 50.22 41.34 46.47 59.62 45.65 51.98 62.93 61.43\n",
      " 47.8  62.95 58.08 37.45 49.17 65.18 40.69 58.06 58.29 59.25 48.21 48.8\n",
      " 44.55 63.49 60.04 53.58 58.51 57.86 63.68 56.29 43.26 53.35 40.05 49.62\n",
      " 58.85 59.58 48.77 48.99 44.13 62.83 57.59 54.87 58.5  60.97 41.52 50.05\n",
      " 58.81 58.82 36.74 57.11 36.77 43.76 47.64 67.24 52.49 57.76 41.78 59.31\n",
      " 60.49 39.38 36.46 42.48 38.51 49.06 57.51 40.73 38.88 40.98 47.87 45.52\n",
      " 51.84 44.15 59.76 62.5  42.44 51.6  58.86 58.46 61.76 63.64 61.1  63.5\n",
      " 59.87 63.97 59.9  52.59 61.42 60.65 41.51 45.04 61.03 51.33 41.92 60.26\n",
      " 44.71 63.18 46.99 52.89 41.39 61.15 42.19 34.27 61.61 48.58 62.79 60.5\n",
      " 48.56 45.28 52.85 41.26 45.59 49.49 58.79 60.3  62.47 47.93 47.99 63.29\n",
      " 66.05 63.94 39.87 61.62 47.91 42.35 59.19 57.48 58.34 47.71 49.66 61.91\n",
      " 60.95 51.44 38.85 59.2  43.3  38.65 42.89 48.41 45.41 54.59 36.26 63.38\n",
      " 45.42 58.23 44.24 57.8  49.35 59.74 46.39 46.24 40.23 53.   43.64 59.05\n",
      " 40.88 37.37 46.13 44.06 61.23 58.95 59.37 44.29 41.06 40.56 43.9  57.19\n",
      " 57.02 65.85 41.71 62.76 39.21 43.33 43.72 60.51 39.2  58.9  58.47 45.64\n",
      " 45.98 63.06 45.23 43.28 46.37 58.52 64.37 62.54 44.4  62.63 60.28 42.37\n",
      " 46.92 38.97 37.44 62.12 58.8  47.18 45.48 51.29 59.78 64.8  56.28 61.26\n",
      " 62.7  52.48 59.67 61.68 59.88 55.92 40.66 39.36 57.97 38.84 41.01 58.64\n",
      " 52.72 32.49 62.03 55.93 61.49 44.3  44.44 43.34 57.32 48.9  45.77 54.18\n",
      " 60.12 46.   38.64 63.13 40.35 59.22 37.84 45.08 60.72 66.65 58.24 44.56\n",
      " 42.52 36.44 57.06 57.84 58.53 57.03 49.93 56.97 62.05 38.75 59.51 32.16\n",
      " 62.53 48.18 39.15 61.72 49.55 48.24 53.44 48.91 55.07 48.08 59.15 57.98\n",
      " 46.16 59.61 60.73 40.74 58.6  42.18 38.28 46.51 39.91 52.2  43.44 46.42\n",
      " 52.45 60.03 58.25 61.55 46.32 44.59 61.88 63.89 46.74 34.09 42.38 63.04\n",
      " 63.88 52.3  39.61 42.77 45.84 44.12 41.72 47.47 59.92 61.21 61.87 45.58\n",
      " 44.92 46.87 38.9  63.25 42.08 34.86 47.05 58.32 51.   39.89 48.51 50.97\n",
      " 58.93 58.39 60.82 39.54 61.96 55.15 56.6  40.55 52.12 62.41 50.12 44.69\n",
      " 49.72 44.33 60.64 48.29 43.14 56.3 ]\n"
     ]
    }
   ],
   "source": [
    "display_unique_values(drivers_table)"
   ]
  },
  {
   "cell_type": "code",
   "execution_count": 1356,
   "id": "ee21ab29",
   "metadata": {},
   "outputs": [],
   "source": [
    "#drivers_table = drop_columns(drivers_table, ['unwanted_col'])"
   ]
  },
  {
   "cell_type": "code",
   "execution_count": 1357,
   "id": "55872513",
   "metadata": {},
   "outputs": [],
   "source": [
    "drivers_table = remove_duplicates(drivers_table)"
   ]
  },
  {
   "cell_type": "code",
   "execution_count": 1358,
   "id": "14da5f3b",
   "metadata": {},
   "outputs": [],
   "source": [
    "drivers_table = filling_missing_values(drivers_table)"
   ]
  },
  {
   "cell_type": "code",
   "execution_count": 1359,
   "id": "b76cc38b",
   "metadata": {},
   "outputs": [
    {
     "data": {
      "text/plain": [
       "driver_id            0\n",
       "name                 0\n",
       "gender               0\n",
       "age                  0\n",
       "experience           0\n",
       "driving_style        0\n",
       "ratings              0\n",
       "vehicle_no           0\n",
       "average_speed_mph    0\n",
       "dtype: int64"
      ]
     },
     "execution_count": 1359,
     "metadata": {},
     "output_type": "execute_result"
    }
   ],
   "source": [
    "drivers_table.isnull().sum()"
   ]
  },
  {
   "cell_type": "code",
   "execution_count": 1360,
   "id": "86ffa4f1",
   "metadata": {},
   "outputs": [
    {
     "data": {
      "text/plain": [
       "(1300, 9)"
      ]
     },
     "execution_count": 1360,
     "metadata": {},
     "output_type": "execute_result"
    }
   ],
   "source": [
    "drivers_table.shape"
   ]
  },
  {
   "cell_type": "code",
   "execution_count": 1361,
   "id": "c1ecc8ff",
   "metadata": {},
   "outputs": [
    {
     "name": "stdout",
     "output_type": "stream",
     "text": [
      "<class 'pandas.core.frame.DataFrame'>\n",
      "RangeIndex: 1300 entries, 0 to 1299\n",
      "Data columns (total 9 columns):\n",
      " #   Column             Non-Null Count  Dtype  \n",
      "---  ------             --------------  -----  \n",
      " 0   driver_id          1300 non-null   object \n",
      " 1   name               1300 non-null   object \n",
      " 2   gender             1300 non-null   object \n",
      " 3   age                1300 non-null   int64  \n",
      " 4   experience         1300 non-null   int64  \n",
      " 5   driving_style      1300 non-null   object \n",
      " 6   ratings            1300 non-null   int64  \n",
      " 7   vehicle_no         1300 non-null   int64  \n",
      " 8   average_speed_mph  1300 non-null   float64\n",
      "dtypes: float64(1), int64(4), object(4)\n",
      "memory usage: 91.5+ KB\n"
     ]
    }
   ],
   "source": [
    "drivers_table.info()"
   ]
  },
  {
   "cell_type": "code",
   "execution_count": 1362,
   "id": "a28113cd",
   "metadata": {},
   "outputs": [],
   "source": [
    "drivers_table['vehicle_no'] = drivers_table['vehicle_no'].astype(object)\n"
   ]
  },
  {
   "cell_type": "code",
   "execution_count": 1363,
   "id": "67bcd3c7",
   "metadata": {},
   "outputs": [
    {
     "data": {
      "image/png": "[encoded data removed]",
      "text/plain": [
       "<Figure size 600x400 with 1 Axes>"
      ]
     },
     "metadata": {},
     "output_type": "display_data"
    }
   ],
   "source": [
    "visualize_data(drivers_table, 'age')"
   ]
  },
  {
   "cell_type": "code",
   "execution_count": 1364,
   "id": "e773f611",
   "metadata": {},
   "outputs": [
    {
     "data": {
      "image/png": "[encoded data removed]",
      "text/plain": [
       "<Figure size 600x400 with 1 Axes>"
      ]
     },
     "metadata": {},
     "output_type": "display_data"
    }
   ],
   "source": [
    "visualize_data(drivers_table, 'average_speed_mph')"
   ]
  },
  {
   "cell_type": "code",
   "execution_count": 1365,
   "id": "18a152e9",
   "metadata": {},
   "outputs": [
    {
     "data": {
      "image/png": "[encoded data removed]",
      "text/plain": [
       "<Figure size 600x400 with 1 Axes>"
      ]
     },
     "metadata": {},
     "output_type": "display_data"
    }
   ],
   "source": [
    "visualize_data(drivers_table, 'experience')"
   ]
  },
  {
   "cell_type": "code",
   "execution_count": 1366,
   "id": "cf44c927",
   "metadata": {},
   "outputs": [
    {
     "data": {
      "image/png": "[encoded data removed]",
      "text/plain": [
       "<Figure size 600x400 with 1 Axes>"
      ]
     },
     "metadata": {},
     "output_type": "display_data"
    }
   ],
   "source": [
    "visualize_data(drivers_table, 'ratings')"
   ]
  },
  {
   "cell_type": "code",
   "execution_count": 1367,
   "id": "8a714659",
   "metadata": {},
   "outputs": [],
   "source": [
    "drivers_table = remove_outliers(drivers_table)"
   ]
  },
  {
   "cell_type": "code",
   "execution_count": 1368,
   "id": "0b44d95b",
   "metadata": {},
   "outputs": [
    {
     "data": {
      "text/plain": [
       "(1283, 9)"
      ]
     },
     "execution_count": 1368,
     "metadata": {},
     "output_type": "execute_result"
    }
   ],
   "source": [
    "drivers_table.shape"
   ]
  },
  {
   "cell_type": "code",
   "execution_count": 1369,
   "id": "7900e1cf",
   "metadata": {},
   "outputs": [],
   "source": [
    "drivers_table = add_index_and_eventtime_columns(drivers_table)"
   ]
  },
  {
   "cell_type": "code",
   "execution_count": 1370,
   "id": "8c96df99",
   "metadata": {},
   "outputs": [
    {
     "data": {
      "text/html": [
       "<div>\n",
       "<style scoped>\n",
       "    .dataframe tbody tr th:only-of-type {\n",
       "        vertical-align: middle;\n",
       "    }\n",
       "\n",
       "    .dataframe tbody tr th {\n",
       "        vertical-align: top;\n",
       "    }\n",
       "\n",
       "    .dataframe thead th {\n",
       "        text-align: right;\n",
       "    }\n",
       "</style>\n",
       "<table border=\"1\" class=\"dataframe\">\n",
       "  <thead>\n",
       "    <tr style=\"text-align: right;\">\n",
       "      <th></th>\n",
       "      <th>driver_id</th>\n",
       "      <th>name</th>\n",
       "      <th>gender</th>\n",
       "      <th>age</th>\n",
       "      <th>experience</th>\n",
       "      <th>driving_style</th>\n",
       "      <th>ratings</th>\n",
       "      <th>vehicle_no</th>\n",
       "      <th>average_speed_mph</th>\n",
       "      <th>index</th>\n",
       "      <th>eventtime</th>\n",
       "    </tr>\n",
       "  </thead>\n",
       "  <tbody>\n",
       "    <tr>\n",
       "      <th>0</th>\n",
       "      <td>d9f30553-6</td>\n",
       "      <td>Daniel Marks</td>\n",
       "      <td>male</td>\n",
       "      <td>47</td>\n",
       "      <td>5</td>\n",
       "      <td>proactive</td>\n",
       "      <td>7</td>\n",
       "      <td>42302347</td>\n",
       "      <td>62.22</td>\n",
       "      <td>0</td>\n",
       "      <td>2024-09-19</td>\n",
       "    </tr>\n",
       "    <tr>\n",
       "      <th>1</th>\n",
       "      <td>82de7bb8-2</td>\n",
       "      <td>Clifford Carr</td>\n",
       "      <td>male</td>\n",
       "      <td>47</td>\n",
       "      <td>14</td>\n",
       "      <td>proactive</td>\n",
       "      <td>4</td>\n",
       "      <td>27867488</td>\n",
       "      <td>60.89</td>\n",
       "      <td>1</td>\n",
       "      <td>2024-09-19</td>\n",
       "    </tr>\n",
       "  </tbody>\n",
       "</table>\n",
       "</div>"
      ],
      "text/plain": [
       "    driver_id           name gender  age  experience driving_style  ratings  \\\n",
       "0  d9f30553-6   Daniel Marks   male   47           5     proactive        7   \n",
       "1  82de7bb8-2  Clifford Carr   male   47          14     proactive        4   \n",
       "\n",
       "  vehicle_no  average_speed_mph  index  eventtime  \n",
       "0   42302347              62.22      0 2024-09-19  \n",
       "1   27867488              60.89      1 2024-09-19  "
      ]
     },
     "execution_count": 1370,
     "metadata": {},
     "output_type": "execute_result"
    }
   ],
   "source": [
    "drivers_table.head(2)"
   ]
  },
  {
   "cell_type": "code",
   "execution_count": 1371,
   "id": "0b30c005",
   "metadata": {},
   "outputs": [],
   "source": [
    "drivers_table.to_csv('/Users/jeevanapathipati/Documents/TruckDelay/data/cleaned/drivers_cleaned.csv', index=False)"
   ]
  },
  {
   "cell_type": "markdown",
   "id": "cdda5492",
   "metadata": {},
   "source": [
    "Routes table data cleaning"
   ]
  },
  {
   "cell_type": "code",
   "execution_count": 1372,
   "id": "3bce6fd6",
   "metadata": {},
   "outputs": [],
   "source": [
    "routes_table = pd.read_csv('/Users/jeevanapathipati/Documents/TruckDelay/data/raw/routes.csv')"
   ]
  },
  {
   "cell_type": "code",
   "execution_count": 1373,
   "id": "62836d2e",
   "metadata": {},
   "outputs": [
    {
     "data": {
      "text/html": [
       "<div>\n",
       "<style scoped>\n",
       "    .dataframe tbody tr th:only-of-type {\n",
       "        vertical-align: middle;\n",
       "    }\n",
       "\n",
       "    .dataframe tbody tr th {\n",
       "        vertical-align: top;\n",
       "    }\n",
       "\n",
       "    .dataframe thead th {\n",
       "        text-align: right;\n",
       "    }\n",
       "</style>\n",
       "<table border=\"1\" class=\"dataframe\">\n",
       "  <thead>\n",
       "    <tr style=\"text-align: right;\">\n",
       "      <th></th>\n",
       "      <th>route_id</th>\n",
       "      <th>origin_id</th>\n",
       "      <th>destination_id</th>\n",
       "      <th>distance</th>\n",
       "      <th>average_hours</th>\n",
       "    </tr>\n",
       "  </thead>\n",
       "  <tbody>\n",
       "    <tr>\n",
       "      <th>0</th>\n",
       "      <td>R-ada2a391</td>\n",
       "      <td>C-927ceb5e</td>\n",
       "      <td>C-56e39a5e</td>\n",
       "      <td>1735.06</td>\n",
       "      <td>34.70</td>\n",
       "    </tr>\n",
       "    <tr>\n",
       "      <th>1</th>\n",
       "      <td>R-ae0ef31f</td>\n",
       "      <td>C-927ceb5e</td>\n",
       "      <td>C-73ae5412</td>\n",
       "      <td>1498.24</td>\n",
       "      <td>29.96</td>\n",
       "    </tr>\n",
       "    <tr>\n",
       "      <th>2</th>\n",
       "      <td>R-4beec5fd</td>\n",
       "      <td>C-927ceb5e</td>\n",
       "      <td>C-4fe0fa24</td>\n",
       "      <td>6078.46</td>\n",
       "      <td>121.57</td>\n",
       "    </tr>\n",
       "    <tr>\n",
       "      <th>3</th>\n",
       "      <td>R-8d7a7fb2</td>\n",
       "      <td>C-927ceb5e</td>\n",
       "      <td>C-451776b7</td>\n",
       "      <td>1543.01</td>\n",
       "      <td>30.86</td>\n",
       "    </tr>\n",
       "    <tr>\n",
       "      <th>4</th>\n",
       "      <td>R-b236e347</td>\n",
       "      <td>C-927ceb5e</td>\n",
       "      <td>C-d80a1e7d</td>\n",
       "      <td>310.75</td>\n",
       "      <td>6.22</td>\n",
       "    </tr>\n",
       "    <tr>\n",
       "      <th>5</th>\n",
       "      <td>R-93f348a8</td>\n",
       "      <td>C-927ceb5e</td>\n",
       "      <td>C-c92599e2</td>\n",
       "      <td>1810.21</td>\n",
       "      <td>36.20</td>\n",
       "    </tr>\n",
       "  </tbody>\n",
       "</table>\n",
       "</div>"
      ],
      "text/plain": [
       "     route_id   origin_id destination_id  distance  average_hours\n",
       "0  R-ada2a391  C-927ceb5e     C-56e39a5e   1735.06          34.70\n",
       "1  R-ae0ef31f  C-927ceb5e     C-73ae5412   1498.24          29.96\n",
       "2  R-4beec5fd  C-927ceb5e     C-4fe0fa24   6078.46         121.57\n",
       "3  R-8d7a7fb2  C-927ceb5e     C-451776b7   1543.01          30.86\n",
       "4  R-b236e347  C-927ceb5e     C-d80a1e7d    310.75           6.22\n",
       "5  R-93f348a8  C-927ceb5e     C-c92599e2   1810.21          36.20"
      ]
     },
     "execution_count": 1373,
     "metadata": {},
     "output_type": "execute_result"
    }
   ],
   "source": [
    "routes_table.head(6)"
   ]
  },
  {
   "cell_type": "code",
   "execution_count": 1374,
   "id": "5386767d",
   "metadata": {},
   "outputs": [
    {
     "data": {
      "text/plain": [
       "(2352, 5)"
      ]
     },
     "execution_count": 1374,
     "metadata": {},
     "output_type": "execute_result"
    }
   ],
   "source": [
    "routes_table.shape"
   ]
  },
  {
   "cell_type": "code",
   "execution_count": 1375,
   "id": "d7bc60f1",
   "metadata": {},
   "outputs": [
    {
     "name": "stdout",
     "output_type": "stream",
     "text": [
      "<class 'pandas.core.frame.DataFrame'>\n",
      "RangeIndex: 2352 entries, 0 to 2351\n",
      "Data columns (total 5 columns):\n",
      " #   Column          Non-Null Count  Dtype  \n",
      "---  ------          --------------  -----  \n",
      " 0   route_id        2352 non-null   object \n",
      " 1   origin_id       2352 non-null   object \n",
      " 2   destination_id  2352 non-null   object \n",
      " 3   distance        2352 non-null   float64\n",
      " 4   average_hours   2352 non-null   float64\n",
      "dtypes: float64(2), object(3)\n",
      "memory usage: 92.0+ KB\n"
     ]
    }
   ],
   "source": [
    "routes_table.info()"
   ]
  },
  {
   "cell_type": "code",
   "execution_count": 1376,
   "id": "247227bf",
   "metadata": {},
   "outputs": [
    {
     "data": {
      "text/plain": [
       "route_id          0\n",
       "origin_id         0\n",
       "destination_id    0\n",
       "distance          0\n",
       "average_hours     0\n",
       "dtype: int64"
      ]
     },
     "execution_count": 1376,
     "metadata": {},
     "output_type": "execute_result"
    }
   ],
   "source": [
    "routes_table.isnull().sum()"
   ]
  },
  {
   "cell_type": "code",
   "execution_count": 1377,
   "id": "f7db5376",
   "metadata": {},
   "outputs": [],
   "source": [
    "routes_table = remove_duplicates(routes_table)"
   ]
  },
  {
   "cell_type": "code",
   "execution_count": 1378,
   "id": "a91bd7cb",
   "metadata": {},
   "outputs": [],
   "source": [
    "#routes_table = drop_columns(routes_table, ['unwanted_col'])"
   ]
  },
  {
   "cell_type": "code",
   "execution_count": 1379,
   "id": "32024c2c",
   "metadata": {},
   "outputs": [
    {
     "data": {
      "image/png": "[encoded data removed]",
      "text/plain": [
       "<Figure size 1200x400 with 2 Axes>"
      ]
     },
     "metadata": {},
     "output_type": "display_data"
    }
   ],
   "source": [
    "visualize_data(routes_table, ['distance','average_hours']\n",
    "               )"
   ]
  },
  {
   "cell_type": "code",
   "execution_count": 1380,
   "id": "fd8c3166",
   "metadata": {},
   "outputs": [],
   "source": [
    "routes_table = remove_outliers(routes_table)"
   ]
  },
  {
   "cell_type": "code",
   "execution_count": 1381,
   "id": "1e8e448b",
   "metadata": {},
   "outputs": [
    {
     "data": {
      "text/plain": [
       "(1896, 5)"
      ]
     },
     "execution_count": 1381,
     "metadata": {},
     "output_type": "execute_result"
    }
   ],
   "source": [
    "routes_table.shape"
   ]
  },
  {
   "cell_type": "code",
   "execution_count": 1382,
   "id": "16fc1011",
   "metadata": {},
   "outputs": [],
   "source": [
    "routes_table = add_index_and_eventtime_columns(routes_table)"
   ]
  },
  {
   "cell_type": "code",
   "execution_count": 1383,
   "id": "92fd606f",
   "metadata": {},
   "outputs": [
    {
     "data": {
      "text/html": [
       "<div>\n",
       "<style scoped>\n",
       "    .dataframe tbody tr th:only-of-type {\n",
       "        vertical-align: middle;\n",
       "    }\n",
       "\n",
       "    .dataframe tbody tr th {\n",
       "        vertical-align: top;\n",
       "    }\n",
       "\n",
       "    .dataframe thead th {\n",
       "        text-align: right;\n",
       "    }\n",
       "</style>\n",
       "<table border=\"1\" class=\"dataframe\">\n",
       "  <thead>\n",
       "    <tr style=\"text-align: right;\">\n",
       "      <th></th>\n",
       "      <th>route_id</th>\n",
       "      <th>origin_id</th>\n",
       "      <th>destination_id</th>\n",
       "      <th>distance</th>\n",
       "      <th>average_hours</th>\n",
       "      <th>index</th>\n",
       "      <th>eventtime</th>\n",
       "    </tr>\n",
       "  </thead>\n",
       "  <tbody>\n",
       "    <tr>\n",
       "      <th>0</th>\n",
       "      <td>R-ada2a391</td>\n",
       "      <td>C-927ceb5e</td>\n",
       "      <td>C-56e39a5e</td>\n",
       "      <td>1735.06</td>\n",
       "      <td>34.70</td>\n",
       "      <td>0</td>\n",
       "      <td>2024-09-19</td>\n",
       "    </tr>\n",
       "    <tr>\n",
       "      <th>1</th>\n",
       "      <td>R-ae0ef31f</td>\n",
       "      <td>C-927ceb5e</td>\n",
       "      <td>C-73ae5412</td>\n",
       "      <td>1498.24</td>\n",
       "      <td>29.96</td>\n",
       "      <td>1</td>\n",
       "      <td>2024-09-19</td>\n",
       "    </tr>\n",
       "  </tbody>\n",
       "</table>\n",
       "</div>"
      ],
      "text/plain": [
       "     route_id   origin_id destination_id  distance  average_hours  index  \\\n",
       "0  R-ada2a391  C-927ceb5e     C-56e39a5e   1735.06          34.70      0   \n",
       "1  R-ae0ef31f  C-927ceb5e     C-73ae5412   1498.24          29.96      1   \n",
       "\n",
       "   eventtime  \n",
       "0 2024-09-19  \n",
       "1 2024-09-19  "
      ]
     },
     "execution_count": 1383,
     "metadata": {},
     "output_type": "execute_result"
    }
   ],
   "source": [
    "routes_table.head(2)"
   ]
  },
  {
   "cell_type": "code",
   "execution_count": 1384,
   "id": "92cd1c13",
   "metadata": {},
   "outputs": [],
   "source": [
    "routes_table.to_csv('/Users/jeevanapathipati/Documents/TruckDelay/data/cleaned/routes_cleaned.csv', index=False)"
   ]
  },
  {
   "cell_type": "markdown",
   "id": "1b7d81bc",
   "metadata": {},
   "source": [
    "Route weather data cleaning"
   ]
  },
  {
   "cell_type": "code",
   "execution_count": 1385,
   "id": "47aee82d",
   "metadata": {},
   "outputs": [],
   "source": [
    "routes_weather = pd.read_csv('/Users/jeevanapathipati/Documents/TruckDelay/data/raw/routes_weather.csv')"
   ]
  },
  {
   "cell_type": "code",
   "execution_count": 1386,
   "id": "4d744bb6",
   "metadata": {},
   "outputs": [
    {
     "data": {
      "text/html": [
       "<div>\n",
       "<style scoped>\n",
       "    .dataframe tbody tr th:only-of-type {\n",
       "        vertical-align: middle;\n",
       "    }\n",
       "\n",
       "    .dataframe tbody tr th {\n",
       "        vertical-align: top;\n",
       "    }\n",
       "\n",
       "    .dataframe thead th {\n",
       "        text-align: right;\n",
       "    }\n",
       "</style>\n",
       "<table border=\"1\" class=\"dataframe\">\n",
       "  <thead>\n",
       "    <tr style=\"text-align: right;\">\n",
       "      <th></th>\n",
       "      <th>route_id</th>\n",
       "      <th>Date</th>\n",
       "      <th>temp</th>\n",
       "      <th>wind_speed</th>\n",
       "      <th>description</th>\n",
       "      <th>precip</th>\n",
       "      <th>humidity</th>\n",
       "      <th>visibility</th>\n",
       "      <th>pressure</th>\n",
       "      <th>chanceofrain</th>\n",
       "      <th>chanceoffog</th>\n",
       "      <th>chanceofsnow</th>\n",
       "      <th>chanceofthunder</th>\n",
       "    </tr>\n",
       "  </thead>\n",
       "  <tbody>\n",
       "    <tr>\n",
       "      <th>0</th>\n",
       "      <td>R-ada2a391</td>\n",
       "      <td>2019-01-01 00:00:00</td>\n",
       "      <td>30</td>\n",
       "      <td>11</td>\n",
       "      <td>Heavy snow</td>\n",
       "      <td>0.0</td>\n",
       "      <td>90</td>\n",
       "      <td>1</td>\n",
       "      <td>1010</td>\n",
       "      <td>0</td>\n",
       "      <td>0</td>\n",
       "      <td>0</td>\n",
       "      <td>0</td>\n",
       "    </tr>\n",
       "    <tr>\n",
       "      <th>1</th>\n",
       "      <td>R-ada2a391</td>\n",
       "      <td>2019-01-01 06:00:00</td>\n",
       "      <td>30</td>\n",
       "      <td>11</td>\n",
       "      <td>Heavy snow</td>\n",
       "      <td>0.0</td>\n",
       "      <td>91</td>\n",
       "      <td>3</td>\n",
       "      <td>1012</td>\n",
       "      <td>0</td>\n",
       "      <td>0</td>\n",
       "      <td>0</td>\n",
       "      <td>0</td>\n",
       "    </tr>\n",
       "    <tr>\n",
       "      <th>2</th>\n",
       "      <td>R-ada2a391</td>\n",
       "      <td>2019-01-02 00:00:00</td>\n",
       "      <td>28</td>\n",
       "      <td>11</td>\n",
       "      <td>Cloudy</td>\n",
       "      <td>0.0</td>\n",
       "      <td>91</td>\n",
       "      <td>4</td>\n",
       "      <td>1013</td>\n",
       "      <td>0</td>\n",
       "      <td>0</td>\n",
       "      <td>0</td>\n",
       "      <td>0</td>\n",
       "    </tr>\n",
       "    <tr>\n",
       "      <th>3</th>\n",
       "      <td>R-ada2a391</td>\n",
       "      <td>2019-01-02 06:00:00</td>\n",
       "      <td>27</td>\n",
       "      <td>11</td>\n",
       "      <td>Cloudy</td>\n",
       "      <td>0.0</td>\n",
       "      <td>92</td>\n",
       "      <td>6</td>\n",
       "      <td>1015</td>\n",
       "      <td>0</td>\n",
       "      <td>0</td>\n",
       "      <td>0</td>\n",
       "      <td>0</td>\n",
       "    </tr>\n",
       "    <tr>\n",
       "      <th>4</th>\n",
       "      <td>R-ada2a391</td>\n",
       "      <td>2019-01-03 00:00:00</td>\n",
       "      <td>27</td>\n",
       "      <td>9</td>\n",
       "      <td>Cloudy</td>\n",
       "      <td>0.0</td>\n",
       "      <td>93</td>\n",
       "      <td>6</td>\n",
       "      <td>1016</td>\n",
       "      <td>0</td>\n",
       "      <td>0</td>\n",
       "      <td>0</td>\n",
       "      <td>0</td>\n",
       "    </tr>\n",
       "  </tbody>\n",
       "</table>\n",
       "</div>"
      ],
      "text/plain": [
       "     route_id                 Date  temp  wind_speed description  precip  \\\n",
       "0  R-ada2a391  2019-01-01 00:00:00    30          11  Heavy snow     0.0   \n",
       "1  R-ada2a391  2019-01-01 06:00:00    30          11  Heavy snow     0.0   \n",
       "2  R-ada2a391  2019-01-02 00:00:00    28          11      Cloudy     0.0   \n",
       "3  R-ada2a391  2019-01-02 06:00:00    27          11      Cloudy     0.0   \n",
       "4  R-ada2a391  2019-01-03 00:00:00    27           9      Cloudy     0.0   \n",
       "\n",
       "   humidity  visibility  pressure  chanceofrain  chanceoffog  chanceofsnow  \\\n",
       "0        90           1      1010             0            0             0   \n",
       "1        91           3      1012             0            0             0   \n",
       "2        91           4      1013             0            0             0   \n",
       "3        92           6      1015             0            0             0   \n",
       "4        93           6      1016             0            0             0   \n",
       "\n",
       "   chanceofthunder  \n",
       "0                0  \n",
       "1                0  \n",
       "2                0  \n",
       "3                0  \n",
       "4                0  "
      ]
     },
     "execution_count": 1386,
     "metadata": {},
     "output_type": "execute_result"
    }
   ],
   "source": [
    "routes_weather.head(5)"
   ]
  },
  {
   "cell_type": "code",
   "execution_count": 1387,
   "id": "2daa3cc9",
   "metadata": {},
   "outputs": [
    {
     "data": {
      "text/plain": [
       "Index(['route_id', 'Date', 'temp', 'wind_speed', 'description', 'precip',\n",
       "       'humidity', 'visibility', 'pressure', 'chanceofrain', 'chanceoffog',\n",
       "       'chanceofsnow', 'chanceofthunder'],\n",
       "      dtype='object')"
      ]
     },
     "execution_count": 1387,
     "metadata": {},
     "output_type": "execute_result"
    }
   ],
   "source": [
    "routes_weather.columns"
   ]
  },
  {
   "cell_type": "code",
   "execution_count": 1388,
   "id": "5717e70b",
   "metadata": {},
   "outputs": [],
   "source": [
    "routes_weather = drop_columns(routes_weather, ['chanceofrain', 'chanceoffog',\n",
    "       'chanceofsnow', 'chanceofthunder'])"
   ]
  },
  {
   "cell_type": "code",
   "execution_count": 1389,
   "id": "05bd0d15",
   "metadata": {},
   "outputs": [
    {
     "data": {
      "text/plain": [
       "Index(['route_id', 'Date', 'temp', 'wind_speed', 'description', 'precip',\n",
       "       'humidity', 'visibility', 'pressure'],\n",
       "      dtype='object')"
      ]
     },
     "execution_count": 1389,
     "metadata": {},
     "output_type": "execute_result"
    }
   ],
   "source": [
    "routes_weather.columns"
   ]
  },
  {
   "cell_type": "code",
   "execution_count": 1390,
   "id": "48730e44",
   "metadata": {},
   "outputs": [
    {
     "data": {
      "text/plain": [
       "route_id       0\n",
       "Date           0\n",
       "temp           0\n",
       "wind_speed     0\n",
       "description    0\n",
       "precip         0\n",
       "humidity       0\n",
       "visibility     0\n",
       "pressure       0\n",
       "dtype: int64"
      ]
     },
     "execution_count": 1390,
     "metadata": {},
     "output_type": "execute_result"
    }
   ],
   "source": [
    "routes_weather.isnull().sum()"
   ]
  },
  {
   "cell_type": "code",
   "execution_count": 1391,
   "id": "0532d418",
   "metadata": {},
   "outputs": [],
   "source": [
    "routes_weather = remove_duplicates(routes_weather)"
   ]
  },
  {
   "cell_type": "code",
   "execution_count": 1392,
   "id": "a26046c9",
   "metadata": {},
   "outputs": [
    {
     "data": {
      "image/png": "[encoded data removed]",
      "text/plain": [
       "<Figure size 600x400 with 1 Axes>"
      ]
     },
     "metadata": {},
     "output_type": "display_data"
    }
   ],
   "source": [
    "visualize_data(routes_weather, 'temp')"
   ]
  },
  {
   "cell_type": "code",
   "execution_count": 1393,
   "id": "2d5c3b28",
   "metadata": {},
   "outputs": [
    {
     "data": {
      "image/png": "[encoded data removed]",
      "text/plain": [
       "<Figure size 600x400 with 1 Axes>"
      ]
     },
     "metadata": {},
     "output_type": "display_data"
    }
   ],
   "source": [
    "visualize_data(routes_weather, 'wind_speed')"
   ]
  },
  {
   "cell_type": "code",
   "execution_count": 1394,
   "id": "8bdfd254",
   "metadata": {},
   "outputs": [
    {
     "data": {
      "image/png": "[encoded data removed]",
      "text/plain": [
       "<Figure size 600x400 with 1 Axes>"
      ]
     },
     "metadata": {},
     "output_type": "display_data"
    }
   ],
   "source": [
    "visualize_data(routes_weather, 'precip')"
   ]
  },
  {
   "cell_type": "code",
   "execution_count": 1395,
   "id": "70c98212",
   "metadata": {},
   "outputs": [
    {
     "data": {
      "image/png": "[encoded data removed]",
      "text/plain": [
       "<Figure size 600x400 with 1 Axes>"
      ]
     },
     "metadata": {},
     "output_type": "display_data"
    }
   ],
   "source": [
    "visualize_data(routes_weather, 'humidity')"
   ]
  },
  {
   "cell_type": "code",
   "execution_count": 1396,
   "id": "8f7d7ff8",
   "metadata": {},
   "outputs": [
    {
     "data": {
      "image/png": "[encoded data removed]",
      "text/plain": [
       "<Figure size 600x400 with 1 Axes>"
      ]
     },
     "metadata": {},
     "output_type": "display_data"
    }
   ],
   "source": [
    "visualize_data(routes_weather, 'pressure')"
   ]
  },
  {
   "cell_type": "code",
   "execution_count": 1397,
   "id": "dfa381fc",
   "metadata": {},
   "outputs": [
    {
     "data": {
      "image/png": "[encoded data removed]",
      "text/plain": [
       "<Figure size 600x400 with 1 Axes>"
      ]
     },
     "metadata": {},
     "output_type": "display_data"
    }
   ],
   "source": [
    "visualize_data(routes_weather, 'visibility')"
   ]
  },
  {
   "cell_type": "code",
   "execution_count": 1398,
   "id": "61ec8161",
   "metadata": {},
   "outputs": [
    {
     "data": {
      "text/plain": [
       "(425712, 9)"
      ]
     },
     "execution_count": 1398,
     "metadata": {},
     "output_type": "execute_result"
    }
   ],
   "source": [
    "routes_weather.shape"
   ]
  },
  {
   "cell_type": "code",
   "execution_count": 1399,
   "id": "961869eb",
   "metadata": {},
   "outputs": [],
   "source": [
    "routes_weather = remove_outliers(routes_weather)"
   ]
  },
  {
   "cell_type": "code",
   "execution_count": 1400,
   "id": "0e9910ef",
   "metadata": {},
   "outputs": [
    {
     "data": {
      "text/plain": [
       "(314931, 9)"
      ]
     },
     "execution_count": 1400,
     "metadata": {},
     "output_type": "execute_result"
    }
   ],
   "source": [
    "routes_weather.shape"
   ]
  },
  {
   "cell_type": "code",
   "execution_count": 1404,
   "id": "4ed91f92",
   "metadata": {},
   "outputs": [],
   "source": [
    "routes_weather = drop_columns(routes_weather, ['precip', 'visibility'])"
   ]
  },
  {
   "cell_type": "code",
   "execution_count": 1405,
   "id": "d114fb15",
   "metadata": {},
   "outputs": [],
   "source": [
    "routes_weather = add_index_and_eventtime_columns(routes_weather)"
   ]
  },
  {
   "cell_type": "code",
   "execution_count": 1406,
   "id": "ac6e0b19",
   "metadata": {},
   "outputs": [
    {
     "data": {
      "text/html": [
       "<div>\n",
       "<style scoped>\n",
       "    .dataframe tbody tr th:only-of-type {\n",
       "        vertical-align: middle;\n",
       "    }\n",
       "\n",
       "    .dataframe tbody tr th {\n",
       "        vertical-align: top;\n",
       "    }\n",
       "\n",
       "    .dataframe thead th {\n",
       "        text-align: right;\n",
       "    }\n",
       "</style>\n",
       "<table border=\"1\" class=\"dataframe\">\n",
       "  <thead>\n",
       "    <tr style=\"text-align: right;\">\n",
       "      <th></th>\n",
       "      <th>route_id</th>\n",
       "      <th>Date</th>\n",
       "      <th>temp</th>\n",
       "      <th>wind_speed</th>\n",
       "      <th>description</th>\n",
       "      <th>humidity</th>\n",
       "      <th>pressure</th>\n",
       "      <th>index</th>\n",
       "      <th>eventtime</th>\n",
       "    </tr>\n",
       "  </thead>\n",
       "  <tbody>\n",
       "    <tr>\n",
       "      <th>3</th>\n",
       "      <td>R-ada2a391</td>\n",
       "      <td>2019-01-02 06:00:00</td>\n",
       "      <td>27</td>\n",
       "      <td>11</td>\n",
       "      <td>Cloudy</td>\n",
       "      <td>92</td>\n",
       "      <td>1015</td>\n",
       "      <td>0</td>\n",
       "      <td>2024-09-19</td>\n",
       "    </tr>\n",
       "    <tr>\n",
       "      <th>4</th>\n",
       "      <td>R-ada2a391</td>\n",
       "      <td>2019-01-03 00:00:00</td>\n",
       "      <td>27</td>\n",
       "      <td>9</td>\n",
       "      <td>Cloudy</td>\n",
       "      <td>93</td>\n",
       "      <td>1016</td>\n",
       "      <td>1</td>\n",
       "      <td>2024-09-19</td>\n",
       "    </tr>\n",
       "  </tbody>\n",
       "</table>\n",
       "</div>"
      ],
      "text/plain": [
       "     route_id                 Date  temp  wind_speed description  humidity  \\\n",
       "3  R-ada2a391  2019-01-02 06:00:00    27          11      Cloudy        92   \n",
       "4  R-ada2a391  2019-01-03 00:00:00    27           9      Cloudy        93   \n",
       "\n",
       "   pressure  index  eventtime  \n",
       "3      1015      0 2024-09-19  \n",
       "4      1016      1 2024-09-19  "
      ]
     },
     "execution_count": 1406,
     "metadata": {},
     "output_type": "execute_result"
    }
   ],
   "source": [
    "routes_weather.head(2)"
   ]
  },
  {
   "cell_type": "code",
   "execution_count": 1408,
   "id": "86e1552e",
   "metadata": {},
   "outputs": [],
   "source": [
    "routes_weather.to_csv('/Users/jeevanapathipati/Documents/TruckDelay/data/cleaned/routes_weather_cleaned.csv', index=False)"
   ]
  },
  {
   "cell_type": "markdown",
   "id": "96f6c247",
   "metadata": {},
   "source": [
    "Traffic table Data Cleaning"
   ]
  },
  {
   "cell_type": "code",
   "execution_count": 1409,
   "id": "7ddc65e8",
   "metadata": {},
   "outputs": [],
   "source": [
    "traffic_table = pd.read_csv('/Users/jeevanapathipati/Documents/TruckDelay/data/raw/traffic.csv')"
   ]
  },
  {
   "cell_type": "code",
   "execution_count": 1410,
   "id": "fef245a4",
   "metadata": {},
   "outputs": [
    {
     "data": {
      "text/html": [
       "<div>\n",
       "<style scoped>\n",
       "    .dataframe tbody tr th:only-of-type {\n",
       "        vertical-align: middle;\n",
       "    }\n",
       "\n",
       "    .dataframe tbody tr th {\n",
       "        vertical-align: top;\n",
       "    }\n",
       "\n",
       "    .dataframe thead th {\n",
       "        text-align: right;\n",
       "    }\n",
       "</style>\n",
       "<table border=\"1\" class=\"dataframe\">\n",
       "  <thead>\n",
       "    <tr style=\"text-align: right;\">\n",
       "      <th></th>\n",
       "      <th>route_id</th>\n",
       "      <th>date</th>\n",
       "      <th>hour</th>\n",
       "      <th>no_of_vehicles</th>\n",
       "      <th>accident</th>\n",
       "    </tr>\n",
       "  </thead>\n",
       "  <tbody>\n",
       "    <tr>\n",
       "      <th>0</th>\n",
       "      <td>R-ada2a391</td>\n",
       "      <td>2019-01-01</td>\n",
       "      <td>0</td>\n",
       "      <td>669.0</td>\n",
       "      <td>0</td>\n",
       "    </tr>\n",
       "    <tr>\n",
       "      <th>1</th>\n",
       "      <td>R-ada2a391</td>\n",
       "      <td>2019-01-01</td>\n",
       "      <td>100</td>\n",
       "      <td>628.0</td>\n",
       "      <td>0</td>\n",
       "    </tr>\n",
       "    <tr>\n",
       "      <th>2</th>\n",
       "      <td>R-ada2a391</td>\n",
       "      <td>2019-01-01</td>\n",
       "      <td>200</td>\n",
       "      <td>516.0</td>\n",
       "      <td>0</td>\n",
       "    </tr>\n",
       "    <tr>\n",
       "      <th>3</th>\n",
       "      <td>R-ada2a391</td>\n",
       "      <td>2019-01-01</td>\n",
       "      <td>300</td>\n",
       "      <td>582.0</td>\n",
       "      <td>0</td>\n",
       "    </tr>\n",
       "    <tr>\n",
       "      <th>4</th>\n",
       "      <td>R-ada2a391</td>\n",
       "      <td>2019-01-01</td>\n",
       "      <td>400</td>\n",
       "      <td>564.0</td>\n",
       "      <td>0</td>\n",
       "    </tr>\n",
       "  </tbody>\n",
       "</table>\n",
       "</div>"
      ],
      "text/plain": [
       "     route_id        date  hour  no_of_vehicles  accident\n",
       "0  R-ada2a391  2019-01-01     0           669.0         0\n",
       "1  R-ada2a391  2019-01-01   100           628.0         0\n",
       "2  R-ada2a391  2019-01-01   200           516.0         0\n",
       "3  R-ada2a391  2019-01-01   300           582.0         0\n",
       "4  R-ada2a391  2019-01-01   400           564.0         0"
      ]
     },
     "execution_count": 1410,
     "metadata": {},
     "output_type": "execute_result"
    }
   ],
   "source": [
    "traffic_table.head(5)"
   ]
  },
  {
   "cell_type": "code",
   "execution_count": 1411,
   "id": "d3b47897",
   "metadata": {},
   "outputs": [
    {
     "name": "stdout",
     "output_type": "stream",
     "text": [
      "Unique values in 'route_id' (2352 total):\n",
      "['R-ada2a391' 'R-ae0ef31f' 'R-4beec5fd' ... 'R-0e0ac567' 'R-5ccd3200'\n",
      " 'R-38a366a9']\n",
      "Unique values in 'date' (46 total):\n",
      "['2019-01-01' '2019-01-02' '2019-01-03' '2019-01-04' '2019-01-05'\n",
      " '2019-01-06' '2019-01-07' '2019-01-08' '2019-01-09' '2019-01-10'\n",
      " '2019-01-11' '2019-01-12' '2019-01-13' '2019-01-14' '2019-01-15'\n",
      " '2019-01-16' '2019-01-17' '2019-01-18' '2019-01-19' '2019-01-20'\n",
      " '2019-01-21' '2019-01-22' '2019-01-23' '2019-01-24' '2019-01-25'\n",
      " '2019-01-26' '2019-01-27' '2019-01-28' '2019-01-29' '2019-01-30'\n",
      " '2019-01-31' '2019-02-01' '2019-02-02' '2019-02-03' '2019-02-04'\n",
      " '2019-02-05' '2019-02-06' '2019-02-07' '2019-02-08' '2019-02-09'\n",
      " '2019-02-10' '2019-02-11' '2019-02-12' '2019-02-13' '2019-02-14'\n",
      " '2019-02-15']\n",
      "Unique values in 'hour' (24 total):\n",
      "[   0  100  200  300  400  500  600  700  800  900 1000 1100 1200 1300\n",
      " 1400 1500 1600 1700 1800 1900 2000 2100 2200 2300]\n",
      "Unique values in 'no_of_vehicles' (2643 total):\n",
      "[ 669.  628.  516. ... 1071. 3308. 3357.]\n",
      "Unique values in 'accident' (2 total):\n",
      "[0 1]\n"
     ]
    }
   ],
   "source": [
    "display_unique_values(traffic_table,None)"
   ]
  },
  {
   "cell_type": "code",
   "execution_count": 1412,
   "id": "62c54dfb",
   "metadata": {},
   "outputs": [],
   "source": [
    "#traffic_table = drop_columns(traffic_table, ['unwanted_col'])"
   ]
  },
  {
   "cell_type": "code",
   "execution_count": 1475,
   "id": "8bfb9c73",
   "metadata": {},
   "outputs": [],
   "source": [
    "traffic_table = combine_date_hour(traffic_table, 'date', 'hour')"
   ]
  },
  {
   "cell_type": "code",
   "execution_count": 1476,
   "id": "b20d9a60",
   "metadata": {},
   "outputs": [
    {
     "data": {
      "text/plain": [
       "route_id          0\n",
       "date              0\n",
       "hour              0\n",
       "no_of_vehicles    0\n",
       "accident          0\n",
       "datetime          0\n",
       "index             0\n",
       "eventtime         0\n",
       "dtype: int64"
      ]
     },
     "execution_count": 1476,
     "metadata": {},
     "output_type": "execute_result"
    }
   ],
   "source": [
    "traffic_table.isnull().sum()"
   ]
  },
  {
   "cell_type": "code",
   "execution_count": 1477,
   "id": "0ad3f99e",
   "metadata": {},
   "outputs": [
    {
     "data": {
      "text/plain": [
       "(2597913, 8)"
      ]
     },
     "execution_count": 1477,
     "metadata": {},
     "output_type": "execute_result"
    }
   ],
   "source": [
    "traffic_table.shape"
   ]
  },
  {
   "cell_type": "code",
   "execution_count": 1478,
   "id": "bd57ef5e",
   "metadata": {},
   "outputs": [
    {
     "data": {
      "image/png": "[encoded data removed]",
      "text/plain": [
       "<Figure size 600x400 with 1 Axes>"
      ]
     },
     "metadata": {},
     "output_type": "display_data"
    }
   ],
   "source": [
    "visualize_data(traffic_table, 'no_of_vehicles')"
   ]
  },
  {
   "cell_type": "code",
   "execution_count": 1479,
   "id": "8cfc719b",
   "metadata": {},
   "outputs": [],
   "source": [
    "traffic_table = remove_duplicates(traffic_table)"
   ]
  },
  {
   "cell_type": "code",
   "execution_count": 1480,
   "id": "c6d99d12",
   "metadata": {},
   "outputs": [],
   "source": [
    "traffic_table = filling_missing_values(traffic_table)"
   ]
  },
  {
   "cell_type": "code",
   "execution_count": 1481,
   "id": "15f55c58",
   "metadata": {},
   "outputs": [
    {
     "data": {
      "text/plain": [
       "(2597913, 8)"
      ]
     },
     "execution_count": 1481,
     "metadata": {},
     "output_type": "execute_result"
    }
   ],
   "source": [
    "traffic_table.shape"
   ]
  },
  {
   "cell_type": "code",
   "execution_count": 1482,
   "id": "07cc28a3",
   "metadata": {},
   "outputs": [],
   "source": [
    "#traffic_table = remove_outliers(traffic_table, 'traffic_table_column')"
   ]
  },
  {
   "cell_type": "code",
   "execution_count": 1483,
   "id": "3230622d",
   "metadata": {},
   "outputs": [],
   "source": [
    "traffic_table = add_index_and_eventtime_columns(traffic_table)"
   ]
  },
  {
   "cell_type": "code",
   "execution_count": 1485,
   "id": "301ee674",
   "metadata": {},
   "outputs": [],
   "source": [
    "traffic_table = drop_columns(traffic_table, ['date','hour'])"
   ]
  },
  {
   "cell_type": "code",
   "execution_count": 1486,
   "id": "f48fc7c7",
   "metadata": {},
   "outputs": [
    {
     "data": {
      "text/html": [
       "<div>\n",
       "<style scoped>\n",
       "    .dataframe tbody tr th:only-of-type {\n",
       "        vertical-align: middle;\n",
       "    }\n",
       "\n",
       "    .dataframe tbody tr th {\n",
       "        vertical-align: top;\n",
       "    }\n",
       "\n",
       "    .dataframe thead th {\n",
       "        text-align: right;\n",
       "    }\n",
       "</style>\n",
       "<table border=\"1\" class=\"dataframe\">\n",
       "  <thead>\n",
       "    <tr style=\"text-align: right;\">\n",
       "      <th></th>\n",
       "      <th>route_id</th>\n",
       "      <th>no_of_vehicles</th>\n",
       "      <th>accident</th>\n",
       "      <th>datetime</th>\n",
       "      <th>index</th>\n",
       "      <th>eventtime</th>\n",
       "    </tr>\n",
       "  </thead>\n",
       "  <tbody>\n",
       "    <tr>\n",
       "      <th>0</th>\n",
       "      <td>R-ada2a391</td>\n",
       "      <td>669.0</td>\n",
       "      <td>0</td>\n",
       "      <td>2019-01-01 00:00:00</td>\n",
       "      <td>0</td>\n",
       "      <td>2024-09-19</td>\n",
       "    </tr>\n",
       "    <tr>\n",
       "      <th>1</th>\n",
       "      <td>R-ada2a391</td>\n",
       "      <td>628.0</td>\n",
       "      <td>0</td>\n",
       "      <td>2019-01-01 01:00:00</td>\n",
       "      <td>1</td>\n",
       "      <td>2024-09-19</td>\n",
       "    </tr>\n",
       "  </tbody>\n",
       "</table>\n",
       "</div>"
      ],
      "text/plain": [
       "     route_id  no_of_vehicles  accident            datetime  index  eventtime\n",
       "0  R-ada2a391           669.0         0 2019-01-01 00:00:00      0 2024-09-19\n",
       "1  R-ada2a391           628.0         0 2019-01-01 01:00:00      1 2024-09-19"
      ]
     },
     "execution_count": 1486,
     "metadata": {},
     "output_type": "execute_result"
    }
   ],
   "source": [
    "traffic_table.head(2)"
   ]
  },
  {
   "cell_type": "code",
   "execution_count": 1487,
   "id": "ad891230",
   "metadata": {},
   "outputs": [],
   "source": [
    "traffic_table.to_csv('/Users/jeevanapathipati/Documents/TruckDelay/data/cleaned/traffic_cleaned.csv', index=False)"
   ]
  },
  {
   "cell_type": "markdown",
   "id": "3352cb02",
   "metadata": {},
   "source": [
    "Truck Schedule Data cleaning"
   ]
  },
  {
   "cell_type": "code",
   "execution_count": 1424,
   "id": "a389517d",
   "metadata": {},
   "outputs": [],
   "source": [
    "truck_schedule_table = pd.read_csv('/Users/jeevanapathipati/Documents/TruckDelay/data/raw/truck_schedule.csv')"
   ]
  },
  {
   "cell_type": "code",
   "execution_count": 1425,
   "id": "c28c9728",
   "metadata": {},
   "outputs": [
    {
     "data": {
      "text/html": [
       "<div>\n",
       "<style scoped>\n",
       "    .dataframe tbody tr th:only-of-type {\n",
       "        vertical-align: middle;\n",
       "    }\n",
       "\n",
       "    .dataframe tbody tr th {\n",
       "        vertical-align: top;\n",
       "    }\n",
       "\n",
       "    .dataframe thead th {\n",
       "        text-align: right;\n",
       "    }\n",
       "</style>\n",
       "<table border=\"1\" class=\"dataframe\">\n",
       "  <thead>\n",
       "    <tr style=\"text-align: right;\">\n",
       "      <th></th>\n",
       "      <th>truck_id</th>\n",
       "      <th>route_id</th>\n",
       "      <th>departure_date</th>\n",
       "      <th>estimated_arrival</th>\n",
       "      <th>delay</th>\n",
       "    </tr>\n",
       "  </thead>\n",
       "  <tbody>\n",
       "    <tr>\n",
       "      <th>0</th>\n",
       "      <td>30312694</td>\n",
       "      <td>R-b236e347</td>\n",
       "      <td>2019-01-01 07:00:00</td>\n",
       "      <td>2019-01-01 13:13:12.000000000</td>\n",
       "      <td>0</td>\n",
       "    </tr>\n",
       "    <tr>\n",
       "      <th>1</th>\n",
       "      <td>59856374</td>\n",
       "      <td>R-29ea762e</td>\n",
       "      <td>2019-01-01 07:00:00</td>\n",
       "      <td>2019-01-02 04:01:12.000000000</td>\n",
       "      <td>0</td>\n",
       "    </tr>\n",
       "    <tr>\n",
       "      <th>2</th>\n",
       "      <td>12602955</td>\n",
       "      <td>R-a3d67783</td>\n",
       "      <td>2019-01-01 07:00:00</td>\n",
       "      <td>2019-01-01 07:45:36.000000000</td>\n",
       "      <td>0</td>\n",
       "    </tr>\n",
       "    <tr>\n",
       "      <th>3</th>\n",
       "      <td>46619422</td>\n",
       "      <td>R-31ec9310</td>\n",
       "      <td>2019-01-01 07:00:00</td>\n",
       "      <td>2019-01-01 20:46:48.000000000</td>\n",
       "      <td>0</td>\n",
       "    </tr>\n",
       "    <tr>\n",
       "      <th>4</th>\n",
       "      <td>10140178</td>\n",
       "      <td>R-a07c5dbd</td>\n",
       "      <td>2019-01-01 07:00:00</td>\n",
       "      <td>2019-01-01 21:34:11.999999999</td>\n",
       "      <td>0</td>\n",
       "    </tr>\n",
       "  </tbody>\n",
       "</table>\n",
       "</div>"
      ],
      "text/plain": [
       "   truck_id    route_id       departure_date              estimated_arrival  \\\n",
       "0  30312694  R-b236e347  2019-01-01 07:00:00  2019-01-01 13:13:12.000000000   \n",
       "1  59856374  R-29ea762e  2019-01-01 07:00:00  2019-01-02 04:01:12.000000000   \n",
       "2  12602955  R-a3d67783  2019-01-01 07:00:00  2019-01-01 07:45:36.000000000   \n",
       "3  46619422  R-31ec9310  2019-01-01 07:00:00  2019-01-01 20:46:48.000000000   \n",
       "4  10140178  R-a07c5dbd  2019-01-01 07:00:00  2019-01-01 21:34:11.999999999   \n",
       "\n",
       "   delay  \n",
       "0      0  \n",
       "1      0  \n",
       "2      0  \n",
       "3      0  \n",
       "4      0  "
      ]
     },
     "execution_count": 1425,
     "metadata": {},
     "output_type": "execute_result"
    }
   ],
   "source": [
    "truck_schedule_table.head(5)"
   ]
  },
  {
   "cell_type": "code",
   "execution_count": 1426,
   "id": "22b857a1",
   "metadata": {},
   "outputs": [],
   "source": [
    "#truck_schedule_table = drop_columns(truck_schedule_table, ['unwanted_col'])"
   ]
  },
  {
   "cell_type": "code",
   "execution_count": 1427,
   "id": "3dc9ddf6",
   "metadata": {},
   "outputs": [
    {
     "data": {
      "text/plain": [
       "(12308, 5)"
      ]
     },
     "execution_count": 1427,
     "metadata": {},
     "output_type": "execute_result"
    }
   ],
   "source": [
    "truck_schedule_table.shape"
   ]
  },
  {
   "cell_type": "code",
   "execution_count": 1428,
   "id": "56c4c324",
   "metadata": {},
   "outputs": [
    {
     "name": "stdout",
     "output_type": "stream",
     "text": [
      "<class 'pandas.core.frame.DataFrame'>\n",
      "RangeIndex: 12308 entries, 0 to 12307\n",
      "Data columns (total 5 columns):\n",
      " #   Column             Non-Null Count  Dtype \n",
      "---  ------             --------------  ----- \n",
      " 0   truck_id           12308 non-null  int64 \n",
      " 1   route_id           12308 non-null  object\n",
      " 2   departure_date     12308 non-null  object\n",
      " 3   estimated_arrival  12308 non-null  object\n",
      " 4   delay              12308 non-null  int64 \n",
      "dtypes: int64(2), object(3)\n",
      "memory usage: 480.9+ KB\n"
     ]
    }
   ],
   "source": [
    "truck_schedule_table.info()"
   ]
  },
  {
   "cell_type": "code",
   "execution_count": 1429,
   "id": "749b7ef2",
   "metadata": {},
   "outputs": [
    {
     "data": {
      "text/plain": [
       "truck_id             0\n",
       "route_id             0\n",
       "departure_date       0\n",
       "estimated_arrival    0\n",
       "delay                0\n",
       "dtype: int64"
      ]
     },
     "execution_count": 1429,
     "metadata": {},
     "output_type": "execute_result"
    }
   ],
   "source": [
    "truck_schedule_table.isnull().sum()"
   ]
  },
  {
   "cell_type": "code",
   "execution_count": 1430,
   "id": "51342614",
   "metadata": {},
   "outputs": [],
   "source": [
    "#truck_schedule_table = handle_missing_values(truck_schedule_table, method='fill')"
   ]
  },
  {
   "cell_type": "code",
   "execution_count": 1451,
   "id": "e24bfa70",
   "metadata": {},
   "outputs": [],
   "source": [
    "truck_schedule_table = remove_duplicates(truck_schedule_table)"
   ]
  },
  {
   "cell_type": "code",
   "execution_count": 1452,
   "id": "7a300e38",
   "metadata": {},
   "outputs": [
    {
     "data": {
      "text/html": [
       "<div>\n",
       "<style scoped>\n",
       "    .dataframe tbody tr th:only-of-type {\n",
       "        vertical-align: middle;\n",
       "    }\n",
       "\n",
       "    .dataframe tbody tr th {\n",
       "        vertical-align: top;\n",
       "    }\n",
       "\n",
       "    .dataframe thead th {\n",
       "        text-align: right;\n",
       "    }\n",
       "</style>\n",
       "<table border=\"1\" class=\"dataframe\">\n",
       "  <thead>\n",
       "    <tr style=\"text-align: right;\">\n",
       "      <th></th>\n",
       "      <th>truck_id</th>\n",
       "      <th>route_id</th>\n",
       "      <th>departure_date</th>\n",
       "      <th>estimated_arrival</th>\n",
       "      <th>delay</th>\n",
       "    </tr>\n",
       "  </thead>\n",
       "  <tbody>\n",
       "    <tr>\n",
       "      <th>0</th>\n",
       "      <td>30312694</td>\n",
       "      <td>R-b236e347</td>\n",
       "      <td>2019-01-01 07:00:00</td>\n",
       "      <td>2019-01-01 13:13:12.000000000</td>\n",
       "      <td>0</td>\n",
       "    </tr>\n",
       "    <tr>\n",
       "      <th>1</th>\n",
       "      <td>59856374</td>\n",
       "      <td>R-29ea762e</td>\n",
       "      <td>2019-01-01 07:00:00</td>\n",
       "      <td>2019-01-02 04:01:12.000000000</td>\n",
       "      <td>0</td>\n",
       "    </tr>\n",
       "  </tbody>\n",
       "</table>\n",
       "</div>"
      ],
      "text/plain": [
       "   truck_id    route_id       departure_date              estimated_arrival  \\\n",
       "0  30312694  R-b236e347  2019-01-01 07:00:00  2019-01-01 13:13:12.000000000   \n",
       "1  59856374  R-29ea762e  2019-01-01 07:00:00  2019-01-02 04:01:12.000000000   \n",
       "\n",
       "   delay  \n",
       "0      0  \n",
       "1      0  "
      ]
     },
     "execution_count": 1452,
     "metadata": {},
     "output_type": "execute_result"
    }
   ],
   "source": [
    "truck_schedule_table.head(2)"
   ]
  },
  {
   "cell_type": "code",
   "execution_count": 1453,
   "id": "5b441fd2",
   "metadata": {},
   "outputs": [],
   "source": [
    "truck_schedule_table = convert_estimated_arrival(truck_schedule_table, 'estimated_arrival')"
   ]
  },
  {
   "cell_type": "code",
   "execution_count": 1454,
   "id": "cdfb46b5",
   "metadata": {},
   "outputs": [
    {
     "data": {
      "text/html": [
       "<div>\n",
       "<style scoped>\n",
       "    .dataframe tbody tr th:only-of-type {\n",
       "        vertical-align: middle;\n",
       "    }\n",
       "\n",
       "    .dataframe tbody tr th {\n",
       "        vertical-align: top;\n",
       "    }\n",
       "\n",
       "    .dataframe thead th {\n",
       "        text-align: right;\n",
       "    }\n",
       "</style>\n",
       "<table border=\"1\" class=\"dataframe\">\n",
       "  <thead>\n",
       "    <tr style=\"text-align: right;\">\n",
       "      <th></th>\n",
       "      <th>truck_id</th>\n",
       "      <th>route_id</th>\n",
       "      <th>departure_date</th>\n",
       "      <th>estimated_arrival</th>\n",
       "      <th>delay</th>\n",
       "    </tr>\n",
       "  </thead>\n",
       "  <tbody>\n",
       "    <tr>\n",
       "      <th>0</th>\n",
       "      <td>30312694</td>\n",
       "      <td>R-b236e347</td>\n",
       "      <td>2019-01-01 07:00:00</td>\n",
       "      <td>2019-01-01 13:13:12</td>\n",
       "      <td>0</td>\n",
       "    </tr>\n",
       "    <tr>\n",
       "      <th>1</th>\n",
       "      <td>59856374</td>\n",
       "      <td>R-29ea762e</td>\n",
       "      <td>2019-01-01 07:00:00</td>\n",
       "      <td>2019-01-02 04:01:12</td>\n",
       "      <td>0</td>\n",
       "    </tr>\n",
       "  </tbody>\n",
       "</table>\n",
       "</div>"
      ],
      "text/plain": [
       "   truck_id    route_id       departure_date   estimated_arrival  delay\n",
       "0  30312694  R-b236e347  2019-01-01 07:00:00 2019-01-01 13:13:12      0\n",
       "1  59856374  R-29ea762e  2019-01-01 07:00:00 2019-01-02 04:01:12      0"
      ]
     },
     "execution_count": 1454,
     "metadata": {},
     "output_type": "execute_result"
    }
   ],
   "source": [
    "truck_schedule_table.head(2)"
   ]
  },
  {
   "cell_type": "code",
   "execution_count": 1455,
   "id": "24f86c9d",
   "metadata": {},
   "outputs": [],
   "source": [
    "truck_schedule_table = add_index_and_eventtime_columns(truck_schedule_table)"
   ]
  },
  {
   "cell_type": "code",
   "execution_count": 1456,
   "id": "454c18f4",
   "metadata": {},
   "outputs": [
    {
     "data": {
      "text/html": [
       "<div>\n",
       "<style scoped>\n",
       "    .dataframe tbody tr th:only-of-type {\n",
       "        vertical-align: middle;\n",
       "    }\n",
       "\n",
       "    .dataframe tbody tr th {\n",
       "        vertical-align: top;\n",
       "    }\n",
       "\n",
       "    .dataframe thead th {\n",
       "        text-align: right;\n",
       "    }\n",
       "</style>\n",
       "<table border=\"1\" class=\"dataframe\">\n",
       "  <thead>\n",
       "    <tr style=\"text-align: right;\">\n",
       "      <th></th>\n",
       "      <th>truck_id</th>\n",
       "      <th>route_id</th>\n",
       "      <th>departure_date</th>\n",
       "      <th>estimated_arrival</th>\n",
       "      <th>delay</th>\n",
       "      <th>index</th>\n",
       "      <th>eventtime</th>\n",
       "    </tr>\n",
       "  </thead>\n",
       "  <tbody>\n",
       "    <tr>\n",
       "      <th>0</th>\n",
       "      <td>30312694</td>\n",
       "      <td>R-b236e347</td>\n",
       "      <td>2019-01-01 07:00:00</td>\n",
       "      <td>2019-01-01 13:13:12</td>\n",
       "      <td>0</td>\n",
       "      <td>0</td>\n",
       "      <td>2024-09-19</td>\n",
       "    </tr>\n",
       "    <tr>\n",
       "      <th>1</th>\n",
       "      <td>59856374</td>\n",
       "      <td>R-29ea762e</td>\n",
       "      <td>2019-01-01 07:00:00</td>\n",
       "      <td>2019-01-02 04:01:12</td>\n",
       "      <td>0</td>\n",
       "      <td>1</td>\n",
       "      <td>2024-09-19</td>\n",
       "    </tr>\n",
       "  </tbody>\n",
       "</table>\n",
       "</div>"
      ],
      "text/plain": [
       "   truck_id    route_id       departure_date   estimated_arrival  delay  \\\n",
       "0  30312694  R-b236e347  2019-01-01 07:00:00 2019-01-01 13:13:12      0   \n",
       "1  59856374  R-29ea762e  2019-01-01 07:00:00 2019-01-02 04:01:12      0   \n",
       "\n",
       "   index  eventtime  \n",
       "0      0 2024-09-19  \n",
       "1      1 2024-09-19  "
      ]
     },
     "execution_count": 1456,
     "metadata": {},
     "output_type": "execute_result"
    }
   ],
   "source": [
    "truck_schedule_table.head(2)"
   ]
  },
  {
   "cell_type": "code",
   "execution_count": 1457,
   "id": "62d1fc1a",
   "metadata": {},
   "outputs": [],
   "source": [
    "truck_schedule_table.to_csv('/Users/jeevanapathipati/Documents/TruckDelay/data/cleaned/truck_schedule_cleaned.csv', index=False)"
   ]
  },
  {
   "cell_type": "markdown",
   "id": "888aa235",
   "metadata": {},
   "source": [
    "Truck Table Data cleaning"
   ]
  },
  {
   "cell_type": "code",
   "execution_count": 1458,
   "id": "02f60467",
   "metadata": {},
   "outputs": [],
   "source": [
    "trucks_table = pd.read_csv('/Users/jeevanapathipati/Documents/TruckDelay/data/raw/trucks.csv')"
   ]
  },
  {
   "cell_type": "code",
   "execution_count": 1459,
   "id": "58b54dec",
   "metadata": {},
   "outputs": [
    {
     "data": {
      "text/html": [
       "<div>\n",
       "<style scoped>\n",
       "    .dataframe tbody tr th:only-of-type {\n",
       "        vertical-align: middle;\n",
       "    }\n",
       "\n",
       "    .dataframe tbody tr th {\n",
       "        vertical-align: top;\n",
       "    }\n",
       "\n",
       "    .dataframe thead th {\n",
       "        text-align: right;\n",
       "    }\n",
       "</style>\n",
       "<table border=\"1\" class=\"dataframe\">\n",
       "  <thead>\n",
       "    <tr style=\"text-align: right;\">\n",
       "      <th></th>\n",
       "      <th>truck_id</th>\n",
       "      <th>truck_age</th>\n",
       "      <th>load_capacity_pounds</th>\n",
       "      <th>mileage_mpg</th>\n",
       "      <th>fuel_type</th>\n",
       "    </tr>\n",
       "  </thead>\n",
       "  <tbody>\n",
       "    <tr>\n",
       "      <th>0</th>\n",
       "      <td>42302347</td>\n",
       "      <td>10</td>\n",
       "      <td>3000.0</td>\n",
       "      <td>17</td>\n",
       "      <td>gas</td>\n",
       "    </tr>\n",
       "    <tr>\n",
       "      <th>1</th>\n",
       "      <td>27867488</td>\n",
       "      <td>14</td>\n",
       "      <td>10000.0</td>\n",
       "      <td>22</td>\n",
       "      <td>diesel</td>\n",
       "    </tr>\n",
       "    <tr>\n",
       "      <th>2</th>\n",
       "      <td>13927774</td>\n",
       "      <td>8</td>\n",
       "      <td>10000.0</td>\n",
       "      <td>19</td>\n",
       "      <td>gas</td>\n",
       "    </tr>\n",
       "    <tr>\n",
       "      <th>3</th>\n",
       "      <td>69577118</td>\n",
       "      <td>8</td>\n",
       "      <td>20000.0</td>\n",
       "      <td>19</td>\n",
       "      <td>gas</td>\n",
       "    </tr>\n",
       "    <tr>\n",
       "      <th>4</th>\n",
       "      <td>28650047</td>\n",
       "      <td>10</td>\n",
       "      <td>4000.0</td>\n",
       "      <td>21</td>\n",
       "      <td>diesel</td>\n",
       "    </tr>\n",
       "  </tbody>\n",
       "</table>\n",
       "</div>"
      ],
      "text/plain": [
       "   truck_id  truck_age  load_capacity_pounds  mileage_mpg fuel_type\n",
       "0  42302347         10                3000.0           17       gas\n",
       "1  27867488         14               10000.0           22    diesel\n",
       "2  13927774          8               10000.0           19       gas\n",
       "3  69577118          8               20000.0           19       gas\n",
       "4  28650047         10                4000.0           21    diesel"
      ]
     },
     "execution_count": 1459,
     "metadata": {},
     "output_type": "execute_result"
    }
   ],
   "source": [
    "trucks_table.head(5)"
   ]
  },
  {
   "cell_type": "code",
   "execution_count": 1460,
   "id": "0a74ddad",
   "metadata": {},
   "outputs": [
    {
     "data": {
      "text/plain": [
       "(1300, 5)"
      ]
     },
     "execution_count": 1460,
     "metadata": {},
     "output_type": "execute_result"
    }
   ],
   "source": [
    "trucks_table.shape"
   ]
  },
  {
   "cell_type": "code",
   "execution_count": 1461,
   "id": "02e5292b",
   "metadata": {},
   "outputs": [],
   "source": [
    "#trucks_table = drop_columns(trucks_table, ['unwanted_col'])"
   ]
  },
  {
   "cell_type": "code",
   "execution_count": 1462,
   "id": "e1cbebf0",
   "metadata": {},
   "outputs": [
    {
     "data": {
      "text/plain": [
       "truck_id                 0\n",
       "truck_age                0\n",
       "load_capacity_pounds    57\n",
       "mileage_mpg              0\n",
       "fuel_type               40\n",
       "dtype: int64"
      ]
     },
     "execution_count": 1462,
     "metadata": {},
     "output_type": "execute_result"
    }
   ],
   "source": [
    "trucks_table.isnull().sum()"
   ]
  },
  {
   "cell_type": "code",
   "execution_count": 1463,
   "id": "1fdb7205",
   "metadata": {},
   "outputs": [],
   "source": [
    "trucks_table = remove_duplicates(trucks_table)"
   ]
  },
  {
   "cell_type": "code",
   "execution_count": 1464,
   "id": "cef28bff",
   "metadata": {},
   "outputs": [],
   "source": [
    "trucks_table = filling_missing_values(trucks_table)"
   ]
  },
  {
   "cell_type": "code",
   "execution_count": 1465,
   "id": "655f2dfc",
   "metadata": {},
   "outputs": [
    {
     "data": {
      "text/plain": [
       "(1300, 5)"
      ]
     },
     "execution_count": 1465,
     "metadata": {},
     "output_type": "execute_result"
    }
   ],
   "source": [
    "trucks_table.shape"
   ]
  },
  {
   "cell_type": "code",
   "execution_count": 1466,
   "id": "d4b10c8e",
   "metadata": {},
   "outputs": [
    {
     "data": {
      "image/png": "[encoded data removed]",
      "text/plain": [
       "<Figure size 1200x400 with 2 Axes>"
      ]
     },
     "metadata": {},
     "output_type": "display_data"
    }
   ],
   "source": [
    "visualize_data(trucks_table, ['load_capacity_pounds','fuel_type'])"
   ]
  },
  {
   "cell_type": "code",
   "execution_count": 1467,
   "id": "993371e1",
   "metadata": {},
   "outputs": [],
   "source": [
    "#trucks_table = remove_outliers(trucks_table, 'trucks_table_column')"
   ]
  },
  {
   "cell_type": "code",
   "execution_count": 1468,
   "id": "b3227b37",
   "metadata": {},
   "outputs": [],
   "source": [
    "trucks_table = add_index_and_eventtime_columns(trucks_table)"
   ]
  },
  {
   "cell_type": "code",
   "execution_count": 1469,
   "id": "8caf0bc6",
   "metadata": {},
   "outputs": [
    {
     "data": {
      "text/html": [
       "<div>\n",
       "<style scoped>\n",
       "    .dataframe tbody tr th:only-of-type {\n",
       "        vertical-align: middle;\n",
       "    }\n",
       "\n",
       "    .dataframe tbody tr th {\n",
       "        vertical-align: top;\n",
       "    }\n",
       "\n",
       "    .dataframe thead th {\n",
       "        text-align: right;\n",
       "    }\n",
       "</style>\n",
       "<table border=\"1\" class=\"dataframe\">\n",
       "  <thead>\n",
       "    <tr style=\"text-align: right;\">\n",
       "      <th></th>\n",
       "      <th>truck_id</th>\n",
       "      <th>truck_age</th>\n",
       "      <th>load_capacity_pounds</th>\n",
       "      <th>mileage_mpg</th>\n",
       "      <th>fuel_type</th>\n",
       "      <th>index</th>\n",
       "      <th>eventtime</th>\n",
       "    </tr>\n",
       "  </thead>\n",
       "  <tbody>\n",
       "    <tr>\n",
       "      <th>0</th>\n",
       "      <td>42302347</td>\n",
       "      <td>10</td>\n",
       "      <td>3000.0</td>\n",
       "      <td>17</td>\n",
       "      <td>gas</td>\n",
       "      <td>0</td>\n",
       "      <td>2024-09-19</td>\n",
       "    </tr>\n",
       "    <tr>\n",
       "      <th>1</th>\n",
       "      <td>27867488</td>\n",
       "      <td>14</td>\n",
       "      <td>10000.0</td>\n",
       "      <td>22</td>\n",
       "      <td>diesel</td>\n",
       "      <td>1</td>\n",
       "      <td>2024-09-19</td>\n",
       "    </tr>\n",
       "  </tbody>\n",
       "</table>\n",
       "</div>"
      ],
      "text/plain": [
       "   truck_id  truck_age  load_capacity_pounds  mileage_mpg fuel_type  index  \\\n",
       "0  42302347         10                3000.0           17       gas      0   \n",
       "1  27867488         14               10000.0           22    diesel      1   \n",
       "\n",
       "   eventtime  \n",
       "0 2024-09-19  \n",
       "1 2024-09-19  "
      ]
     },
     "execution_count": 1469,
     "metadata": {},
     "output_type": "execute_result"
    }
   ],
   "source": [
    "trucks_table.head(2)"
   ]
  },
  {
   "cell_type": "code",
   "execution_count": 1470,
   "id": "fe739931",
   "metadata": {},
   "outputs": [],
   "source": [
    "trucks_table.to_csv('/Users/jeevanapathipati/Documents/TruckDelay/data/cleaned/trucks_cleaned.csv', index=False)"
   ]
  },
  {
   "cell_type": "code",
   "execution_count": 1471,
   "id": "208468c6",
   "metadata": {},
   "outputs": [
    {
     "data": {
      "text/plain": [
       "Index(['city_id', 'temp', 'wind_speed', 'description', 'humidity', 'pressure',\n",
       "       'datetime', 'index', 'eventtime'],\n",
       "      dtype='object')"
      ]
     },
     "execution_count": 1471,
     "metadata": {},
     "output_type": "execute_result"
    }
   ],
   "source": [
    "city_weather.columns"
   ]
  },
  {
   "cell_type": "code",
   "execution_count": 1472,
   "id": "d4bb33bf",
   "metadata": {},
   "outputs": [
    {
     "data": {
      "text/plain": [
       "Index(['driver_id', 'name', 'gender', 'age', 'experience', 'driving_style',\n",
       "       'ratings', 'vehicle_no', 'average_speed_mph', 'index', 'eventtime'],\n",
       "      dtype='object')"
      ]
     },
     "execution_count": 1472,
     "metadata": {},
     "output_type": "execute_result"
    }
   ],
   "source": [
    "drivers_table.columns"
   ]
  },
  {
   "cell_type": "code",
   "execution_count": 1473,
   "id": "d9ef517a",
   "metadata": {},
   "outputs": [
    {
     "data": {
      "text/plain": [
       "Index(['route_id', 'Date', 'temp', 'wind_speed', 'description', 'humidity',\n",
       "       'pressure', 'index', 'eventtime'],\n",
       "      dtype='object')"
      ]
     },
     "execution_count": 1473,
     "metadata": {},
     "output_type": "execute_result"
    }
   ],
   "source": [
    "routes_weather.columns"
   ]
  },
  {
   "cell_type": "code",
   "execution_count": 782,
   "id": "559e1cb2",
   "metadata": {},
   "outputs": [
    {
     "data": {
      "text/plain": [
       "Index(['route_id', 'origin_id', 'destination_id', 'distance', 'average_hours',\n",
       "       'index', 'eventtime'],\n",
       "      dtype='object')"
      ]
     },
     "execution_count": 782,
     "metadata": {},
     "output_type": "execute_result"
    }
   ],
   "source": [
    "routes_table.columns"
   ]
  },
  {
   "cell_type": "code",
   "execution_count": 783,
   "id": "6788d666",
   "metadata": {},
   "outputs": [
    {
     "data": {
      "text/plain": [
       "Index(['route_id', 'date', 'hour', 'no_of_vehicles', 'accident', 'index',\n",
       "       'eventtime'],\n",
       "      dtype='object')"
      ]
     },
     "execution_count": 783,
     "metadata": {},
     "output_type": "execute_result"
    }
   ],
   "source": [
    "traffic_table.columns"
   ]
  },
  {
   "cell_type": "code",
   "execution_count": 784,
   "id": "b1fca5bc",
   "metadata": {},
   "outputs": [
    {
     "data": {
      "text/plain": [
       "Index(['truck_id', 'route_id', 'departure_date', 'estimated_arrival', 'delay',\n",
       "       'index', 'eventtime'],\n",
       "      dtype='object')"
      ]
     },
     "execution_count": 784,
     "metadata": {},
     "output_type": "execute_result"
    }
   ],
   "source": [
    "truck_schedule_table.columns"
   ]
  },
  {
   "cell_type": "code",
   "execution_count": 785,
   "id": "f7efc41f",
   "metadata": {},
   "outputs": [
    {
     "data": {
      "text/plain": [
       "Index(['truck_id', 'truck_age', 'load_capacity_pounds', 'mileage_mpg',\n",
       "       'fuel_type', 'index', 'eventtime'],\n",
       "      dtype='object')"
      ]
     },
     "execution_count": 785,
     "metadata": {},
     "output_type": "execute_result"
    }
   ],
   "source": [
    "trucks_table.columns"
   ]
  },
  {
   "cell_type": "code",
   "execution_count": 1490,
   "id": "6aac8b96",
   "metadata": {},
   "outputs": [
    {
     "name": "stdout",
     "output_type": "stream",
     "text": [
      "<class 'pandas.core.frame.DataFrame'>\n",
      "RangeIndex: 2597913 entries, 0 to 2597912\n",
      "Data columns (total 6 columns):\n",
      " #   Column          Dtype         \n",
      "---  ------          -----         \n",
      " 0   route_id        object        \n",
      " 1   no_of_vehicles  float64       \n",
      " 2   accident        int64         \n",
      " 3   datetime        datetime64[ns]\n",
      " 4   index           int64         \n",
      " 5   eventtime       datetime64[ns]\n",
      "dtypes: datetime64[ns](2), float64(1), int64(2), object(1)\n",
      "memory usage: 118.9+ MB\n"
     ]
    }
   ],
   "source": [
    "traffic_table.info()"
   ]
  },
  {
   "cell_type": "code",
   "execution_count": null,
   "id": "2f878456",
   "metadata": {},
   "outputs": [],
   "source": []
  }
 ],
 "metadata": {
  "kernelspec": {
   "display_name": ".venv",
   "language": "python",
   "name": "python3"
  },
  "language_info": {
   "codemirror_mode": {
    "name": "ipython",
    "version": 3
   },
   "file_extension": ".py",
   "mimetype": "text/x-python",
   "name": "python",
   "nbconvert_exporter": "python",
   "pygments_lexer": "ipython3",
   "version": "3.12.0"
  }
 },
 "nbformat": 4,
 "nbformat_minor": 5
}
