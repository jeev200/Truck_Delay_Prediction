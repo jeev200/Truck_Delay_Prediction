{
 "cells": [
  {
   "cell_type": "code",
   "execution_count": 1,
   "metadata": {},
   "outputs": [],
   "source": [
    "import pandas as pd\n",
    "import numpy as np"
   ]
  },
  {
   "cell_type": "code",
   "execution_count": 2,
   "metadata": {},
   "outputs": [],
   "source": [
    "traffic_df = pd.read_csv('/Users/jeevanapathipati/Documents/TruckDelay/data/cleaned/traffic_table_cleaned.csv')\n",
    "route_df = pd.read_csv('/Users/jeevanapathipati/Documents/TruckDelay/data/cleaned/routes_table.csv')\n",
    "city_weather_df = pd.read_csv('/Users/jeevanapathipati/Documents/TruckDelay/data/cleaned/city_weather_cleaned.csv')\n",
    "drivers_table_df = pd.read_csv('/Users/jeevanapathipati/Documents/TruckDelay/data/cleaned/drivers_table.csv')\n",
    "routes_table = pd.read_csv('/Users/jeevanapathipati/Documents/TruckDelay/data/raw/routes_table.csv')\n",
    "route_weather_df = pd.read_csv('/Users/jeevanapathipati/Documents/TruckDelay/data/cleaned/routes_weather_cleaned.csv')\n",
    "truck_schedule_df = pd.read_csv('/Users/jeevanapathipati/Documents/TruckDelay/data/cleaned/truck_schedule_table_cleaned.csv')\n",
    "truck_df = pd.read_csv('/Users/jeevanapathipati/Documents/TruckDelay/data/cleaned/trucks_table_cleaned.csv')"
   ]
  },
  {
   "cell_type": "code",
   "execution_count": 3,
   "metadata": {},
   "outputs": [],
   "source": [
    "# 1. Merge driver_df with truck_df on vehicle_no and truck_id\n",
    "merged_driver_truck_df = pd.merge(truck_df, drivers_table_df, left_on='truck_id', right_on='vehicle_no', how='inner')\n",
    "#merged_driver_truck_df=merged_driver_truck_df.drop('vehicle_no',axis=1)\n"
   ]
  },
  {
   "cell_type": "code",
   "execution_count": 4,
   "metadata": {},
   "outputs": [],
   "source": [
    "merged_driver_truck_df=merged_driver_truck_df.drop('vehicle_no',axis=1)"
   ]
  },
  {
   "cell_type": "code",
   "execution_count": 5,
   "metadata": {},
   "outputs": [
    {
     "data": {
      "text/plain": [
       "(1086, 13)"
      ]
     },
     "execution_count": 5,
     "metadata": {},
     "output_type": "execute_result"
    }
   ],
   "source": [
    "merged_driver_truck_df.shape"
   ]
  },
  {
   "cell_type": "code",
   "execution_count": 6,
   "metadata": {},
   "outputs": [],
   "source": [
    "# 2. Merge merged_driver_truck_df with truck_schedule_df on truck_id\n",
    "merged_schedule_df = pd.merge(merged_driver_truck_df, truck_schedule_df, on='truck_id', how='inner')\n",
    "\n"
   ]
  },
  {
   "cell_type": "code",
   "execution_count": 7,
   "metadata": {},
   "outputs": [
    {
     "data": {
      "text/plain": [
       "(10197, 17)"
      ]
     },
     "execution_count": 7,
     "metadata": {},
     "output_type": "execute_result"
    }
   ],
   "source": [
    "merged_schedule_df.shape"
   ]
  },
  {
   "cell_type": "code",
   "execution_count": 8,
   "metadata": {},
   "outputs": [
    {
     "data": {
      "text/plain": [
       "Index(['truck_id', 'truck_age', 'load_capacity_pounds', 'mileage_mpg',\n",
       "       'fuel_type', 'driver_id', 'name', 'gender', 'age', 'experience',\n",
       "       'driving_style', 'ratings', 'average_speed_mph', 'route_id',\n",
       "       'departure_date', 'estimated_arrival', 'delay'],\n",
       "      dtype='object')"
      ]
     },
     "execution_count": 8,
     "metadata": {},
     "output_type": "execute_result"
    }
   ],
   "source": [
    "merged_schedule_df.columns"
   ]
  },
  {
   "cell_type": "code",
   "execution_count": 9,
   "metadata": {},
   "outputs": [],
   "source": [
    "# 3. Extract date and hour from the departure_date in truck_schedule_df for merging with traffic_df\n",
    "merged_schedule_df['date'] = pd.to_datetime(merged_schedule_df['departure_date']).dt.date\n"
   ]
  },
  {
   "cell_type": "code",
   "execution_count": 10,
   "metadata": {},
   "outputs": [
    {
     "data": {
      "text/plain": [
       "Index(['truck_id', 'truck_age', 'load_capacity_pounds', 'mileage_mpg',\n",
       "       'fuel_type', 'driver_id', 'name', 'gender', 'age', 'experience',\n",
       "       'driving_style', 'ratings', 'average_speed_mph', 'route_id',\n",
       "       'departure_date', 'estimated_arrival', 'delay', 'date'],\n",
       "      dtype='object')"
      ]
     },
     "execution_count": 10,
     "metadata": {},
     "output_type": "execute_result"
    }
   ],
   "source": [
    "merged_schedule_df.columns"
   ]
  },
  {
   "cell_type": "code",
   "execution_count": 11,
   "metadata": {},
   "outputs": [],
   "source": [
    "# merged_schedule_df['hour'] = pd.to_datetime(merged_schedule_df['departure_date']).dt.hour\n",
    "# 4. Merge merged_schedule_df with traffic_df on route_id, date, and hour\n",
    "\n",
    "# 5. Merge merged_traffic_df with route_df on route_id\n",
    "merged_route_df = pd.merge(merged_schedule_df, routes_table, on='route_id', how='inner')\n",
    "\n",
    "\n"
   ]
  },
  {
   "cell_type": "code",
   "execution_count": 12,
   "metadata": {},
   "outputs": [],
   "source": [
    "traffic_df['date']=pd.to_datetime(traffic_df['date']).dt.date\n"
   ]
  },
  {
   "cell_type": "code",
   "execution_count": 13,
   "metadata": {},
   "outputs": [
    {
     "data": {
      "text/plain": [
       "Index(['truck_id', 'truck_age', 'load_capacity_pounds', 'mileage_mpg',\n",
       "       'fuel_type', 'driver_id', 'name', 'gender', 'age', 'experience',\n",
       "       'driving_style', 'ratings', 'average_speed_mph', 'route_id',\n",
       "       'departure_date', 'estimated_arrival', 'delay', 'date', 'origin_id',\n",
       "       'destination_id', 'distance', 'average_hours'],\n",
       "      dtype='object')"
      ]
     },
     "execution_count": 13,
     "metadata": {},
     "output_type": "execute_result"
    }
   ],
   "source": [
    "merged_route_df.columns"
   ]
  },
  {
   "cell_type": "code",
   "execution_count": 14,
   "metadata": {},
   "outputs": [],
   "source": [
    "merged_traffic_df = pd.merge(merged_route_df, traffic_df, on=['route_id', 'date'], how='inner')"
   ]
  },
  {
   "cell_type": "code",
   "execution_count": 16,
   "metadata": {},
   "outputs": [
    {
     "data": {
      "text/plain": [
       "(244853, 25)"
      ]
     },
     "execution_count": 16,
     "metadata": {},
     "output_type": "execute_result"
    }
   ],
   "source": [
    "merged_traffic_df.shape"
   ]
  },
  {
   "cell_type": "code",
   "execution_count": 18,
   "metadata": {},
   "outputs": [],
   "source": [
    "route_weather_df['Date']=pd.to_datetime(route_weather_df['Date']).dt.date\n",
    "merged_route_weather_df = pd.merge(merged_route_df, route_weather_df, left_on=['route_id', 'date'], right_on=['route_id', 'Date'], how='inner')"
   ]
  },
  {
   "cell_type": "code",
   "execution_count": 19,
   "metadata": {},
   "outputs": [
    {
     "data": {
      "text/plain": [
       "(37982, 30)"
      ]
     },
     "execution_count": 19,
     "metadata": {},
     "output_type": "execute_result"
    }
   ],
   "source": [
    "merged_route_weather_df.shape"
   ]
  },
  {
   "cell_type": "code",
   "execution_count": 20,
   "metadata": {},
   "outputs": [
    {
     "data": {
      "text/plain": [
       "Index(['truck_id', 'truck_age', 'load_capacity_pounds', 'mileage_mpg',\n",
       "       'fuel_type', 'driver_id', 'name', 'gender', 'age', 'experience',\n",
       "       'driving_style', 'ratings', 'average_speed_mph', 'route_id',\n",
       "       'departure_date', 'estimated_arrival', 'delay', 'date', 'origin_id',\n",
       "       'destination_id', 'distance', 'average_hours', 'Date', 'temp',\n",
       "       'wind_speed', 'description', 'precip', 'humidity', 'visibility',\n",
       "       'pressure'],\n",
       "      dtype='object')"
      ]
     },
     "execution_count": 20,
     "metadata": {},
     "output_type": "execute_result"
    }
   ],
   "source": [
    "merged_route_weather_df.columns"
   ]
  },
  {
   "cell_type": "code",
   "execution_count": null,
   "metadata": {},
   "outputs": [],
   "source": [
    "# Univariate Analysis: Plotting distributions of individual variables\n",
    "def plot_univariate(df, column, plot_type='hist'):\n",
    "    plt.figure(figsize=(10, 6))\n",
    "    if plot_type == 'hist':\n",
    "        sns.histplot(df[column], kde=True, color='blue')\n",
    "    elif plot_type == 'box':\n",
    "        sns.boxplot(x=df[column], color='green')\n",
    "    plt.title(f'Distribution of {column}')\n",
    "    plt.xlabel(column)\n",
    "    plt.ylabel('Frequency')\n",
    "    plt.grid(True)\n",
    "    plt.show()\n",
    "    \n",
    "    \n",
    "# Bivariate Analysis: Exploring relationships between two variables\n",
    "def plot_bivariate(df, x_column, y_column, plot_type='scatter'):\n",
    "    plt.figure(figsize=(10, 6))\n",
    "    if plot_type == 'scatter':\n",
    "        sns.scatterplot(data=df, x=x_column, y=y_column)\n",
    "    elif plot_type == 'line':\n",
    "        sns.lineplot(data=df, x=x_column, y=y_column)\n",
    "    plt.title(f'Relationship between {x_column} and {y_column}')\n",
    "    plt.xlabel(x_column)\n",
    "    plt.ylabel(y_column)\n",
    "    plt.grid(True)\n",
    "    plt.show()\n",
    "    \n",
    "# Multivariate Analysis: Exploring complex interactions between multiple variables\n",
    "def plot_multivariate(df, plot_type='pair', columns=None):\n",
    "    plt.figure(figsize=(12, 10))\n",
    "    if plot_type == 'pair':\n",
    "        sns.pairplot(df[columns])\n",
    "    plt.show()"
   ]
  },
  {
   "cell_type": "markdown",
   "metadata": {},
   "source": [
    "\n",
    "# Example Univariate Analysis\n",
    "# plot_univariate(city_weather_df, 'temp')  # Histogram of temperatures\n",
    "# plot_univariate(city_weather_df, 'wind_speed')\n",
    "# plot_univariate(city_weather_df, 'humidity')\n",
    "# plot_univariate(city_weather_df, 'pressure')\n",
    "# plot_univariate(city_weather_df, 'description', 'box')  # Boxplot of driver ages\n",
    "# Example Bivariate Analysis\n",
    "# plot_bivariate(city_weather_df, 'temp', 'humidity',plot_type='line')  # Scatter plot of temperature vs. humidity\n",
    "\n",
    "# Example Multivariate Analysis\n",
    "# plot_multivariate(city_weather_df, 'pair', columns=['temp', 'wind_speed', 'humidity'])  # Pairplot of weather variables"
   ]
  },
  {
   "cell_type": "code",
   "execution_count": null,
   "metadata": {},
   "outputs": [],
   "source": []
  }
 ],
 "metadata": {
  "kernelspec": {
   "display_name": ".venv",
   "language": "python",
   "name": "python3"
  },
  "language_info": {
   "codemirror_mode": {
    "name": "ipython",
    "version": 3
   },
   "file_extension": ".py",
   "mimetype": "text/x-python",
   "name": "python",
   "nbconvert_exporter": "python",
   "pygments_lexer": "ipython3",
   "version": "3.12.0"
  }
 },
 "nbformat": 4,
 "nbformat_minor": 2
}
