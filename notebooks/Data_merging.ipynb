{
 "cells": [
  {
   "cell_type": "code",
   "execution_count": 3,
   "metadata": {},
   "outputs": [
    {
     "name": "stdout",
     "output_type": "stream",
     "text": [
      "Requirement already satisfied: seaborn in /Users/jeevanapathipati/Documents/MachineLearning/conda-env/mlenv/lib/python3.12/site-packages (0.13.2)\n",
      "Requirement already satisfied: numpy!=1.24.0,>=1.20 in /Users/jeevanapathipati/Documents/MachineLearning/conda-env/mlenv/lib/python3.12/site-packages (from seaborn) (1.26.4)\n",
      "Requirement already satisfied: pandas>=1.2 in /Users/jeevanapathipati/Documents/MachineLearning/conda-env/mlenv/lib/python3.12/site-packages (from seaborn) (2.2.2)\n",
      "Requirement already satisfied: matplotlib!=3.6.1,>=3.4 in /Users/jeevanapathipati/Documents/MachineLearning/conda-env/mlenv/lib/python3.12/site-packages (from seaborn) (3.8.4)\n",
      "Requirement already satisfied: contourpy>=1.0.1 in /Users/jeevanapathipati/Documents/MachineLearning/conda-env/mlenv/lib/python3.12/site-packages (from matplotlib!=3.6.1,>=3.4->seaborn) (1.2.0)\n",
      "Requirement already satisfied: cycler>=0.10 in /Users/jeevanapathipati/Documents/MachineLearning/conda-env/mlenv/lib/python3.12/site-packages (from matplotlib!=3.6.1,>=3.4->seaborn) (0.11.0)\n",
      "Requirement already satisfied: fonttools>=4.22.0 in /Users/jeevanapathipati/Documents/MachineLearning/conda-env/mlenv/lib/python3.12/site-packages (from matplotlib!=3.6.1,>=3.4->seaborn) (4.51.0)\n",
      "Requirement already satisfied: kiwisolver>=1.3.1 in /Users/jeevanapathipati/Documents/MachineLearning/conda-env/mlenv/lib/python3.12/site-packages (from matplotlib!=3.6.1,>=3.4->seaborn) (1.4.4)\n",
      "Requirement already satisfied: packaging>=20.0 in /Users/jeevanapathipati/Documents/MachineLearning/conda-env/mlenv/lib/python3.12/site-packages (from matplotlib!=3.6.1,>=3.4->seaborn) (23.2)\n",
      "Requirement already satisfied: pillow>=8 in /Users/jeevanapathipati/Documents/MachineLearning/conda-env/mlenv/lib/python3.12/site-packages (from matplotlib!=3.6.1,>=3.4->seaborn) (10.3.0)\n",
      "Requirement already satisfied: pyparsing>=2.3.1 in /Users/jeevanapathipati/Documents/MachineLearning/conda-env/mlenv/lib/python3.12/site-packages (from matplotlib!=3.6.1,>=3.4->seaborn) (3.0.9)\n",
      "Requirement already satisfied: python-dateutil>=2.7 in /Users/jeevanapathipati/Documents/MachineLearning/conda-env/mlenv/lib/python3.12/site-packages (from matplotlib!=3.6.1,>=3.4->seaborn) (2.8.2)\n",
      "Requirement already satisfied: pytz>=2020.1 in /Users/jeevanapathipati/Documents/MachineLearning/conda-env/mlenv/lib/python3.12/site-packages (from pandas>=1.2->seaborn) (2024.1)\n",
      "Requirement already satisfied: tzdata>=2022.7 in /Users/jeevanapathipati/Documents/MachineLearning/conda-env/mlenv/lib/python3.12/site-packages (from pandas>=1.2->seaborn) (2024.1)\n",
      "Requirement already satisfied: six>=1.5 in /Users/jeevanapathipati/Documents/MachineLearning/conda-env/mlenv/lib/python3.12/site-packages (from python-dateutil>=2.7->matplotlib!=3.6.1,>=3.4->seaborn) (1.16.0)\n",
      "Note: you may need to restart the kernel to use updated packages.\n"
     ]
    }
   ],
   "source": [
    "pip install seaborn"
   ]
  },
  {
   "cell_type": "code",
   "execution_count": 4,
   "metadata": {},
   "outputs": [],
   "source": [
    "import pandas as pd\n",
    "import numpy as np\n",
    "import matplotlib.pyplot as plt\n",
    "import seaborn as sns"
   ]
  },
  {
   "cell_type": "code",
   "execution_count": 5,
   "metadata": {},
   "outputs": [],
   "source": [
    "traffic_df = pd.read_csv('/Users/jeevanapathipati/Documents/TruckDelay/data/cleaned/traffic_table_cleaned.csv')\n",
    "route_df = pd.read_csv('/Users/jeevanapathipati/Documents/TruckDelay/data/cleaned/routes_table.csv')\n",
    "city_weather_df = pd.read_csv('/Users/jeevanapathipati/Documents/TruckDelay/data/cleaned/city_weather_cleaned.csv')\n",
    "drivers_table_df = pd.read_csv('/Users/jeevanapathipati/Documents/TruckDelay/data/cleaned/drivers_table.csv')\n",
    "routes_table = pd.read_csv('/Users/jeevanapathipati/Documents/TruckDelay/data/raw/routes_table.csv')\n",
    "route_weather_df = pd.read_csv('/Users/jeevanapathipati/Documents/TruckDelay/data/cleaned/routes_weather_cleaned.csv')\n",
    "truck_schedule_df = pd.read_csv('/Users/jeevanapathipati/Documents/TruckDelay/data/cleaned/truck_schedule_table_cleaned.csv')\n",
    "truck_df = pd.read_csv('/Users/jeevanapathipati/Documents/TruckDelay/data/cleaned/trucks_table_cleaned.csv')"
   ]
  },
  {
   "cell_type": "code",
   "execution_count": 6,
   "metadata": {},
   "outputs": [],
   "source": [
    "# Merge Truck Schedule with Routes and Trucks\n",
    "merged_data_df1 = pd.merge(truck_schedule_df, route_df, on='route_id', how='inner')"
   ]
  },
  {
   "cell_type": "code",
   "execution_count": 7,
   "metadata": {},
   "outputs": [
    {
     "data": {
      "text/plain": [
       "(11449, 9)"
      ]
     },
     "execution_count": 7,
     "metadata": {},
     "output_type": "execute_result"
    }
   ],
   "source": [
    "merged_data_df1.shape"
   ]
  },
  {
   "cell_type": "code",
   "execution_count": 8,
   "metadata": {},
   "outputs": [
    {
     "data": {
      "text/plain": [
       "truck_id             0\n",
       "route_id             0\n",
       "departure_date       0\n",
       "estimated_arrival    0\n",
       "delay                0\n",
       "origin_id            0\n",
       "destination_id       0\n",
       "distance             0\n",
       "average_hours        0\n",
       "dtype: int64"
      ]
     },
     "execution_count": 8,
     "metadata": {},
     "output_type": "execute_result"
    }
   ],
   "source": [
    "merged_data_df1.isnull().sum()"
   ]
  },
  {
   "cell_type": "code",
   "execution_count": 9,
   "metadata": {},
   "outputs": [
    {
     "data": {
      "text/plain": [
       "Index(['truck_id', 'route_id', 'departure_date', 'estimated_arrival', 'delay',\n",
       "       'origin_id', 'destination_id', 'distance', 'average_hours'],\n",
       "      dtype='object')"
      ]
     },
     "execution_count": 9,
     "metadata": {},
     "output_type": "execute_result"
    }
   ],
   "source": [
    "merged_data_df1.columns"
   ]
  },
  {
   "cell_type": "code",
   "execution_count": 10,
   "metadata": {},
   "outputs": [],
   "source": [
    "merged_data_df2 = pd.merge(merged_data_df1, truck_df, on='truck_id', how='inner')"
   ]
  },
  {
   "cell_type": "code",
   "execution_count": 11,
   "metadata": {},
   "outputs": [
    {
     "data": {
      "text/plain": [
       "(11449, 13)"
      ]
     },
     "execution_count": 11,
     "metadata": {},
     "output_type": "execute_result"
    }
   ],
   "source": [
    "merged_data_df2.shape"
   ]
  },
  {
   "cell_type": "code",
   "execution_count": 12,
   "metadata": {},
   "outputs": [
    {
     "data": {
      "text/plain": [
       "truck_id                0\n",
       "route_id                0\n",
       "departure_date          0\n",
       "estimated_arrival       0\n",
       "delay                   0\n",
       "origin_id               0\n",
       "destination_id          0\n",
       "distance                0\n",
       "average_hours           0\n",
       "truck_age               0\n",
       "load_capacity_pounds    0\n",
       "mileage_mpg             0\n",
       "fuel_type               0\n",
       "dtype: int64"
      ]
     },
     "execution_count": 12,
     "metadata": {},
     "output_type": "execute_result"
    }
   ],
   "source": [
    "merged_data_df2.isnull().sum()"
   ]
  },
  {
   "cell_type": "code",
   "execution_count": 13,
   "metadata": {},
   "outputs": [
    {
     "data": {
      "text/plain": [
       "Index(['truck_id', 'route_id', 'departure_date', 'estimated_arrival', 'delay',\n",
       "       'origin_id', 'destination_id', 'distance', 'average_hours', 'truck_age',\n",
       "       'load_capacity_pounds', 'mileage_mpg', 'fuel_type'],\n",
       "      dtype='object')"
      ]
     },
     "execution_count": 13,
     "metadata": {},
     "output_type": "execute_result"
    }
   ],
   "source": [
    "merged_data_df2.columns"
   ]
  },
  {
   "cell_type": "code",
   "execution_count": 14,
   "metadata": {},
   "outputs": [
    {
     "data": {
      "text/html": [
       "<div>\n",
       "<style scoped>\n",
       "    .dataframe tbody tr th:only-of-type {\n",
       "        vertical-align: middle;\n",
       "    }\n",
       "\n",
       "    .dataframe tbody tr th {\n",
       "        vertical-align: top;\n",
       "    }\n",
       "\n",
       "    .dataframe thead th {\n",
       "        text-align: right;\n",
       "    }\n",
       "</style>\n",
       "<table border=\"1\" class=\"dataframe\">\n",
       "  <thead>\n",
       "    <tr style=\"text-align: right;\">\n",
       "      <th></th>\n",
       "      <th>truck_id</th>\n",
       "      <th>route_id</th>\n",
       "      <th>departure_date</th>\n",
       "      <th>estimated_arrival</th>\n",
       "      <th>delay</th>\n",
       "      <th>origin_id</th>\n",
       "      <th>destination_id</th>\n",
       "      <th>distance</th>\n",
       "      <th>average_hours</th>\n",
       "      <th>truck_age</th>\n",
       "      <th>load_capacity_pounds</th>\n",
       "      <th>mileage_mpg</th>\n",
       "      <th>fuel_type</th>\n",
       "    </tr>\n",
       "  </thead>\n",
       "  <tbody>\n",
       "    <tr>\n",
       "      <th>0</th>\n",
       "      <td>30312694</td>\n",
       "      <td>R-b236e347</td>\n",
       "      <td>2019-01-01 07:00:00</td>\n",
       "      <td>2019-01-01 13:13:12.000000000</td>\n",
       "      <td>0</td>\n",
       "      <td>C-927ceb5e</td>\n",
       "      <td>C-d80a1e7d</td>\n",
       "      <td>310.75</td>\n",
       "      <td>6.22</td>\n",
       "      <td>9</td>\n",
       "      <td>3000.000000</td>\n",
       "      <td>23</td>\n",
       "      <td>diesel</td>\n",
       "    </tr>\n",
       "    <tr>\n",
       "      <th>1</th>\n",
       "      <td>59856374</td>\n",
       "      <td>R-29ea762e</td>\n",
       "      <td>2019-01-01 07:00:00</td>\n",
       "      <td>2019-01-02 04:01:12.000000000</td>\n",
       "      <td>0</td>\n",
       "      <td>C-927ceb5e</td>\n",
       "      <td>C-639c5e36</td>\n",
       "      <td>1050.84</td>\n",
       "      <td>21.02</td>\n",
       "      <td>7</td>\n",
       "      <td>15000.000000</td>\n",
       "      <td>21</td>\n",
       "      <td>diesel</td>\n",
       "    </tr>\n",
       "    <tr>\n",
       "      <th>2</th>\n",
       "      <td>12602955</td>\n",
       "      <td>R-a3d67783</td>\n",
       "      <td>2019-01-01 07:00:00</td>\n",
       "      <td>2019-01-01 07:45:36.000000000</td>\n",
       "      <td>0</td>\n",
       "      <td>C-927ceb5e</td>\n",
       "      <td>C-a9f2c329</td>\n",
       "      <td>38.10</td>\n",
       "      <td>0.76</td>\n",
       "      <td>10</td>\n",
       "      <td>3000.000000</td>\n",
       "      <td>26</td>\n",
       "      <td>diesel</td>\n",
       "    </tr>\n",
       "    <tr>\n",
       "      <th>3</th>\n",
       "      <td>46619422</td>\n",
       "      <td>R-31ec9310</td>\n",
       "      <td>2019-01-01 07:00:00</td>\n",
       "      <td>2019-01-01 20:46:48.000000000</td>\n",
       "      <td>0</td>\n",
       "      <td>C-927ceb5e</td>\n",
       "      <td>C-c7cacd1d</td>\n",
       "      <td>688.91</td>\n",
       "      <td>13.78</td>\n",
       "      <td>12</td>\n",
       "      <td>8610.619469</td>\n",
       "      <td>27</td>\n",
       "      <td>diesel</td>\n",
       "    </tr>\n",
       "    <tr>\n",
       "      <th>4</th>\n",
       "      <td>10140178</td>\n",
       "      <td>R-a07c5dbd</td>\n",
       "      <td>2019-01-01 07:00:00</td>\n",
       "      <td>2019-01-01 21:34:11.999999999</td>\n",
       "      <td>0</td>\n",
       "      <td>C-927ceb5e</td>\n",
       "      <td>C-ef47bdcd</td>\n",
       "      <td>728.40</td>\n",
       "      <td>14.57</td>\n",
       "      <td>12</td>\n",
       "      <td>3000.000000</td>\n",
       "      <td>23</td>\n",
       "      <td>diesel</td>\n",
       "    </tr>\n",
       "    <tr>\n",
       "      <th>5</th>\n",
       "      <td>22653688</td>\n",
       "      <td>R-af4b19be</td>\n",
       "      <td>2019-01-01 07:00:00</td>\n",
       "      <td>2019-01-01 15:39:36.000000000</td>\n",
       "      <td>0</td>\n",
       "      <td>C-927ceb5e</td>\n",
       "      <td>C-84f378bb</td>\n",
       "      <td>433.01</td>\n",
       "      <td>8.66</td>\n",
       "      <td>8</td>\n",
       "      <td>6000.000000</td>\n",
       "      <td>22</td>\n",
       "      <td>diesel</td>\n",
       "    </tr>\n",
       "  </tbody>\n",
       "</table>\n",
       "</div>"
      ],
      "text/plain": [
       "   truck_id    route_id       departure_date              estimated_arrival  \\\n",
       "0  30312694  R-b236e347  2019-01-01 07:00:00  2019-01-01 13:13:12.000000000   \n",
       "1  59856374  R-29ea762e  2019-01-01 07:00:00  2019-01-02 04:01:12.000000000   \n",
       "2  12602955  R-a3d67783  2019-01-01 07:00:00  2019-01-01 07:45:36.000000000   \n",
       "3  46619422  R-31ec9310  2019-01-01 07:00:00  2019-01-01 20:46:48.000000000   \n",
       "4  10140178  R-a07c5dbd  2019-01-01 07:00:00  2019-01-01 21:34:11.999999999   \n",
       "5  22653688  R-af4b19be  2019-01-01 07:00:00  2019-01-01 15:39:36.000000000   \n",
       "\n",
       "   delay   origin_id destination_id  distance  average_hours  truck_age  \\\n",
       "0      0  C-927ceb5e     C-d80a1e7d    310.75           6.22          9   \n",
       "1      0  C-927ceb5e     C-639c5e36   1050.84          21.02          7   \n",
       "2      0  C-927ceb5e     C-a9f2c329     38.10           0.76         10   \n",
       "3      0  C-927ceb5e     C-c7cacd1d    688.91          13.78         12   \n",
       "4      0  C-927ceb5e     C-ef47bdcd    728.40          14.57         12   \n",
       "5      0  C-927ceb5e     C-84f378bb    433.01           8.66          8   \n",
       "\n",
       "   load_capacity_pounds  mileage_mpg fuel_type  \n",
       "0           3000.000000           23    diesel  \n",
       "1          15000.000000           21    diesel  \n",
       "2           3000.000000           26    diesel  \n",
       "3           8610.619469           27    diesel  \n",
       "4           3000.000000           23    diesel  \n",
       "5           6000.000000           22    diesel  "
      ]
     },
     "execution_count": 14,
     "metadata": {},
     "output_type": "execute_result"
    }
   ],
   "source": [
    "merged_data_df2.head(6)"
   ]
  },
  {
   "cell_type": "code",
   "execution_count": 15,
   "metadata": {},
   "outputs": [],
   "source": [
    "merged_data_df2['departure_date_only'] = pd.to_datetime(merged_data_df2['departure_date']).dt.date"
   ]
  },
  {
   "cell_type": "code",
   "execution_count": 16,
   "metadata": {},
   "outputs": [],
   "source": [
    "route_weather_df['Date'] = pd.to_datetime(route_weather_df['Date']).dt.date\n",
    "traffic_df['date'] = pd.to_datetime(traffic_df['date']).dt.date"
   ]
  },
  {
   "cell_type": "code",
   "execution_count": 17,
   "metadata": {},
   "outputs": [
    {
     "data": {
      "text/html": [
       "<div>\n",
       "<style scoped>\n",
       "    .dataframe tbody tr th:only-of-type {\n",
       "        vertical-align: middle;\n",
       "    }\n",
       "\n",
       "    .dataframe tbody tr th {\n",
       "        vertical-align: top;\n",
       "    }\n",
       "\n",
       "    .dataframe thead th {\n",
       "        text-align: right;\n",
       "    }\n",
       "</style>\n",
       "<table border=\"1\" class=\"dataframe\">\n",
       "  <thead>\n",
       "    <tr style=\"text-align: right;\">\n",
       "      <th></th>\n",
       "      <th>route_id</th>\n",
       "      <th>Date</th>\n",
       "      <th>temp</th>\n",
       "      <th>wind_speed</th>\n",
       "      <th>description</th>\n",
       "      <th>precip</th>\n",
       "      <th>humidity</th>\n",
       "      <th>visibility</th>\n",
       "      <th>pressure</th>\n",
       "    </tr>\n",
       "  </thead>\n",
       "  <tbody>\n",
       "    <tr>\n",
       "      <th>0</th>\n",
       "      <td>R-ada2a391</td>\n",
       "      <td>2019-01-01</td>\n",
       "      <td>30</td>\n",
       "      <td>11</td>\n",
       "      <td>Heavy snow</td>\n",
       "      <td>0.0</td>\n",
       "      <td>90</td>\n",
       "      <td>1</td>\n",
       "      <td>1010</td>\n",
       "    </tr>\n",
       "    <tr>\n",
       "      <th>1</th>\n",
       "      <td>R-ada2a391</td>\n",
       "      <td>2019-01-01</td>\n",
       "      <td>30</td>\n",
       "      <td>11</td>\n",
       "      <td>Heavy snow</td>\n",
       "      <td>0.0</td>\n",
       "      <td>91</td>\n",
       "      <td>3</td>\n",
       "      <td>1012</td>\n",
       "    </tr>\n",
       "  </tbody>\n",
       "</table>\n",
       "</div>"
      ],
      "text/plain": [
       "     route_id        Date  temp  wind_speed description  precip  humidity  \\\n",
       "0  R-ada2a391  2019-01-01    30          11  Heavy snow     0.0        90   \n",
       "1  R-ada2a391  2019-01-01    30          11  Heavy snow     0.0        91   \n",
       "\n",
       "   visibility  pressure  \n",
       "0           1      1010  \n",
       "1           3      1012  "
      ]
     },
     "execution_count": 17,
     "metadata": {},
     "output_type": "execute_result"
    }
   ],
   "source": [
    "route_weather_df.head(2)"
   ]
  },
  {
   "cell_type": "code",
   "execution_count": 18,
   "metadata": {},
   "outputs": [
    {
     "data": {
      "text/html": [
       "<div>\n",
       "<style scoped>\n",
       "    .dataframe tbody tr th:only-of-type {\n",
       "        vertical-align: middle;\n",
       "    }\n",
       "\n",
       "    .dataframe tbody tr th {\n",
       "        vertical-align: top;\n",
       "    }\n",
       "\n",
       "    .dataframe thead th {\n",
       "        text-align: right;\n",
       "    }\n",
       "</style>\n",
       "<table border=\"1\" class=\"dataframe\">\n",
       "  <thead>\n",
       "    <tr style=\"text-align: right;\">\n",
       "      <th></th>\n",
       "      <th>route_id</th>\n",
       "      <th>date</th>\n",
       "      <th>hour</th>\n",
       "      <th>no_of_vehicles</th>\n",
       "      <th>accident</th>\n",
       "    </tr>\n",
       "  </thead>\n",
       "  <tbody>\n",
       "    <tr>\n",
       "      <th>0</th>\n",
       "      <td>R-ada2a391</td>\n",
       "      <td>2019-01-01</td>\n",
       "      <td>0</td>\n",
       "      <td>669.0</td>\n",
       "      <td>0</td>\n",
       "    </tr>\n",
       "    <tr>\n",
       "      <th>1</th>\n",
       "      <td>R-ada2a391</td>\n",
       "      <td>2019-01-01</td>\n",
       "      <td>100</td>\n",
       "      <td>628.0</td>\n",
       "      <td>0</td>\n",
       "    </tr>\n",
       "  </tbody>\n",
       "</table>\n",
       "</div>"
      ],
      "text/plain": [
       "     route_id        date  hour  no_of_vehicles  accident\n",
       "0  R-ada2a391  2019-01-01     0           669.0         0\n",
       "1  R-ada2a391  2019-01-01   100           628.0         0"
      ]
     },
     "execution_count": 18,
     "metadata": {},
     "output_type": "execute_result"
    }
   ],
   "source": [
    "traffic_df.head(2)"
   ]
  },
  {
   "cell_type": "code",
   "execution_count": 19,
   "metadata": {},
   "outputs": [],
   "source": [
    "# Merge Route Weather and Traffic\n",
    "\n",
    "merged_data_df3 = pd.merge(merged_data_df2, route_weather_df, left_on=['route_id', 'departure_date_only'], right_on=['route_id', 'Date'], how='inner')\n"
   ]
  },
  {
   "cell_type": "code",
   "execution_count": 20,
   "metadata": {},
   "outputs": [
    {
     "data": {
      "text/plain": [
       "(42576, 22)"
      ]
     },
     "execution_count": 20,
     "metadata": {},
     "output_type": "execute_result"
    }
   ],
   "source": [
    "#because there are multiple weather records for the same route on the same date\n",
    "merged_data_df3.shape"
   ]
  },
  {
   "cell_type": "code",
   "execution_count": 21,
   "metadata": {},
   "outputs": [
    {
     "data": {
      "text/plain": [
       "truck_id                0\n",
       "route_id                0\n",
       "departure_date          0\n",
       "estimated_arrival       0\n",
       "delay                   0\n",
       "origin_id               0\n",
       "destination_id          0\n",
       "distance                0\n",
       "average_hours           0\n",
       "truck_age               0\n",
       "load_capacity_pounds    0\n",
       "mileage_mpg             0\n",
       "fuel_type               0\n",
       "departure_date_only     0\n",
       "Date                    0\n",
       "temp                    0\n",
       "wind_speed              0\n",
       "description             0\n",
       "precip                  0\n",
       "humidity                0\n",
       "visibility              0\n",
       "pressure                0\n",
       "dtype: int64"
      ]
     },
     "execution_count": 21,
     "metadata": {},
     "output_type": "execute_result"
    }
   ],
   "source": [
    "merged_data_df3.isnull().sum()"
   ]
  },
  {
   "cell_type": "code",
   "execution_count": 22,
   "metadata": {},
   "outputs": [
    {
     "data": {
      "text/html": [
       "<div>\n",
       "<style scoped>\n",
       "    .dataframe tbody tr th:only-of-type {\n",
       "        vertical-align: middle;\n",
       "    }\n",
       "\n",
       "    .dataframe tbody tr th {\n",
       "        vertical-align: top;\n",
       "    }\n",
       "\n",
       "    .dataframe thead th {\n",
       "        text-align: right;\n",
       "    }\n",
       "</style>\n",
       "<table border=\"1\" class=\"dataframe\">\n",
       "  <thead>\n",
       "    <tr style=\"text-align: right;\">\n",
       "      <th></th>\n",
       "      <th>truck_id</th>\n",
       "      <th>route_id</th>\n",
       "      <th>departure_date</th>\n",
       "      <th>estimated_arrival</th>\n",
       "      <th>delay</th>\n",
       "      <th>origin_id</th>\n",
       "      <th>destination_id</th>\n",
       "      <th>distance</th>\n",
       "      <th>average_hours</th>\n",
       "      <th>truck_age</th>\n",
       "      <th>...</th>\n",
       "      <th>fuel_type</th>\n",
       "      <th>departure_date_only</th>\n",
       "      <th>Date</th>\n",
       "      <th>temp</th>\n",
       "      <th>wind_speed</th>\n",
       "      <th>description</th>\n",
       "      <th>precip</th>\n",
       "      <th>humidity</th>\n",
       "      <th>visibility</th>\n",
       "      <th>pressure</th>\n",
       "    </tr>\n",
       "  </thead>\n",
       "  <tbody>\n",
       "    <tr>\n",
       "      <th>0</th>\n",
       "      <td>30312694</td>\n",
       "      <td>R-b236e347</td>\n",
       "      <td>2019-01-01 07:00:00</td>\n",
       "      <td>2019-01-01 13:13:12.000000000</td>\n",
       "      <td>0</td>\n",
       "      <td>C-927ceb5e</td>\n",
       "      <td>C-d80a1e7d</td>\n",
       "      <td>310.75</td>\n",
       "      <td>6.22</td>\n",
       "      <td>9</td>\n",
       "      <td>...</td>\n",
       "      <td>diesel</td>\n",
       "      <td>2019-01-01</td>\n",
       "      <td>2019-01-01</td>\n",
       "      <td>39</td>\n",
       "      <td>4</td>\n",
       "      <td>Light rain</td>\n",
       "      <td>0.0</td>\n",
       "      <td>97</td>\n",
       "      <td>6</td>\n",
       "      <td>1008</td>\n",
       "    </tr>\n",
       "    <tr>\n",
       "      <th>1</th>\n",
       "      <td>30312694</td>\n",
       "      <td>R-b236e347</td>\n",
       "      <td>2019-01-01 07:00:00</td>\n",
       "      <td>2019-01-01 13:13:12.000000000</td>\n",
       "      <td>0</td>\n",
       "      <td>C-927ceb5e</td>\n",
       "      <td>C-d80a1e7d</td>\n",
       "      <td>310.75</td>\n",
       "      <td>6.22</td>\n",
       "      <td>9</td>\n",
       "      <td>...</td>\n",
       "      <td>diesel</td>\n",
       "      <td>2019-01-01</td>\n",
       "      <td>2019-01-01</td>\n",
       "      <td>39</td>\n",
       "      <td>5</td>\n",
       "      <td>Light rain</td>\n",
       "      <td>0.0</td>\n",
       "      <td>98</td>\n",
       "      <td>6</td>\n",
       "      <td>1008</td>\n",
       "    </tr>\n",
       "    <tr>\n",
       "      <th>2</th>\n",
       "      <td>30312694</td>\n",
       "      <td>R-b236e347</td>\n",
       "      <td>2019-01-01 07:00:00</td>\n",
       "      <td>2019-01-01 13:13:12.000000000</td>\n",
       "      <td>0</td>\n",
       "      <td>C-927ceb5e</td>\n",
       "      <td>C-d80a1e7d</td>\n",
       "      <td>310.75</td>\n",
       "      <td>6.22</td>\n",
       "      <td>9</td>\n",
       "      <td>...</td>\n",
       "      <td>diesel</td>\n",
       "      <td>2019-01-01</td>\n",
       "      <td>2019-01-01</td>\n",
       "      <td>23</td>\n",
       "      <td>4</td>\n",
       "      <td>Clear</td>\n",
       "      <td>0.0</td>\n",
       "      <td>76</td>\n",
       "      <td>6</td>\n",
       "      <td>1011</td>\n",
       "    </tr>\n",
       "    <tr>\n",
       "      <th>3</th>\n",
       "      <td>30312694</td>\n",
       "      <td>R-b236e347</td>\n",
       "      <td>2019-01-01 07:00:00</td>\n",
       "      <td>2019-01-01 13:13:12.000000000</td>\n",
       "      <td>0</td>\n",
       "      <td>C-927ceb5e</td>\n",
       "      <td>C-d80a1e7d</td>\n",
       "      <td>310.75</td>\n",
       "      <td>6.22</td>\n",
       "      <td>9</td>\n",
       "      <td>...</td>\n",
       "      <td>diesel</td>\n",
       "      <td>2019-01-01</td>\n",
       "      <td>2019-01-01</td>\n",
       "      <td>23</td>\n",
       "      <td>4</td>\n",
       "      <td>Clear</td>\n",
       "      <td>0.0</td>\n",
       "      <td>73</td>\n",
       "      <td>6</td>\n",
       "      <td>1011</td>\n",
       "    </tr>\n",
       "    <tr>\n",
       "      <th>4</th>\n",
       "      <td>59856374</td>\n",
       "      <td>R-29ea762e</td>\n",
       "      <td>2019-01-01 07:00:00</td>\n",
       "      <td>2019-01-02 04:01:12.000000000</td>\n",
       "      <td>0</td>\n",
       "      <td>C-927ceb5e</td>\n",
       "      <td>C-639c5e36</td>\n",
       "      <td>1050.84</td>\n",
       "      <td>21.02</td>\n",
       "      <td>7</td>\n",
       "      <td>...</td>\n",
       "      <td>diesel</td>\n",
       "      <td>2019-01-01</td>\n",
       "      <td>2019-01-01</td>\n",
       "      <td>21</td>\n",
       "      <td>14</td>\n",
       "      <td>Partly cloudy</td>\n",
       "      <td>0.0</td>\n",
       "      <td>83</td>\n",
       "      <td>6</td>\n",
       "      <td>1028</td>\n",
       "    </tr>\n",
       "  </tbody>\n",
       "</table>\n",
       "<p>5 rows × 22 columns</p>\n",
       "</div>"
      ],
      "text/plain": [
       "   truck_id    route_id       departure_date              estimated_arrival  \\\n",
       "0  30312694  R-b236e347  2019-01-01 07:00:00  2019-01-01 13:13:12.000000000   \n",
       "1  30312694  R-b236e347  2019-01-01 07:00:00  2019-01-01 13:13:12.000000000   \n",
       "2  30312694  R-b236e347  2019-01-01 07:00:00  2019-01-01 13:13:12.000000000   \n",
       "3  30312694  R-b236e347  2019-01-01 07:00:00  2019-01-01 13:13:12.000000000   \n",
       "4  59856374  R-29ea762e  2019-01-01 07:00:00  2019-01-02 04:01:12.000000000   \n",
       "\n",
       "   delay   origin_id destination_id  distance  average_hours  truck_age  ...  \\\n",
       "0      0  C-927ceb5e     C-d80a1e7d    310.75           6.22          9  ...   \n",
       "1      0  C-927ceb5e     C-d80a1e7d    310.75           6.22          9  ...   \n",
       "2      0  C-927ceb5e     C-d80a1e7d    310.75           6.22          9  ...   \n",
       "3      0  C-927ceb5e     C-d80a1e7d    310.75           6.22          9  ...   \n",
       "4      0  C-927ceb5e     C-639c5e36   1050.84          21.02          7  ...   \n",
       "\n",
       "   fuel_type  departure_date_only        Date temp wind_speed    description  \\\n",
       "0     diesel           2019-01-01  2019-01-01   39          4     Light rain   \n",
       "1     diesel           2019-01-01  2019-01-01   39          5     Light rain   \n",
       "2     diesel           2019-01-01  2019-01-01   23          4          Clear   \n",
       "3     diesel           2019-01-01  2019-01-01   23          4          Clear   \n",
       "4     diesel           2019-01-01  2019-01-01   21         14  Partly cloudy   \n",
       "\n",
       "   precip humidity  visibility  pressure  \n",
       "0     0.0       97           6      1008  \n",
       "1     0.0       98           6      1008  \n",
       "2     0.0       76           6      1011  \n",
       "3     0.0       73           6      1011  \n",
       "4     0.0       83           6      1028  \n",
       "\n",
       "[5 rows x 22 columns]"
      ]
     },
     "execution_count": 22,
     "metadata": {},
     "output_type": "execute_result"
    }
   ],
   "source": [
    "merged_data_df3.head(5)"
   ]
  },
  {
   "cell_type": "code",
   "execution_count": 23,
   "metadata": {},
   "outputs": [],
   "source": [
    "# Merge Route Weather and Traffic\n",
    "\n",
    "merged_data_df4 = pd.merge(merged_data_df3, traffic_df, left_on=['route_id', 'departure_date_only'], right_on=['route_id', 'date'], how='inner')\n"
   ]
  },
  {
   "cell_type": "code",
   "execution_count": 24,
   "metadata": {},
   "outputs": [
    {
     "data": {
      "text/plain": [
       "truck_id                0\n",
       "route_id                0\n",
       "departure_date          0\n",
       "estimated_arrival       0\n",
       "delay                   0\n",
       "origin_id               0\n",
       "destination_id          0\n",
       "distance                0\n",
       "average_hours           0\n",
       "truck_age               0\n",
       "load_capacity_pounds    0\n",
       "mileage_mpg             0\n",
       "fuel_type               0\n",
       "departure_date_only     0\n",
       "Date                    0\n",
       "temp                    0\n",
       "wind_speed              0\n",
       "description             0\n",
       "precip                  0\n",
       "humidity                0\n",
       "visibility              0\n",
       "pressure                0\n",
       "date                    0\n",
       "hour                    0\n",
       "no_of_vehicles          0\n",
       "accident                0\n",
       "dtype: int64"
      ]
     },
     "execution_count": 24,
     "metadata": {},
     "output_type": "execute_result"
    }
   ],
   "source": [
    "merged_data_df4.isnull().sum()"
   ]
  },
  {
   "cell_type": "code",
   "execution_count": 25,
   "metadata": {},
   "outputs": [
    {
     "data": {
      "text/plain": [
       "(1022366, 26)"
      ]
     },
     "execution_count": 25,
     "metadata": {},
     "output_type": "execute_result"
    }
   ],
   "source": [
    "merged_data_df4.shape"
   ]
  },
  {
   "cell_type": "code",
   "execution_count": 26,
   "metadata": {},
   "outputs": [
    {
     "data": {
      "text/html": [
       "<div>\n",
       "<style scoped>\n",
       "    .dataframe tbody tr th:only-of-type {\n",
       "        vertical-align: middle;\n",
       "    }\n",
       "\n",
       "    .dataframe tbody tr th {\n",
       "        vertical-align: top;\n",
       "    }\n",
       "\n",
       "    .dataframe thead th {\n",
       "        text-align: right;\n",
       "    }\n",
       "</style>\n",
       "<table border=\"1\" class=\"dataframe\">\n",
       "  <thead>\n",
       "    <tr style=\"text-align: right;\">\n",
       "      <th></th>\n",
       "      <th>truck_id</th>\n",
       "      <th>route_id</th>\n",
       "      <th>departure_date</th>\n",
       "      <th>estimated_arrival</th>\n",
       "      <th>delay</th>\n",
       "      <th>origin_id</th>\n",
       "      <th>destination_id</th>\n",
       "      <th>distance</th>\n",
       "      <th>average_hours</th>\n",
       "      <th>truck_age</th>\n",
       "      <th>...</th>\n",
       "      <th>wind_speed</th>\n",
       "      <th>description</th>\n",
       "      <th>precip</th>\n",
       "      <th>humidity</th>\n",
       "      <th>visibility</th>\n",
       "      <th>pressure</th>\n",
       "      <th>date</th>\n",
       "      <th>hour</th>\n",
       "      <th>no_of_vehicles</th>\n",
       "      <th>accident</th>\n",
       "    </tr>\n",
       "  </thead>\n",
       "  <tbody>\n",
       "    <tr>\n",
       "      <th>0</th>\n",
       "      <td>30312694</td>\n",
       "      <td>R-b236e347</td>\n",
       "      <td>2019-01-01 07:00:00</td>\n",
       "      <td>2019-01-01 13:13:12.000000000</td>\n",
       "      <td>0</td>\n",
       "      <td>C-927ceb5e</td>\n",
       "      <td>C-d80a1e7d</td>\n",
       "      <td>310.75</td>\n",
       "      <td>6.22</td>\n",
       "      <td>9</td>\n",
       "      <td>...</td>\n",
       "      <td>4</td>\n",
       "      <td>Light rain</td>\n",
       "      <td>0.0</td>\n",
       "      <td>97</td>\n",
       "      <td>6</td>\n",
       "      <td>1008</td>\n",
       "      <td>2019-01-01</td>\n",
       "      <td>0</td>\n",
       "      <td>669.0</td>\n",
       "      <td>0</td>\n",
       "    </tr>\n",
       "    <tr>\n",
       "      <th>1</th>\n",
       "      <td>30312694</td>\n",
       "      <td>R-b236e347</td>\n",
       "      <td>2019-01-01 07:00:00</td>\n",
       "      <td>2019-01-01 13:13:12.000000000</td>\n",
       "      <td>0</td>\n",
       "      <td>C-927ceb5e</td>\n",
       "      <td>C-d80a1e7d</td>\n",
       "      <td>310.75</td>\n",
       "      <td>6.22</td>\n",
       "      <td>9</td>\n",
       "      <td>...</td>\n",
       "      <td>4</td>\n",
       "      <td>Light rain</td>\n",
       "      <td>0.0</td>\n",
       "      <td>97</td>\n",
       "      <td>6</td>\n",
       "      <td>1008</td>\n",
       "      <td>2019-01-01</td>\n",
       "      <td>100</td>\n",
       "      <td>628.0</td>\n",
       "      <td>0</td>\n",
       "    </tr>\n",
       "    <tr>\n",
       "      <th>2</th>\n",
       "      <td>30312694</td>\n",
       "      <td>R-b236e347</td>\n",
       "      <td>2019-01-01 07:00:00</td>\n",
       "      <td>2019-01-01 13:13:12.000000000</td>\n",
       "      <td>0</td>\n",
       "      <td>C-927ceb5e</td>\n",
       "      <td>C-d80a1e7d</td>\n",
       "      <td>310.75</td>\n",
       "      <td>6.22</td>\n",
       "      <td>9</td>\n",
       "      <td>...</td>\n",
       "      <td>4</td>\n",
       "      <td>Light rain</td>\n",
       "      <td>0.0</td>\n",
       "      <td>97</td>\n",
       "      <td>6</td>\n",
       "      <td>1008</td>\n",
       "      <td>2019-01-01</td>\n",
       "      <td>200</td>\n",
       "      <td>516.0</td>\n",
       "      <td>0</td>\n",
       "    </tr>\n",
       "    <tr>\n",
       "      <th>3</th>\n",
       "      <td>30312694</td>\n",
       "      <td>R-b236e347</td>\n",
       "      <td>2019-01-01 07:00:00</td>\n",
       "      <td>2019-01-01 13:13:12.000000000</td>\n",
       "      <td>0</td>\n",
       "      <td>C-927ceb5e</td>\n",
       "      <td>C-d80a1e7d</td>\n",
       "      <td>310.75</td>\n",
       "      <td>6.22</td>\n",
       "      <td>9</td>\n",
       "      <td>...</td>\n",
       "      <td>4</td>\n",
       "      <td>Light rain</td>\n",
       "      <td>0.0</td>\n",
       "      <td>97</td>\n",
       "      <td>6</td>\n",
       "      <td>1008</td>\n",
       "      <td>2019-01-01</td>\n",
       "      <td>300</td>\n",
       "      <td>582.0</td>\n",
       "      <td>0</td>\n",
       "    </tr>\n",
       "    <tr>\n",
       "      <th>4</th>\n",
       "      <td>30312694</td>\n",
       "      <td>R-b236e347</td>\n",
       "      <td>2019-01-01 07:00:00</td>\n",
       "      <td>2019-01-01 13:13:12.000000000</td>\n",
       "      <td>0</td>\n",
       "      <td>C-927ceb5e</td>\n",
       "      <td>C-d80a1e7d</td>\n",
       "      <td>310.75</td>\n",
       "      <td>6.22</td>\n",
       "      <td>9</td>\n",
       "      <td>...</td>\n",
       "      <td>4</td>\n",
       "      <td>Light rain</td>\n",
       "      <td>0.0</td>\n",
       "      <td>97</td>\n",
       "      <td>6</td>\n",
       "      <td>1008</td>\n",
       "      <td>2019-01-01</td>\n",
       "      <td>400</td>\n",
       "      <td>564.0</td>\n",
       "      <td>0</td>\n",
       "    </tr>\n",
       "    <tr>\n",
       "      <th>5</th>\n",
       "      <td>30312694</td>\n",
       "      <td>R-b236e347</td>\n",
       "      <td>2019-01-01 07:00:00</td>\n",
       "      <td>2019-01-01 13:13:12.000000000</td>\n",
       "      <td>0</td>\n",
       "      <td>C-927ceb5e</td>\n",
       "      <td>C-d80a1e7d</td>\n",
       "      <td>310.75</td>\n",
       "      <td>6.22</td>\n",
       "      <td>9</td>\n",
       "      <td>...</td>\n",
       "      <td>4</td>\n",
       "      <td>Light rain</td>\n",
       "      <td>0.0</td>\n",
       "      <td>97</td>\n",
       "      <td>6</td>\n",
       "      <td>1008</td>\n",
       "      <td>2019-01-01</td>\n",
       "      <td>500</td>\n",
       "      <td>564.0</td>\n",
       "      <td>0</td>\n",
       "    </tr>\n",
       "  </tbody>\n",
       "</table>\n",
       "<p>6 rows × 26 columns</p>\n",
       "</div>"
      ],
      "text/plain": [
       "   truck_id    route_id       departure_date              estimated_arrival  \\\n",
       "0  30312694  R-b236e347  2019-01-01 07:00:00  2019-01-01 13:13:12.000000000   \n",
       "1  30312694  R-b236e347  2019-01-01 07:00:00  2019-01-01 13:13:12.000000000   \n",
       "2  30312694  R-b236e347  2019-01-01 07:00:00  2019-01-01 13:13:12.000000000   \n",
       "3  30312694  R-b236e347  2019-01-01 07:00:00  2019-01-01 13:13:12.000000000   \n",
       "4  30312694  R-b236e347  2019-01-01 07:00:00  2019-01-01 13:13:12.000000000   \n",
       "5  30312694  R-b236e347  2019-01-01 07:00:00  2019-01-01 13:13:12.000000000   \n",
       "\n",
       "   delay   origin_id destination_id  distance  average_hours  truck_age  ...  \\\n",
       "0      0  C-927ceb5e     C-d80a1e7d    310.75           6.22          9  ...   \n",
       "1      0  C-927ceb5e     C-d80a1e7d    310.75           6.22          9  ...   \n",
       "2      0  C-927ceb5e     C-d80a1e7d    310.75           6.22          9  ...   \n",
       "3      0  C-927ceb5e     C-d80a1e7d    310.75           6.22          9  ...   \n",
       "4      0  C-927ceb5e     C-d80a1e7d    310.75           6.22          9  ...   \n",
       "5      0  C-927ceb5e     C-d80a1e7d    310.75           6.22          9  ...   \n",
       "\n",
       "   wind_speed  description precip humidity visibility  pressure        date  \\\n",
       "0           4   Light rain    0.0       97          6      1008  2019-01-01   \n",
       "1           4   Light rain    0.0       97          6      1008  2019-01-01   \n",
       "2           4   Light rain    0.0       97          6      1008  2019-01-01   \n",
       "3           4   Light rain    0.0       97          6      1008  2019-01-01   \n",
       "4           4   Light rain    0.0       97          6      1008  2019-01-01   \n",
       "5           4   Light rain    0.0       97          6      1008  2019-01-01   \n",
       "\n",
       "  hour  no_of_vehicles  accident  \n",
       "0    0           669.0         0  \n",
       "1  100           628.0         0  \n",
       "2  200           516.0         0  \n",
       "3  300           582.0         0  \n",
       "4  400           564.0         0  \n",
       "5  500           564.0         0  \n",
       "\n",
       "[6 rows x 26 columns]"
      ]
     },
     "execution_count": 26,
     "metadata": {},
     "output_type": "execute_result"
    }
   ],
   "source": [
    "merged_data_df4.head(6)"
   ]
  },
  {
   "cell_type": "code",
   "execution_count": 27,
   "metadata": {},
   "outputs": [
    {
     "data": {
      "text/plain": [
       "Index(['truck_id', 'route_id', 'departure_date', 'estimated_arrival', 'delay',\n",
       "       'origin_id', 'destination_id', 'distance', 'average_hours', 'truck_age',\n",
       "       'load_capacity_pounds', 'mileage_mpg', 'fuel_type',\n",
       "       'departure_date_only', 'Date', 'temp', 'wind_speed', 'description',\n",
       "       'precip', 'humidity', 'visibility', 'pressure', 'date', 'hour',\n",
       "       'no_of_vehicles', 'accident'],\n",
       "      dtype='object')"
      ]
     },
     "execution_count": 27,
     "metadata": {},
     "output_type": "execute_result"
    }
   ],
   "source": [
    "merged_data_df4.columns"
   ]
  },
  {
   "cell_type": "code",
   "execution_count": 28,
   "metadata": {},
   "outputs": [],
   "source": [
    "# Drop unnecessary columns\n",
    "merged_data_df4.drop(columns=['departure_date_only', 'Date', 'date'], inplace=True)"
   ]
  },
  {
   "cell_type": "code",
   "execution_count": 29,
   "metadata": {},
   "outputs": [
    {
     "data": {
      "text/plain": [
       "Index(['truck_id', 'route_id', 'departure_date', 'estimated_arrival', 'delay',\n",
       "       'origin_id', 'destination_id', 'distance', 'average_hours', 'truck_age',\n",
       "       'load_capacity_pounds', 'mileage_mpg', 'fuel_type', 'temp',\n",
       "       'wind_speed', 'description', 'precip', 'humidity', 'visibility',\n",
       "       'pressure', 'hour', 'no_of_vehicles', 'accident'],\n",
       "      dtype='object')"
      ]
     },
     "execution_count": 29,
     "metadata": {},
     "output_type": "execute_result"
    }
   ],
   "source": [
    "merged_data_df4.columns"
   ]
  },
  {
   "cell_type": "code",
   "execution_count": 30,
   "metadata": {},
   "outputs": [],
   "source": [
    "merged_data_df5 =  pd.merge(merged_data_df4, drivers_table_df, left_on=['truck_id'], right_on=['vehicle_no'], how='left')"
   ]
  },
  {
   "cell_type": "code",
   "execution_count": 31,
   "metadata": {},
   "outputs": [
    {
     "data": {
      "text/plain": [
       "(1022366, 32)"
      ]
     },
     "execution_count": 31,
     "metadata": {},
     "output_type": "execute_result"
    }
   ],
   "source": [
    "merged_data_df5.shape"
   ]
  },
  {
   "cell_type": "code",
   "execution_count": 32,
   "metadata": {},
   "outputs": [
    {
     "data": {
      "text/plain": [
       "Index(['truck_id', 'route_id', 'departure_date', 'estimated_arrival', 'delay',\n",
       "       'origin_id', 'destination_id', 'distance', 'average_hours', 'truck_age',\n",
       "       'load_capacity_pounds', 'mileage_mpg', 'fuel_type', 'temp',\n",
       "       'wind_speed', 'description', 'precip', 'humidity', 'visibility',\n",
       "       'pressure', 'hour', 'no_of_vehicles', 'accident', 'driver_id', 'name',\n",
       "       'gender', 'age', 'experience', 'driving_style', 'ratings', 'vehicle_no',\n",
       "       'average_speed_mph'],\n",
       "      dtype='object')"
      ]
     },
     "execution_count": 32,
     "metadata": {},
     "output_type": "execute_result"
    }
   ],
   "source": [
    "merged_data_df5.columns"
   ]
  },
  {
   "cell_type": "code",
   "execution_count": 36,
   "metadata": {},
   "outputs": [],
   "source": [
    "# Convert departure_date to just the date part for merging\n",
    "#merged_data_df5['departure_date_only'] = pd.to_datetime(merged_data_df5['departure_date']).dt.date\n",
    "\n",
    "# Convert date in city weather for merging\n",
    "#city_weather_df['date'] = pd.to_datetime(city_weather_df['date']).dt.date"
   ]
  },
  {
   "cell_type": "code",
   "execution_count": 37,
   "metadata": {},
   "outputs": [],
   "source": [
    "#merged_data_df6 = pd.merge(merged_data_df5, city_weather_df, left_on=['origin_id', 'departure_date_only'], right_on=['city_id', 'date'], how='inner', suffixes=('', '_origin_weather'))\n"
   ]
  },
  {
   "cell_type": "code",
   "execution_count": 38,
   "metadata": {},
   "outputs": [],
   "source": [
    "#merged_data_df6.shape"
   ]
  },
  {
   "cell_type": "code",
   "execution_count": 39,
   "metadata": {},
   "outputs": [],
   "source": [
    "# If you also want to include destination weather, repeat for destination_id\n",
    "#merged_data_df7 = pd.merge(merged_data_df6, city_weather_df, left_on=['destination_id', 'departure_date_only'], right_on=['city_id', 'date'], how='inner', suffixes=('', '_destination_weather'))\n"
   ]
  },
  {
   "cell_type": "code",
   "execution_count": null,
   "metadata": {},
   "outputs": [],
   "source": []
  }
 ],
 "metadata": {
  "kernelspec": {
   "display_name": "mlenv",
   "language": "python",
   "name": "python3"
  },
  "language_info": {
   "codemirror_mode": {
    "name": "ipython",
    "version": 3
   },
   "file_extension": ".py",
   "mimetype": "text/x-python",
   "name": "python",
   "nbconvert_exporter": "python",
   "pygments_lexer": "ipython3",
   "version": "3.12.3"
  }
 },
 "nbformat": 4,
 "nbformat_minor": 2
}
