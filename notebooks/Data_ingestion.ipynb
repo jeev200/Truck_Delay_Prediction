{
 "cells": [
  {
   "cell_type": "code",
   "execution_count": 1,
   "metadata": {},
   "outputs": [
    {
     "name": "stdout",
     "output_type": "stream",
     "text": [
      "Requirement already satisfied: psycopg2 in /Users/jeevanapathipati/Documents/TruckDelay/.venv/lib/python3.12/site-packages (2.9.9)\n",
      "Requirement already satisfied: pandas in /Users/jeevanapathipati/Documents/TruckDelay/.venv/lib/python3.12/site-packages (2.1.4)\n",
      "Requirement already satisfied: numpy<2,>=1.26.0 in /Users/jeevanapathipati/Documents/TruckDelay/.venv/lib/python3.12/site-packages (from pandas) (1.26.4)\n",
      "Requirement already satisfied: python-dateutil>=2.8.2 in /Users/jeevanapathipati/Documents/TruckDelay/.venv/lib/python3.12/site-packages (from pandas) (2.9.0.post0)\n",
      "Requirement already satisfied: pytz>=2020.1 in /Users/jeevanapathipati/Documents/TruckDelay/.venv/lib/python3.12/site-packages (from pandas) (2024.2)\n",
      "Requirement already satisfied: tzdata>=2022.1 in /Users/jeevanapathipati/Documents/TruckDelay/.venv/lib/python3.12/site-packages (from pandas) (2024.1)\n",
      "Requirement already satisfied: six>=1.5 in /Users/jeevanapathipati/Documents/TruckDelay/.venv/lib/python3.12/site-packages (from python-dateutil>=2.8.2->pandas) (1.16.0)\n",
      "Note: you may need to restart the kernel to use updated packages.\n"
     ]
    }
   ],
   "source": [
    "pip install psycopg2 pandas\n"
   ]
  },
  {
   "cell_type": "code",
   "execution_count": 2,
   "metadata": {},
   "outputs": [],
   "source": [
    "import psycopg2\n",
    "import pandas as pd"
   ]
  },
  {
   "cell_type": "code",
   "execution_count": 3,
   "metadata": {},
   "outputs": [],
   "source": [
    "# Database configuration settings\n",
    "db_config = {\n",
    "    'database': 'truckdb',\n",
    "    'user': 'postgres',\n",
    "    'password': 'mysecretpassword',\n",
    "    'host': 'localhost',\n",
    "    'port': '5432'\n",
    "}\n"
   ]
  },
  {
   "cell_type": "code",
   "execution_count": 4,
   "metadata": {},
   "outputs": [
    {
     "name": "stdout",
     "output_type": "stream",
     "text": [
      "Requirement already satisfied: psycopg2-binary in /Users/jeevanapathipati/Documents/TruckDelay/.venv/lib/python3.12/site-packages (2.9.9)\n",
      "Note: you may need to restart the kernel to use updated packages.\n"
     ]
    }
   ],
   "source": [
    "pip install psycopg2-binary\n"
   ]
  },
  {
   "cell_type": "code",
   "execution_count": 7,
   "metadata": {},
   "outputs": [
    {
     "name": "stdout",
     "output_type": "stream",
     "text": [
      "/Users/jeevanapathipati/Documents/TruckDelay/.venv/bin/python\n"
     ]
    }
   ],
   "source": [
    "import sys\n",
    "print(sys.executable)\n",
    "import os\n"
   ]
  },
  {
   "cell_type": "code",
   "execution_count": 9,
   "metadata": {},
   "outputs": [
    {
     "ename": "ModuleNotFoundError",
     "evalue": "No module named 'src'",
     "output_type": "error",
     "traceback": [
      "\u001b[0;31m---------------------------------------------------------------------------\u001b[0m",
      "\u001b[0;31mModuleNotFoundError\u001b[0m                       Traceback (most recent call last)",
      "\u001b[1;32m/Users/jeevanapathipati/Documents/TruckDelay/notebooks/Data_ingestion.ipynb Cell 6\u001b[0m line \u001b[0;36m4\n\u001b[1;32m      <a href='vscode-notebook-cell:/Users/jeevanapathipati/Documents/TruckDelay/notebooks/Data_ingestion.ipynb#X10sZmlsZQ%3D%3D?line=0'>1</a>\u001b[0m \u001b[39mimport\u001b[39;00m \u001b[39msys\u001b[39;00m\n\u001b[1;32m      <a href='vscode-notebook-cell:/Users/jeevanapathipati/Documents/TruckDelay/notebooks/Data_ingestion.ipynb#X10sZmlsZQ%3D%3D?line=1'>2</a>\u001b[0m sys\u001b[39m.\u001b[39mpath\u001b[39m.\u001b[39mappend(\u001b[39m'\u001b[39m\u001b[39m../src/components\u001b[39m\u001b[39m'\u001b[39m)  \u001b[39m# Ensure the path to the module is correct\u001b[39;00m\n\u001b[0;32m----> <a href='vscode-notebook-cell:/Users/jeevanapathipati/Documents/TruckDelay/notebooks/Data_ingestion.ipynb#X10sZmlsZQ%3D%3D?line=3'>4</a>\u001b[0m \u001b[39mfrom\u001b[39;00m \u001b[39msrc\u001b[39;00m\u001b[39m.\u001b[39;00m\u001b[39mcomponents\u001b[39;00m\u001b[39m.\u001b[39;00m\u001b[39mdata_ingestion\u001b[39;00m \u001b[39mimport\u001b[39;00m PostgreSQLIngestion\n\u001b[1;32m      <a href='vscode-notebook-cell:/Users/jeevanapathipati/Documents/TruckDelay/notebooks/Data_ingestion.ipynb#X10sZmlsZQ%3D%3D?line=5'>6</a>\u001b[0m \u001b[39m# Configuration for database connection\u001b[39;00m\n\u001b[1;32m      <a href='vscode-notebook-cell:/Users/jeevanapathipati/Documents/TruckDelay/notebooks/Data_ingestion.ipynb#X10sZmlsZQ%3D%3D?line=6'>7</a>\u001b[0m db_config \u001b[39m=\u001b[39m {\n\u001b[1;32m      <a href='vscode-notebook-cell:/Users/jeevanapathipati/Documents/TruckDelay/notebooks/Data_ingestion.ipynb#X10sZmlsZQ%3D%3D?line=7'>8</a>\u001b[0m     \u001b[39m'\u001b[39m\u001b[39mhost\u001b[39m\u001b[39m'\u001b[39m: \u001b[39m'\u001b[39m\u001b[39mlocalhost\u001b[39m\u001b[39m'\u001b[39m,\n\u001b[1;32m      <a href='vscode-notebook-cell:/Users/jeevanapathipati/Documents/TruckDelay/notebooks/Data_ingestion.ipynb#X10sZmlsZQ%3D%3D?line=8'>9</a>\u001b[0m     \u001b[39m'\u001b[39m\u001b[39mport\u001b[39m\u001b[39m'\u001b[39m: \u001b[39m5432\u001b[39m,\n\u001b[0;32m   (...)\u001b[0m\n\u001b[1;32m     <a href='vscode-notebook-cell:/Users/jeevanapathipati/Documents/TruckDelay/notebooks/Data_ingestion.ipynb#X10sZmlsZQ%3D%3D?line=11'>12</a>\u001b[0m     \u001b[39m'\u001b[39m\u001b[39mpassword\u001b[39m\u001b[39m'\u001b[39m: \u001b[39m'\u001b[39m\u001b[39mmysecretpassword\u001b[39m\u001b[39m'\u001b[39m\n\u001b[1;32m     <a href='vscode-notebook-cell:/Users/jeevanapathipati/Documents/TruckDelay/notebooks/Data_ingestion.ipynb#X10sZmlsZQ%3D%3D?line=12'>13</a>\u001b[0m }\n",
      "\u001b[0;31mModuleNotFoundError\u001b[0m: No module named 'src'"
     ]
    }
   ],
   "source": [
    "import sys\n",
    "sys.path.append('../src/components')  # Ensure the path to the module is correct\n",
    "\n",
    "from src.components.data_ingestion import PostgreSQLIngestion\n",
    "\n",
    "# Configuration for database connection\n",
    "db_config = {\n",
    "    'host': 'localhost',\n",
    "    'port': 5432,\n",
    "    'dbname': 'truckdb',\n",
    "    'user': 'postgres',\n",
    "    'password': 'mysecretpassword'\n",
    "}\n",
    "\n",
    "# Create an instance of the ingestion class\n",
    "ingestion = PostgreSQLIngestion(db_config)\n",
    "\n",
    "# # Use the instance to fetch data directly\n",
    "# drivers_df = ingestion.fetch_data('drivers')\n",
    "# print(drivers_df.head())  # Optionally display some data\n",
    "\n",
    "# # Proceed with data cleaning\n",
    "# # For example:\n",
    "# drivers_df.dropna(inplace=True)\n",
    "# drivers_df['experience'] = drivers_df['experience'].astype(int)\n"
   ]
  },
  {
   "cell_type": "code",
   "execution_count": null,
   "metadata": {},
   "outputs": [],
   "source": []
  }
 ],
 "metadata": {
  "kernelspec": {
   "display_name": ".venv",
   "language": "python",
   "name": "python3"
  },
  "language_info": {
   "codemirror_mode": {
    "name": "ipython",
    "version": 3
   },
   "file_extension": ".py",
   "mimetype": "text/x-python",
   "name": "python",
   "nbconvert_exporter": "python",
   "pygments_lexer": "ipython3",
   "version": "3.12.0"
  }
 },
 "nbformat": 4,
 "nbformat_minor": 2
}
