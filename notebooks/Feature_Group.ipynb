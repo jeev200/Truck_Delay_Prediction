{
 "cells": [
  {
   "cell_type": "code",
   "execution_count": 1,
   "metadata": {},
   "outputs": [
    {
     "name": "stdout",
     "output_type": "stream",
     "text": [
      "Copy your Api Key (first register/login): https://c.app.hopsworks.ai/account/api/generated\n",
      "Connected. Call `.close()` to terminate connection gracefully.\n",
      "\n",
      "Logged in to project, explore it here https://c.app.hopsworks.ai:443/p/1043608\n",
      "2024-09-19 13:54:49,199 WARNING: DeprecationWarning: The 'warn' method is deprecated, use 'warning' instead\n",
      "\n",
      "2024-09-19 13:54:49,199 WARNING: using legacy validation callback\n",
      "Connected. Call `.close()` to terminate connection gracefully.\n"
     ]
    }
   ],
   "source": [
    "\n",
    "import hopsworks\n",
    "\n",
    "project = hopsworks.login()\n",
    "\n",
    "fs = project.get_feature_store()"
   ]
  },
  {
   "cell_type": "code",
   "execution_count": 2,
   "metadata": {},
   "outputs": [],
   "source": [
    "import pandas as pd"
   ]
  },
  {
   "cell_type": "code",
   "execution_count": 15,
   "metadata": {},
   "outputs": [],
   "source": [
    "traffic_df = pd.read_csv('/Users/jeevanapathipati/Documents/TruckDelay/data/cleaned/traffic_cleaned.csv')\n",
    "route_df = pd.read_csv('/Users/jeevanapathipati/Documents/TruckDelay/data/cleaned/routes_cleaned.csv')\n",
    "city_weather_df = pd.read_csv('/Users/jeevanapathipati/Documents/TruckDelay/data/cleaned/city_weather_cleaned.csv')\n",
    "drivers_table_df = pd.read_csv('/Users/jeevanapathipati/Documents/TruckDelay/data/cleaned/drivers_cleaned.csv')\n",
    "route_weather_df = pd.read_csv('/Users/jeevanapathipati/Documents/TruckDelay/data/cleaned/routes_weather_cleaned.csv')\n",
    "truck_schedule_df = pd.read_csv('/Users/jeevanapathipati/Documents/TruckDelay/data/cleaned/truck_schedule_cleaned.csv')\n",
    "truck_df = pd.read_csv('/Users/jeevanapathipati/Documents/TruckDelay/data/cleaned/trucks_cleaned.csv')"
   ]
  },
  {
   "cell_type": "code",
   "execution_count": 20,
   "metadata": {},
   "outputs": [
    {
     "name": "stdout",
     "output_type": "stream",
     "text": [
      "<class 'pandas.core.frame.DataFrame'>\n",
      "RangeIndex: 2597913 entries, 0 to 2597912\n",
      "Data columns (total 6 columns):\n",
      " #   Column          Dtype  \n",
      "---  ------          -----  \n",
      " 0   route_id        object \n",
      " 1   no_of_vehicles  float64\n",
      " 2   accident        int64  \n",
      " 3   datetime        object \n",
      " 4   index           int64  \n",
      " 5   eventtime       object \n",
      "dtypes: float64(1), int64(2), object(3)\n",
      "memory usage: 118.9+ MB\n"
     ]
    }
   ],
   "source": [
    "traffic_df.info()"
   ]
  },
  {
   "cell_type": "code",
   "execution_count": 16,
   "metadata": {},
   "outputs": [
    {
     "data": {
      "text/html": [
       "<div>\n",
       "<style scoped>\n",
       "    .dataframe tbody tr th:only-of-type {\n",
       "        vertical-align: middle;\n",
       "    }\n",
       "\n",
       "    .dataframe tbody tr th {\n",
       "        vertical-align: top;\n",
       "    }\n",
       "\n",
       "    .dataframe thead th {\n",
       "        text-align: right;\n",
       "    }\n",
       "</style>\n",
       "<table border=\"1\" class=\"dataframe\">\n",
       "  <thead>\n",
       "    <tr style=\"text-align: right;\">\n",
       "      <th></th>\n",
       "      <th>city_id</th>\n",
       "      <th>temp</th>\n",
       "      <th>wind_speed</th>\n",
       "      <th>description</th>\n",
       "      <th>humidity</th>\n",
       "      <th>pressure</th>\n",
       "      <th>datetime</th>\n",
       "      <th>index</th>\n",
       "      <th>eventtime</th>\n",
       "    </tr>\n",
       "  </thead>\n",
       "  <tbody>\n",
       "    <tr>\n",
       "      <th>0</th>\n",
       "      <td>C-927ceb5e</td>\n",
       "      <td>30</td>\n",
       "      <td>11</td>\n",
       "      <td>Light snow</td>\n",
       "      <td>86</td>\n",
       "      <td>1019</td>\n",
       "      <td>2019-01-01 00:00:00</td>\n",
       "      <td>0</td>\n",
       "      <td>2024-09-19</td>\n",
       "    </tr>\n",
       "    <tr>\n",
       "      <th>1</th>\n",
       "      <td>C-927ceb5e</td>\n",
       "      <td>28</td>\n",
       "      <td>12</td>\n",
       "      <td>Light snow</td>\n",
       "      <td>86</td>\n",
       "      <td>1021</td>\n",
       "      <td>2019-01-01 01:00:00</td>\n",
       "      <td>1</td>\n",
       "      <td>2024-09-19</td>\n",
       "    </tr>\n",
       "    <tr>\n",
       "      <th>2</th>\n",
       "      <td>C-927ceb5e</td>\n",
       "      <td>28</td>\n",
       "      <td>13</td>\n",
       "      <td>Moderate snow</td>\n",
       "      <td>85</td>\n",
       "      <td>1022</td>\n",
       "      <td>2019-01-01 02:00:00</td>\n",
       "      <td>2</td>\n",
       "      <td>2024-09-19</td>\n",
       "    </tr>\n",
       "    <tr>\n",
       "      <th>3</th>\n",
       "      <td>C-927ceb5e</td>\n",
       "      <td>28</td>\n",
       "      <td>14</td>\n",
       "      <td>Moderate snow</td>\n",
       "      <td>84</td>\n",
       "      <td>1024</td>\n",
       "      <td>2019-01-01 03:00:00</td>\n",
       "      <td>3</td>\n",
       "      <td>2024-09-19</td>\n",
       "    </tr>\n",
       "    <tr>\n",
       "      <th>4</th>\n",
       "      <td>C-927ceb5e</td>\n",
       "      <td>28</td>\n",
       "      <td>13</td>\n",
       "      <td>Moderate snow</td>\n",
       "      <td>84</td>\n",
       "      <td>1025</td>\n",
       "      <td>2019-01-01 04:00:00</td>\n",
       "      <td>4</td>\n",
       "      <td>2024-09-19</td>\n",
       "    </tr>\n",
       "    <tr>\n",
       "      <th>...</th>\n",
       "      <td>...</td>\n",
       "      <td>...</td>\n",
       "      <td>...</td>\n",
       "      <td>...</td>\n",
       "      <td>...</td>\n",
       "      <td>...</td>\n",
       "      <td>...</td>\n",
       "      <td>...</td>\n",
       "      <td>...</td>\n",
       "    </tr>\n",
       "    <tr>\n",
       "      <th>52071</th>\n",
       "      <td>C-594514f8</td>\n",
       "      <td>23</td>\n",
       "      <td>3</td>\n",
       "      <td>Cloudy</td>\n",
       "      <td>74</td>\n",
       "      <td>1018</td>\n",
       "      <td>2019-02-15 19:00:00</td>\n",
       "      <td>52071</td>\n",
       "      <td>2024-09-19</td>\n",
       "    </tr>\n",
       "    <tr>\n",
       "      <th>52072</th>\n",
       "      <td>C-594514f8</td>\n",
       "      <td>23</td>\n",
       "      <td>3</td>\n",
       "      <td>Light snow</td>\n",
       "      <td>74</td>\n",
       "      <td>1018</td>\n",
       "      <td>2019-02-15 20:00:00</td>\n",
       "      <td>52072</td>\n",
       "      <td>2024-09-19</td>\n",
       "    </tr>\n",
       "    <tr>\n",
       "      <th>52073</th>\n",
       "      <td>C-594514f8</td>\n",
       "      <td>23</td>\n",
       "      <td>3</td>\n",
       "      <td>Light snow</td>\n",
       "      <td>75</td>\n",
       "      <td>1019</td>\n",
       "      <td>2019-02-15 21:00:00</td>\n",
       "      <td>52073</td>\n",
       "      <td>2024-09-19</td>\n",
       "    </tr>\n",
       "    <tr>\n",
       "      <th>52074</th>\n",
       "      <td>C-594514f8</td>\n",
       "      <td>23</td>\n",
       "      <td>2</td>\n",
       "      <td>Light snow</td>\n",
       "      <td>75</td>\n",
       "      <td>1019</td>\n",
       "      <td>2019-02-15 22:00:00</td>\n",
       "      <td>52074</td>\n",
       "      <td>2024-09-19</td>\n",
       "    </tr>\n",
       "    <tr>\n",
       "      <th>52075</th>\n",
       "      <td>C-594514f8</td>\n",
       "      <td>23</td>\n",
       "      <td>2</td>\n",
       "      <td>Light snow</td>\n",
       "      <td>75</td>\n",
       "      <td>1019</td>\n",
       "      <td>2019-02-15 23:00:00</td>\n",
       "      <td>52075</td>\n",
       "      <td>2024-09-19</td>\n",
       "    </tr>\n",
       "  </tbody>\n",
       "</table>\n",
       "<p>52076 rows × 9 columns</p>\n",
       "</div>"
      ],
      "text/plain": [
       "          city_id  temp  wind_speed    description  humidity  pressure  \\\n",
       "0      C-927ceb5e    30          11     Light snow        86      1019   \n",
       "1      C-927ceb5e    28          12     Light snow        86      1021   \n",
       "2      C-927ceb5e    28          13  Moderate snow        85      1022   \n",
       "3      C-927ceb5e    28          14  Moderate snow        84      1024   \n",
       "4      C-927ceb5e    28          13  Moderate snow        84      1025   \n",
       "...           ...   ...         ...            ...       ...       ...   \n",
       "52071  C-594514f8    23           3         Cloudy        74      1018   \n",
       "52072  C-594514f8    23           3     Light snow        74      1018   \n",
       "52073  C-594514f8    23           3     Light snow        75      1019   \n",
       "52074  C-594514f8    23           2     Light snow        75      1019   \n",
       "52075  C-594514f8    23           2     Light snow        75      1019   \n",
       "\n",
       "                  datetime  index   eventtime  \n",
       "0      2019-01-01 00:00:00      0  2024-09-19  \n",
       "1      2019-01-01 01:00:00      1  2024-09-19  \n",
       "2      2019-01-01 02:00:00      2  2024-09-19  \n",
       "3      2019-01-01 03:00:00      3  2024-09-19  \n",
       "4      2019-01-01 04:00:00      4  2024-09-19  \n",
       "...                    ...    ...         ...  \n",
       "52071  2019-02-15 19:00:00  52071  2024-09-19  \n",
       "52072  2019-02-15 20:00:00  52072  2024-09-19  \n",
       "52073  2019-02-15 21:00:00  52073  2024-09-19  \n",
       "52074  2019-02-15 22:00:00  52074  2024-09-19  \n",
       "52075  2019-02-15 23:00:00  52075  2024-09-19  \n",
       "\n",
       "[52076 rows x 9 columns]"
      ]
     },
     "execution_count": 16,
     "metadata": {},
     "output_type": "execute_result"
    }
   ],
   "source": [
    "city_weather_df"
   ]
  },
  {
   "cell_type": "code",
   "execution_count": 6,
   "metadata": {},
   "outputs": [],
   "source": [
    "city_weather_df['eventtime'] = pd.to_datetime(city_weather_df['eventtime'])"
   ]
  },
  {
   "cell_type": "code",
   "execution_count": 7,
   "metadata": {},
   "outputs": [
    {
     "name": "stdout",
     "output_type": "stream",
     "text": [
      "Feature Group created successfully, explore it at \n",
      "https://c.app.hopsworks.ai:443/p/1043608/fs/1035335/fg/1203541\n"
     ]
    },
    {
     "data": {
      "application/vnd.jupyter.widget-view+json": {
       "model_id": "1a8b618df26a4f4fb2b7d34a63b1366d",
       "version_major": 2,
       "version_minor": 0
      },
      "text/plain": [
       "Uploading Dataframe: 0.00% |          | Rows 0/52076 | Elapsed Time: 00:00 | Remaining Time: ?"
      ]
     },
     "metadata": {},
     "output_type": "display_data"
    },
    {
     "name": "stdout",
     "output_type": "stream",
     "text": [
      "Launching job: city_weather_1_offline_fg_materialization\n",
      "Job started successfully, you can follow the progress at \n",
      "https://c.app.hopsworks.ai/p/1043608/jobs/named/city_weather_1_offline_fg_materialization/executions\n"
     ]
    },
    {
     "data": {
      "text/plain": [
       "(<hsfs.core.job.Job at 0x28af9be00>, None)"
      ]
     },
     "execution_count": 7,
     "metadata": {},
     "output_type": "execute_result"
    }
   ],
   "source": [
    "city_weather_fg = fs.get_or_create_feature_group(\n",
    "    name=\"city_weather\",\n",
    "    version=1,\n",
    "    description=\"Features of city weather table\",\n",
    "    online_enabled=True,\n",
    "    primary_key=['index'],\n",
    "    event_time='eventtime'\n",
    ")\n",
    "\n",
    "city_weather_fg.insert(city_weather_df)"
   ]
  },
  {
   "cell_type": "code",
   "execution_count": 8,
   "metadata": {},
   "outputs": [],
   "source": [
    "traffic_df['eventtime'] = pd.to_datetime(traffic_df['eventtime'])"
   ]
  },
  {
   "cell_type": "code",
   "execution_count": 9,
   "metadata": {},
   "outputs": [
    {
     "name": "stdout",
     "output_type": "stream",
     "text": [
      "Feature Group created successfully, explore it at \n",
      "https://c.app.hopsworks.ai:443/p/1043608/fs/1035335/fg/1204561\n"
     ]
    },
    {
     "data": {
      "application/vnd.jupyter.widget-view+json": {
       "model_id": "fafd7342ec99430e87321078922c7fa5",
       "version_major": 2,
       "version_minor": 0
      },
      "text/plain": [
       "Uploading Dataframe: 0.00% |          | Rows 0/2597913 | Elapsed Time: 00:00 | Remaining Time: ?"
      ]
     },
     "metadata": {},
     "output_type": "display_data"
    },
    {
     "name": "stdout",
     "output_type": "stream",
     "text": [
      "Launching job: traffic_1_offline_fg_materialization\n",
      "Job started successfully, you can follow the progress at \n",
      "https://c.app.hopsworks.ai/p/1043608/jobs/named/traffic_1_offline_fg_materialization/executions\n"
     ]
    },
    {
     "data": {
      "text/plain": [
       "(<hsfs.core.job.Job at 0x28b314f80>, None)"
      ]
     },
     "execution_count": 9,
     "metadata": {},
     "output_type": "execute_result"
    }
   ],
   "source": [
    "traffic_fg = fs.get_or_create_feature_group(\n",
    "    name=\"traffic\",\n",
    "    version=1,\n",
    "    description=\"Features of traffic table\",\n",
    "    online_enabled=True,\n",
    "    primary_key=['index'],\n",
    "    event_time='eventtime'\n",
    ")\n",
    "\n",
    "traffic_fg.insert(traffic_df)"
   ]
  },
  {
   "cell_type": "code",
   "execution_count": 11,
   "metadata": {},
   "outputs": [],
   "source": [
    "truck_schedule_df['eventtime'] = pd.to_datetime(truck_schedule_df['eventtime'])"
   ]
  },
  {
   "cell_type": "code",
   "execution_count": 12,
   "metadata": {},
   "outputs": [
    {
     "name": "stdout",
     "output_type": "stream",
     "text": [
      "Feature Group created successfully, explore it at \n",
      "https://c.app.hopsworks.ai:443/p/1043608/fs/1035335/fg/1204562\n"
     ]
    },
    {
     "data": {
      "application/vnd.jupyter.widget-view+json": {
       "model_id": "ea3be71e5e0b456da26c87f4706b2439",
       "version_major": 2,
       "version_minor": 0
      },
      "text/plain": [
       "Uploading Dataframe: 0.00% |          | Rows 0/12308 | Elapsed Time: 00:00 | Remaining Time: ?"
      ]
     },
     "metadata": {},
     "output_type": "display_data"
    },
    {
     "name": "stdout",
     "output_type": "stream",
     "text": [
      "Launching job: truck_schedule_1_offline_fg_materialization\n",
      "Job started successfully, you can follow the progress at \n",
      "https://c.app.hopsworks.ai/p/1043608/jobs/named/truck_schedule_1_offline_fg_materialization/executions\n"
     ]
    },
    {
     "data": {
      "text/plain": [
       "(<hsfs.core.job.Job at 0x28b219070>, None)"
      ]
     },
     "execution_count": 12,
     "metadata": {},
     "output_type": "execute_result"
    }
   ],
   "source": [
    "truck_schedule_fg = fs.get_or_create_feature_group(\n",
    "    name=\"truck_schedule\",\n",
    "    version=1,\n",
    "    description=\"Features of truck schedule table\",\n",
    "    online_enabled=True,\n",
    "    primary_key=['index'],\n",
    "    event_time='eventtime'\n",
    ")\n",
    "\n",
    "truck_schedule_fg.insert(truck_schedule_df)"
   ]
  },
  {
   "cell_type": "code",
   "execution_count": 13,
   "metadata": {},
   "outputs": [],
   "source": [
    "truck_df['eventtime'] = pd.to_datetime(truck_df['eventtime'])"
   ]
  },
  {
   "cell_type": "code",
   "execution_count": 14,
   "metadata": {},
   "outputs": [
    {
     "name": "stdout",
     "output_type": "stream",
     "text": [
      "Feature Group created successfully, explore it at \n",
      "https://c.app.hopsworks.ai:443/p/1043608/fs/1035335/fg/1203543\n"
     ]
    },
    {
     "data": {
      "application/vnd.jupyter.widget-view+json": {
       "model_id": "d3e49e1ac73245139896e9657f9055e4",
       "version_major": 2,
       "version_minor": 0
      },
      "text/plain": [
       "Uploading Dataframe: 0.00% |          | Rows 0/1300 | Elapsed Time: 00:00 | Remaining Time: ?"
      ]
     },
     "metadata": {},
     "output_type": "display_data"
    },
    {
     "name": "stdout",
     "output_type": "stream",
     "text": [
      "Launching job: truck_1_offline_fg_materialization\n",
      "Job started successfully, you can follow the progress at \n",
      "https://c.app.hopsworks.ai/p/1043608/jobs/named/truck_1_offline_fg_materialization/executions\n"
     ]
    },
    {
     "data": {
      "text/plain": [
       "(<hsfs.core.job.Job at 0x28bd41af0>, None)"
      ]
     },
     "execution_count": 14,
     "metadata": {},
     "output_type": "execute_result"
    }
   ],
   "source": [
    "truck_fg = fs.get_or_create_feature_group(\n",
    "    name=\"truck\",\n",
    "    version=1,\n",
    "    description=\"Features of truck table\",\n",
    "    online_enabled=True,\n",
    "    primary_key=['index'],\n",
    "    event_time='eventtime'\n",
    ")\n",
    "\n",
    "truck_fg.insert(truck_df)"
   ]
  },
  {
   "cell_type": "code",
   "execution_count": 17,
   "metadata": {},
   "outputs": [],
   "source": [
    "route_df['eventtime'] = pd.to_datetime(route_df['eventtime'])"
   ]
  },
  {
   "cell_type": "code",
   "execution_count": 18,
   "metadata": {},
   "outputs": [
    {
     "name": "stdout",
     "output_type": "stream",
     "text": [
      "Feature Group created successfully, explore it at \n",
      "https://c.app.hopsworks.ai:443/p/1043608/fs/1035335/fg/1202525\n"
     ]
    },
    {
     "data": {
      "application/vnd.jupyter.widget-view+json": {
       "model_id": "4ac6c335b52a4cd5a6fa849ef6cd0247",
       "version_major": 2,
       "version_minor": 0
      },
      "text/plain": [
       "Uploading Dataframe: 0.00% |          | Rows 0/1896 | Elapsed Time: 00:00 | Remaining Time: ?"
      ]
     },
     "metadata": {},
     "output_type": "display_data"
    },
    {
     "name": "stdout",
     "output_type": "stream",
     "text": [
      "Launching job: route_1_offline_fg_materialization\n",
      "Job started successfully, you can follow the progress at \n",
      "https://c.app.hopsworks.ai/p/1043608/jobs/named/route_1_offline_fg_materialization/executions\n"
     ]
    },
    {
     "data": {
      "text/plain": [
       "(<hsfs.core.job.Job at 0x28bcbb290>, None)"
      ]
     },
     "execution_count": 18,
     "metadata": {},
     "output_type": "execute_result"
    }
   ],
   "source": [
    "route_fg = fs.get_or_create_feature_group(\n",
    "    name=\"route\",\n",
    "    version=1,\n",
    "    description=\"Features of route table\",\n",
    "    online_enabled=True,\n",
    "    primary_key=['index'],\n",
    "    event_time='eventtime'\n",
    ")\n",
    "\n",
    "route_fg.insert(route_df)"
   ]
  },
  {
   "cell_type": "code",
   "execution_count": 23,
   "metadata": {},
   "outputs": [],
   "source": [
    "drivers_table_df['eventtime'] = pd.to_datetime(drivers_table_df['eventtime'])"
   ]
  },
  {
   "cell_type": "code",
   "execution_count": 24,
   "metadata": {},
   "outputs": [
    {
     "name": "stdout",
     "output_type": "stream",
     "text": [
      "Feature Group created successfully, explore it at \n",
      "https://c.app.hopsworks.ai:443/p/1043608/fs/1035335/fg/1202533\n"
     ]
    },
    {
     "data": {
      "application/vnd.jupyter.widget-view+json": {
       "model_id": "e3e5a09748d3425b937d87feda6f3247",
       "version_major": 2,
       "version_minor": 0
      },
      "text/plain": [
       "Uploading Dataframe: 0.00% |          | Rows 0/1283 | Elapsed Time: 00:00 | Remaining Time: ?"
      ]
     },
     "metadata": {},
     "output_type": "display_data"
    },
    {
     "name": "stdout",
     "output_type": "stream",
     "text": [
      "Launching job: drivers_1_offline_fg_materialization\n",
      "Job started successfully, you can follow the progress at \n",
      "https://c.app.hopsworks.ai/p/1043608/jobs/named/drivers_1_offline_fg_materialization/executions\n"
     ]
    },
    {
     "data": {
      "text/plain": [
       "(<hsfs.core.job.Job at 0x28bcab4a0>, None)"
      ]
     },
     "execution_count": 24,
     "metadata": {},
     "output_type": "execute_result"
    }
   ],
   "source": [
    "drivers_table_fg = fs.get_or_create_feature_group(\n",
    "    name=\"drivers\",\n",
    "    version=1,\n",
    "    description=\"Features of drivers table\",\n",
    "    primary_key=['index'],\n",
    "    event_time='eventtime'\n",
    ")\n",
    "\n",
    "drivers_table_fg.insert(drivers_table_df)"
   ]
  },
  {
   "cell_type": "code",
   "execution_count": 27,
   "metadata": {},
   "outputs": [],
   "source": [
    "route_weather_df['eventtime'] = pd.to_datetime(route_weather_df['eventtime'])"
   ]
  },
  {
   "cell_type": "code",
   "execution_count": 29,
   "metadata": {},
   "outputs": [
    {
     "name": "stdout",
     "output_type": "stream",
     "text": [
      "2024-09-19 15:31:03,765 WARNING: FeatureGroupWarning: The ingested dataframe contains upper case letters in feature names: `['Date']`. Feature names are sanitized to lower case in the feature store.\n",
      "\n",
      "Feature Group created successfully, explore it at \n",
      "https://c.app.hopsworks.ai:443/p/1043608/fs/1035335/fg/1202536\n"
     ]
    },
    {
     "data": {
      "application/vnd.jupyter.widget-view+json": {
       "model_id": "efa5fa62fd4c42efba658037ea826024",
       "version_major": 2,
       "version_minor": 0
      },
      "text/plain": [
       "Uploading Dataframe: 0.00% |          | Rows 0/314931 | Elapsed Time: 00:00 | Remaining Time: ?"
      ]
     },
     "metadata": {},
     "output_type": "display_data"
    },
    {
     "name": "stdout",
     "output_type": "stream",
     "text": [
      "Launching job: route_weather_1_offline_fg_materialization\n",
      "Job started successfully, you can follow the progress at \n",
      "https://c.app.hopsworks.ai/p/1043608/jobs/named/route_weather_1_offline_fg_materialization/executions\n"
     ]
    },
    {
     "data": {
      "text/plain": [
       "(<hsfs.core.job.Job at 0x28bd5ba70>, None)"
      ]
     },
     "execution_count": 29,
     "metadata": {},
     "output_type": "execute_result"
    }
   ],
   "source": [
    "route_weather_fg = fs.get_or_create_feature_group(\n",
    "    name=\"route_weather\",\n",
    "    version=1,\n",
    "    description=\"Features of route weather table\",\n",
    "    primary_key=['index'],\n",
    "    event_time='eventtime'\n",
    ")\n",
    "\n",
    "route_weather_fg.insert(route_weather_df)"
   ]
  },
  {
   "cell_type": "code",
   "execution_count": null,
   "metadata": {},
   "outputs": [],
   "source": []
  }
 ],
 "metadata": {
  "kernelspec": {
   "display_name": ".venv",
   "language": "python",
   "name": "python3"
  },
  "language_info": {
   "codemirror_mode": {
    "name": "ipython",
    "version": 3
   },
   "file_extension": ".py",
   "mimetype": "text/x-python",
   "name": "python",
   "nbconvert_exporter": "python",
   "pygments_lexer": "ipython3",
   "version": "3.12.0"
  }
 },
 "nbformat": 4,
 "nbformat_minor": 2
}
